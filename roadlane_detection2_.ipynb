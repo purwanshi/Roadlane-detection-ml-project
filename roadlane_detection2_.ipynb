{
  "nbformat": 4,
  "nbformat_minor": 0,
  "metadata": {
    "colab": {
      "provenance": [],
      "gpuType": "T4"
    },
    "kernelspec": {
      "name": "python3",
      "display_name": "Python 3"
    },
    "language_info": {
      "name": "python"
    },
    "accelerator": "GPU"
  },
  "cells": [
    {
      "cell_type": "code",
      "source": [
        "import numpy as np\n",
        "import pandas as pd\n",
        "!pip install opencv-python\n",
        "import cv2\n",
        "from google.colab.patches import cv2_imshow\n",
        "!pip install moviepy==1.0.3\n",
        "from moviepy.editor import VideoFileClip, VideoClip\n",
        "!pip install colorama\n",
        "from colorama import Fore, Style#library used to add color to print statements\n",
        "\n",
        "\n",
        "#image is grayscaled and gussain blurredd to reduce noise and enchane image characteristics then image is subjeted to canny edge detection\n",
        "#it  computes gradient in all directions of our blurred image and traces the edges with large changes in intensity.\n",
        "# a region is obtained by creating a mask whose size is = size of image and bitwise AND operation is performed between pixels of canny image and mask\n",
        "\n",
        "def region_selection(image):#mask our canny image\n",
        "    mask = np.zeros_like(image)# create a mask of same size as of image filledwith zeroes black this serves as region of intrest mask\n",
        "    if len(image.shape) > 2:\n",
        "        channel_count = image.shape[2]#if channel has multiple RGB set the same no. of channel for the mask\n",
        "\n",
        "        ignore_mask_color = (255,) * channel_count\n",
        "    else:\n",
        "        ignore_mask_color = 255\n",
        "\n",
        "    rows, cols = image.shape[:2]\n",
        "    bottom_left = [cols * 0.1, rows * 0.95]#polygonal countours of our mask\n",
        "\n",
        "    top_left = [cols * 0.4, rows * 0.6]\n",
        "    top_right = [cols * 0.6, rows * 0.6]\n",
        "    bottom_right = [cols * 0.9, rows * 0.95]\n",
        "\n",
        "    vertices = np.array([[bottom_left, top_left, top_right, bottom_right]], dtype=np.int32)\n",
        "    cv2.fillPoly(mask, vertices, ignore_mask_color)#fill the region defined by our vertices to create mask .evrything else is masked out this redue noise and smoothen image\n",
        "    masked_image = cv2.bitwise_and(image, mask)#apply mask to image to extract our region of intrest(our lane)\n",
        "    return masked_image\n",
        "\n",
        "def hough_transform(image):#extract staright lane lines based on edge points from our gussia blured and grayscaled image\n",
        "    rho = 1 #distance resolution is  pixel\n",
        "    theta = np.pi / 180 #angular resolution is 1 degree\n",
        "    threshold = 20 #min votes to detect a line\n",
        "    min_line_length = 20 #min length of line to be accepted\n",
        "    max_line_gap = 300 #max gap taht an be accpeted between line segments to be considere as a line\n",
        "    lines = cv2.HoughLinesP(image, rho, theta, threshold, np.array([]), min_line_length, max_line_gap)\n",
        "    return lines\n",
        "\n",
        "\n",
        "\n",
        "def average_slope_intercept(lines):#detect left and right lanes by averaging slopes and intercepts\n",
        "    left_lines = []\n",
        "    left_weights = []\n",
        "    right_lines = []\n",
        "    right_weights = []\n",
        "    for line in lines:\n",
        "        for x1, y1, x2, y2 in line:\n",
        "            if x1 == x2:\n",
        "                continue  # Skip vertical lines\n",
        "\n",
        "            slope = (y2 - y1) / (x2 - x1)\n",
        "            intercept = y1 - slope * x1\n",
        "            length = np.sqrt((y2 - y1) ** 2 + (x2 - x1) ** 2)\n",
        "\n",
        "            if slope < 0:  # Left lane\n",
        "                left_lines.append((slope, intercept))\n",
        "                left_weights.append(length)\n",
        "            else:  # Right lane\n",
        "                right_lines.append((slope, intercept))\n",
        "                right_weights.append(length)\n",
        "\n",
        "\n",
        "    # use lenght of lines as weights to find avg slopes and intercepts\n",
        "    left_lane = np.dot(left_weights, left_lines) / np.sum(left_weights) if left_lines else None\n",
        "    right_lane = np.dot(right_weights, right_lines) / np.sum(right_weights) if right_lines else None\n",
        "    return left_lane, right_lane\n",
        "\n",
        "\n",
        "#convert lines slope and intercept to pixel coordinates\n",
        "def pixel_points(y1, y2, line):\n",
        "    if line is None:\n",
        "        return None\n",
        "    slope, intercept = line\n",
        "    x1 = int((y1 - intercept) / slope)\n",
        "    x2 = int((y2 - intercept) / slope)\n",
        "    y1 = int(y1)\n",
        "    y2 = int(y2)\n",
        "    return ((x1, y1), (x2, y2))\n",
        "\n",
        "\n",
        "# Use the pixel points and slopes to create the full left and right lane lines that span the bottom and middle portions of the frame.#\n",
        "def lane_lines(image, lines):\n",
        "  left_lane, right_lane = average_slope_intercept(lines)\n",
        "    y1 = image.shape[0]  # Bottom of the image\n",
        "    y2 = int(y1 * 0.6)   # Slightly lower than the middle\n",
        "\n",
        "    left_line = pixel_points(y1, y2, left_lane)\n",
        "    right_line = pixel_points(y1, y2, right_lane)\n",
        "\n",
        "    return left_line, right_line\n",
        "\n",
        "# Global variable to limit imshow calls\n",
        "frame_count = 0\n",
        "\n",
        "def frame_processor(image):\n",
        "    global frame_count\n",
        "    grayscale = cv2.cvtColor(image, cv2.COLOR_RGB2GRAY)\n",
        "    print(Fore.GREEN + \"Grayscale conversion complete\" + Style.RESET_ALL)#convert to grayscale\n",
        "\n",
        "    kernel_size = 5\n",
        "    blur_gray = cv2.GaussianBlur(grayscale, (kernel_size, kernel_size), 0)#educe noise in the image and smoothing out small edges that could interfere with edge detection.\n",
        "    print(Fore.BLUE + \"Gaussian blur applied\" + Style.RESET_ALL)\n",
        "\n",
        "    low_threshold = 50\n",
        "    high_threshold = 150\n",
        "    edges = cv2.Canny(blur_gray, low_threshold, high_threshold)\n",
        "\n",
        "    # Show edges and region of interest for the first frame only\n",
        "    if frame_count == 0:\n",
        "        cv2_imshow(edges)\n",
        "\n",
        "    region = region_selection(edges)\n",
        "\n",
        "    if frame_count == 0:\n",
        "        cv2_imshow(region)#show edges and masked region\n",
        "\n",
        "    lines = hough_transform(region)\n",
        "\n",
        "    if lines is not None:\n",
        "        left_line, right_line = lane_lines(image, lines)\n",
        "        line_image = np.zeros_like(image)\n",
        "\n",
        "        # Draw the lines if they exist\n",
        "        if left_line:\n",
        "            cv2.line(line_image, left_line[0], left_line[1], (0, 255, 0), 10)\n",
        "        if right_line:\n",
        "            cv2.line(line_image, right_line[0], right_line[1], (0, 255, 0), 10)\n",
        "\n",
        "        # Overlay the lines on the original image\n",
        "        image = cv2.addWeighted(image, 0.8, line_image, 1, 0)\n",
        "\n",
        "    # Increment frame count\n",
        "    frame_count += 1\n",
        "\n",
        "    return image\n",
        "\n",
        "def process_video(input_video_path, output_video_path):\n",
        "    clip = VideoFileClip(input_video_path)\n",
        "\n",
        "    def make_frame(t):\n",
        "        frame = frame_processor(clip.get_frame(t))\n",
        "        return frame\n",
        "\n",
        "    processed_clip = VideoClip(make_frame, duration=clip.duration)\n",
        "    processed_clip.fps = clip.fps\n",
        "    processed_clip.write_videofile(output_video_path, audio=False)\n",
        "\n",
        "# Example call\n",
        "process_video('/content/lane.mp4', 'output_video.mp4')\n"
      ],
      "metadata": {
        "id": "Pc8GFs2UzKmI",
        "colab": {
          "base_uri": "https://localhost:8080/",
          "height": 1000
        },
        "outputId": "017962dd-e3ee-4c0a-ab6b-2012334d7be0"
      },
      "execution_count": 67,
      "outputs": [
        {
          "output_type": "stream",
          "name": "stdout",
          "text": [
            "Requirement already satisfied: opencv-python in /usr/local/lib/python3.10/dist-packages (4.10.0.84)\n",
            "Requirement already satisfied: numpy>=1.21.2 in /usr/local/lib/python3.10/dist-packages (from opencv-python) (1.26.4)\n",
            "Requirement already satisfied: moviepy==1.0.3 in /usr/local/lib/python3.10/dist-packages (1.0.3)\n",
            "Requirement already satisfied: decorator<5.0,>=4.0.2 in /usr/local/lib/python3.10/dist-packages (from moviepy==1.0.3) (4.4.2)\n",
            "Requirement already satisfied: tqdm<5.0,>=4.11.2 in /usr/local/lib/python3.10/dist-packages (from moviepy==1.0.3) (4.66.5)\n",
            "Requirement already satisfied: requests<3.0,>=2.8.1 in /usr/local/lib/python3.10/dist-packages (from moviepy==1.0.3) (2.32.3)\n",
            "Requirement already satisfied: proglog<=1.0.0 in /usr/local/lib/python3.10/dist-packages (from moviepy==1.0.3) (0.1.10)\n",
            "Requirement already satisfied: numpy>=1.17.3 in /usr/local/lib/python3.10/dist-packages (from moviepy==1.0.3) (1.26.4)\n",
            "Requirement already satisfied: imageio<3.0,>=2.5 in /usr/local/lib/python3.10/dist-packages (from moviepy==1.0.3) (2.35.1)\n",
            "Requirement already satisfied: imageio-ffmpeg>=0.2.0 in /usr/local/lib/python3.10/dist-packages (from moviepy==1.0.3) (0.5.1)\n",
            "Requirement already satisfied: pillow>=8.3.2 in /usr/local/lib/python3.10/dist-packages (from imageio<3.0,>=2.5->moviepy==1.0.3) (10.4.0)\n",
            "Requirement already satisfied: setuptools in /usr/local/lib/python3.10/dist-packages (from imageio-ffmpeg>=0.2.0->moviepy==1.0.3) (71.0.4)\n",
            "Requirement already satisfied: charset-normalizer<4,>=2 in /usr/local/lib/python3.10/dist-packages (from requests<3.0,>=2.8.1->moviepy==1.0.3) (3.3.2)\n",
            "Requirement already satisfied: idna<4,>=2.5 in /usr/local/lib/python3.10/dist-packages (from requests<3.0,>=2.8.1->moviepy==1.0.3) (3.10)\n",
            "Requirement already satisfied: urllib3<3,>=1.21.1 in /usr/local/lib/python3.10/dist-packages (from requests<3.0,>=2.8.1->moviepy==1.0.3) (2.2.3)\n",
            "Requirement already satisfied: certifi>=2017.4.17 in /usr/local/lib/python3.10/dist-packages (from requests<3.0,>=2.8.1->moviepy==1.0.3) (2024.8.30)\n",
            "Requirement already satisfied: colorama in /usr/local/lib/python3.10/dist-packages (0.4.6)\n",
            "\u001b[32mGrayscale conversion complete\u001b[0m\n",
            "\u001b[34mGaussian blur applied\u001b[0m\n"
          ]
        },
        {
          "output_type": "display_data",
          "data": {
            "text/plain": [
              "<PIL.Image.Image image mode=L size=1280x720>"
            ],
            "image/png": "[encoded data removed]",
            "image/jpeg": "[encoded data removed]"
          },
          "metadata": {}
        },
        {
          "output_type": "display_data",
          "data": {
            "text/plain": [
              "<PIL.Image.Image image mode=L size=1280x720>"
            ],
            "image/png": "[encoded data removed]",
            "image/jpeg": "[encoded data removed]"
          },
          "metadata": {}
        },
        {
          "output_type": "stream",
          "name": "stdout",
          "text": [
            "Moviepy - Building video output_video.mp4.\n",
            "Moviepy - Writing video output_video.mp4\n",
            "\n"
          ]
        },
        {
          "output_type": "stream",
          "name": "stderr",
          "text": [
            "t:   0%|          | 5/1297 [00:00<00:30, 42.64it/s, now=None]"
          ]
        },
        {
          "output_type": "stream",
          "name": "stdout",
          "text": [
            "\u001b[32mGrayscale conversion complete\u001b[0m\n",
            "\u001b[34mGaussian blur applied\u001b[0m\n",
            "\u001b[32mGrayscale conversion complete\u001b[0m\n",
            "\u001b[34mGaussian blur applied\u001b[0m\n",
            "\u001b[32mGrayscale conversion complete\u001b[0m\n",
            "\u001b[34mGaussian blur applied\u001b[0m\n",
            "\u001b[32mGrayscale conversion complete\u001b[0m\n",
            "\u001b[34mGaussian blur applied\u001b[0m\n",
            "\u001b[32mGrayscale conversion complete\u001b[0m\n",
            "\u001b[34mGaussian blur applied\u001b[0m\n",
            "\u001b[32mGrayscale conversion complete\u001b[0m\n",
            "\u001b[34mGaussian blur applied\u001b[0m\n",
            "\u001b[32mGrayscale conversion complete\u001b[0m\n",
            "\u001b[34mGaussian blur applied\u001b[0m\n"
          ]
        },
        {
          "output_type": "stream",
          "name": "stderr",
          "text": [
            "\rt:   1%|          | 10/1297 [00:00<00:33, 38.81it/s, now=None]"
          ]
        },
        {
          "output_type": "stream",
          "name": "stdout",
          "text": [
            "\u001b[32mGrayscale conversion complete\u001b[0m\n",
            "\u001b[34mGaussian blur applied\u001b[0m\n",
            "\u001b[32mGrayscale conversion complete\u001b[0m\n",
            "\u001b[34mGaussian blur applied\u001b[0m\n",
            "\u001b[32mGrayscale conversion complete\u001b[0m\n",
            "\u001b[34mGaussian blur applied\u001b[0m\n",
            "\u001b[32mGrayscale conversion complete\u001b[0m\n",
            "\u001b[34mGaussian blur applied\u001b[0m\n",
            "\u001b[32mGrayscale conversion complete\u001b[0m\n",
            "\u001b[34mGaussian blur applied\u001b[0m\n"
          ]
        },
        {
          "output_type": "stream",
          "name": "stderr",
          "text": [
            "\rt:   1%|          | 14/1297 [00:00<00:33, 38.71it/s, now=None]"
          ]
        },
        {
          "output_type": "stream",
          "name": "stdout",
          "text": [
            "\u001b[32mGrayscale conversion complete\u001b[0m\n",
            "\u001b[34mGaussian blur applied\u001b[0m\n",
            "\u001b[32mGrayscale conversion complete\u001b[0m\n",
            "\u001b[34mGaussian blur applied\u001b[0m\n",
            "\u001b[32mGrayscale conversion complete\u001b[0m\n",
            "\u001b[34mGaussian blur applied\u001b[0m\n"
          ]
        },
        {
          "output_type": "stream",
          "name": "stderr",
          "text": [
            "\rt:   1%|▏         | 18/1297 [00:00<00:32, 38.96it/s, now=None]"
          ]
        },
        {
          "output_type": "stream",
          "name": "stdout",
          "text": [
            "\u001b[32mGrayscale conversion complete\u001b[0m\n",
            "\u001b[34mGaussian blur applied\u001b[0m\n",
            "\u001b[32mGrayscale conversion complete\u001b[0m\n",
            "\u001b[34mGaussian blur applied\u001b[0m\n",
            "\u001b[32mGrayscale conversion complete\u001b[0m\n",
            "\u001b[34mGaussian blur applied\u001b[0m\n",
            "\u001b[32mGrayscale conversion complete\u001b[0m\n",
            "\u001b[34mGaussian blur applied\u001b[0m\n",
            "\u001b[32mGrayscale conversion complete\u001b[0m\n",
            "\u001b[34mGaussian blur applied\u001b[0m\n",
            "\u001b[32mGrayscale conversion complete\u001b[0m\n",
            "\u001b[34mGaussian blur applied\u001b[0m\n"
          ]
        },
        {
          "output_type": "stream",
          "name": "stderr",
          "text": [
            "\rt:   2%|▏         | 23/1297 [00:00<00:32, 39.67it/s, now=None]"
          ]
        },
        {
          "output_type": "stream",
          "name": "stdout",
          "text": [
            "\u001b[32mGrayscale conversion complete\u001b[0m\n",
            "\u001b[34mGaussian blur applied\u001b[0m\n",
            "\u001b[32mGrayscale conversion complete\u001b[0m\n",
            "\u001b[34mGaussian blur applied\u001b[0m\n",
            "\u001b[32mGrayscale conversion complete\u001b[0m\n",
            "\u001b[34mGaussian blur applied\u001b[0m\n"
          ]
        },
        {
          "output_type": "stream",
          "name": "stderr",
          "text": [
            "\rt:   2%|▏         | 27/1297 [00:00<00:32, 38.68it/s, now=None]"
          ]
        },
        {
          "output_type": "stream",
          "name": "stdout",
          "text": [
            "\u001b[32mGrayscale conversion complete\u001b[0m\n",
            "\u001b[34mGaussian blur applied\u001b[0m\n",
            "\u001b[32mGrayscale conversion complete\u001b[0m\n",
            "\u001b[34mGaussian blur applied\u001b[0m\n",
            "\u001b[32mGrayscale conversion complete\u001b[0m\n",
            "\u001b[34mGaussian blur applied\u001b[0m\n",
            "\u001b[32mGrayscale conversion complete\u001b[0m\n",
            "\u001b[34mGaussian blur applied\u001b[0m\n",
            "\u001b[32mGrayscale conversion complete\u001b[0m\n",
            "\u001b[34mGaussian blur applied\u001b[0m\n"
          ]
        },
        {
          "output_type": "stream",
          "name": "stderr",
          "text": [
            "\rt:   2%|▏         | 31/1297 [00:00<00:33, 38.25it/s, now=None]"
          ]
        },
        {
          "output_type": "stream",
          "name": "stdout",
          "text": [
            "\u001b[32mGrayscale conversion complete\u001b[0m\n",
            "\u001b[34mGaussian blur applied\u001b[0m\n",
            "\u001b[32mGrayscale conversion complete\u001b[0m\n",
            "\u001b[34mGaussian blur applied\u001b[0m\n",
            "\u001b[32mGrayscale conversion complete\u001b[0m\n",
            "\u001b[34mGaussian blur applied\u001b[0m\n"
          ]
        },
        {
          "output_type": "stream",
          "name": "stderr",
          "text": [
            "\rt:   3%|▎         | 35/1297 [00:00<00:34, 36.10it/s, now=None]"
          ]
        },
        {
          "output_type": "stream",
          "name": "stdout",
          "text": [
            "\u001b[32mGrayscale conversion complete\u001b[0m\n",
            "\u001b[34mGaussian blur applied\u001b[0m\n",
            "\u001b[32mGrayscale conversion complete\u001b[0m\n",
            "\u001b[34mGaussian blur applied\u001b[0m\n",
            "\u001b[32mGrayscale conversion complete\u001b[0m\n",
            "\u001b[34mGaussian blur applied\u001b[0m\n",
            "\u001b[32mGrayscale conversion complete\u001b[0m\n",
            "\u001b[34mGaussian blur applied\u001b[0m\n"
          ]
        },
        {
          "output_type": "stream",
          "name": "stderr",
          "text": [
            "\rt:   3%|▎         | 39/1297 [00:01<00:35, 35.69it/s, now=None]"
          ]
        },
        {
          "output_type": "stream",
          "name": "stdout",
          "text": [
            "\u001b[32mGrayscale conversion complete\u001b[0m\n",
            "\u001b[34mGaussian blur applied\u001b[0m\n",
            "\u001b[32mGrayscale conversion complete\u001b[0m\n",
            "\u001b[34mGaussian blur applied\u001b[0m\n",
            "\u001b[32mGrayscale conversion complete\u001b[0m\n",
            "\u001b[34mGaussian blur applied\u001b[0m\n",
            "\u001b[32mGrayscale conversion complete\u001b[0m\n",
            "\u001b[34mGaussian blur applied\u001b[0m\n"
          ]
        },
        {
          "output_type": "stream",
          "name": "stderr",
          "text": [
            "\rt:   3%|▎         | 43/1297 [00:01<00:34, 36.48it/s, now=None]"
          ]
        },
        {
          "output_type": "stream",
          "name": "stdout",
          "text": [
            "\u001b[32mGrayscale conversion complete\u001b[0m\n",
            "\u001b[34mGaussian blur applied\u001b[0m\n",
            "\u001b[32mGrayscale conversion complete\u001b[0m\n",
            "\u001b[34mGaussian blur applied\u001b[0m\n",
            "\u001b[32mGrayscale conversion complete\u001b[0m\n",
            "\u001b[34mGaussian blur applied\u001b[0m\n",
            "\u001b[32mGrayscale conversion complete\u001b[0m\n",
            "\u001b[34mGaussian blur applied\u001b[0m\n"
          ]
        },
        {
          "output_type": "stream",
          "name": "stderr",
          "text": [
            "\rt:   4%|▎         | 47/1297 [00:01<00:36, 34.20it/s, now=None]"
          ]
        },
        {
          "output_type": "stream",
          "name": "stdout",
          "text": [
            "\u001b[32mGrayscale conversion complete\u001b[0m\n",
            "\u001b[34mGaussian blur applied\u001b[0m\n",
            "\u001b[32mGrayscale conversion complete\u001b[0m\n",
            "\u001b[34mGaussian blur applied\u001b[0m\n",
            "\u001b[32mGrayscale conversion complete\u001b[0m\n",
            "\u001b[34mGaussian blur applied\u001b[0m\n",
            "\u001b[32mGrayscale conversion complete\u001b[0m\n",
            "\u001b[34mGaussian blur applied\u001b[0m\n",
            "\u001b[32mGrayscale conversion complete\u001b[0m\n",
            "\u001b[34mGaussian blur applied\u001b[0m\n"
          ]
        },
        {
          "output_type": "stream",
          "name": "stderr",
          "text": [
            "\rt:   4%|▍         | 51/1297 [00:01<00:56, 22.10it/s, now=None]"
          ]
        },
        {
          "output_type": "stream",
          "name": "stdout",
          "text": [
            "\u001b[32mGrayscale conversion complete\u001b[0m\n",
            "\u001b[34mGaussian blur applied\u001b[0m\n",
            "\u001b[32mGrayscale conversion complete\u001b[0m\n",
            "\u001b[34mGaussian blur applied\u001b[0m\n"
          ]
        },
        {
          "output_type": "stream",
          "name": "stderr",
          "text": [
            "\rt:   4%|▍         | 54/1297 [00:01<00:58, 21.27it/s, now=None]"
          ]
        },
        {
          "output_type": "stream",
          "name": "stdout",
          "text": [
            "\u001b[32mGrayscale conversion complete\u001b[0m\n",
            "\u001b[34mGaussian blur applied\u001b[0m\n",
            "\u001b[32mGrayscale conversion complete\u001b[0m\n",
            "\u001b[34mGaussian blur applied\u001b[0m\n",
            "\u001b[32mGrayscale conversion complete\u001b[0m\n",
            "\u001b[34mGaussian blur applied\u001b[0m\n",
            "\u001b[32mGrayscale conversion complete\u001b[0m\n",
            "\u001b[34mGaussian blur applied\u001b[0m\n",
            "\u001b[32mGrayscale conversion complete\u001b[0m\n",
            "\u001b[34mGaussian blur applied\u001b[0m\n"
          ]
        },
        {
          "output_type": "stream",
          "name": "stderr",
          "text": [
            "\rt:   4%|▍         | 57/1297 [00:01<01:07, 18.33it/s, now=None]"
          ]
        },
        {
          "output_type": "stream",
          "name": "stdout",
          "text": [
            "\u001b[32mGrayscale conversion complete\u001b[0m\n",
            "\u001b[34mGaussian blur applied\u001b[0m\n",
            "\u001b[32mGrayscale conversion complete\u001b[0m\n",
            "\u001b[34mGaussian blur applied\u001b[0m\n",
            "\u001b[32mGrayscale conversion complete\u001b[0m\n",
            "\u001b[34mGaussian blur applied\u001b[0m\n"
          ]
        },
        {
          "output_type": "stream",
          "name": "stderr",
          "text": [
            "t:   5%|▍         | 62/1297 [00:02<01:14, 16.56it/s, now=None]"
          ]
        },
        {
          "output_type": "stream",
          "name": "stdout",
          "text": [
            "\u001b[32mGrayscale conversion complete\u001b[0m\n",
            "\u001b[34mGaussian blur applied\u001b[0m\n",
            "\u001b[32mGrayscale conversion complete\u001b[0m\n",
            "\u001b[34mGaussian blur applied\u001b[0m\n",
            "\u001b[32mGrayscale conversion complete\u001b[0m\n",
            "\u001b[34mGaussian blur applied\u001b[0m\n",
            "\u001b[32mGrayscale conversion complete\u001b[0m\n",
            "\u001b[34mGaussian blur applied\u001b[0m\n"
          ]
        },
        {
          "output_type": "stream",
          "name": "stderr",
          "text": [
            "\rt:   5%|▍         | 64/1297 [00:02<01:17, 15.85it/s, now=None]"
          ]
        },
        {
          "output_type": "stream",
          "name": "stdout",
          "text": [
            "\u001b[32mGrayscale conversion complete\u001b[0m\n",
            "\u001b[34mGaussian blur applied\u001b[0m\n",
            "\u001b[32mGrayscale conversion complete\u001b[0m\n",
            "\u001b[34mGaussian blur applied\u001b[0m\n",
            "\u001b[32mGrayscale conversion complete\u001b[0m\n",
            "\u001b[34mGaussian blur applied\u001b[0m\n"
          ]
        },
        {
          "output_type": "stream",
          "name": "stderr",
          "text": [
            "\rt:   5%|▌         | 67/1297 [00:02<01:19, 15.47it/s, now=None]"
          ]
        },
        {
          "output_type": "stream",
          "name": "stdout",
          "text": [
            "\u001b[32mGrayscale conversion complete\u001b[0m\n",
            "\u001b[34mGaussian blur applied\u001b[0m\n"
          ]
        },
        {
          "output_type": "stream",
          "name": "stderr",
          "text": [
            "\rt:   5%|▌         | 70/1297 [00:02<01:09, 17.57it/s, now=None]"
          ]
        },
        {
          "output_type": "stream",
          "name": "stdout",
          "text": [
            "\u001b[32mGrayscale conversion complete\u001b[0m\n",
            "\u001b[34mGaussian blur applied\u001b[0m\n",
            "\u001b[32mGrayscale conversion complete\u001b[0m\n",
            "\u001b[34mGaussian blur applied\u001b[0m\n",
            "\u001b[32mGrayscale conversion complete\u001b[0m\n",
            "\u001b[34mGaussian blur applied\u001b[0m\n",
            "\u001b[32mGrayscale conversion complete\u001b[0m\n",
            "\u001b[34mGaussian blur applied\u001b[0m\n"
          ]
        },
        {
          "output_type": "stream",
          "name": "stderr",
          "text": [
            "t:   6%|▌         | 75/1297 [00:03<01:13, 16.68it/s, now=None]"
          ]
        },
        {
          "output_type": "stream",
          "name": "stdout",
          "text": [
            "\u001b[32mGrayscale conversion complete\u001b[0m\n",
            "\u001b[34mGaussian blur applied\u001b[0m\n",
            "\u001b[32mGrayscale conversion complete\u001b[0m\n",
            "\u001b[34mGaussian blur applied\u001b[0m\n",
            "\u001b[32mGrayscale conversion complete\u001b[0m\n",
            "\u001b[34mGaussian blur applied\u001b[0m\n",
            "\u001b[32mGrayscale conversion complete\u001b[0m\n",
            "\u001b[34mGaussian blur applied\u001b[0m\n"
          ]
        },
        {
          "output_type": "stream",
          "name": "stderr",
          "text": [
            "\rt:   6%|▌         | 78/1297 [00:03<01:10, 17.26it/s, now=None]"
          ]
        },
        {
          "output_type": "stream",
          "name": "stdout",
          "text": [
            "\u001b[32mGrayscale conversion complete\u001b[0m\n",
            "\u001b[34mGaussian blur applied\u001b[0m\n",
            "\u001b[32mGrayscale conversion complete\u001b[0m\n",
            "\u001b[34mGaussian blur applied\u001b[0m\n",
            "\u001b[32mGrayscale conversion complete\u001b[0m\n",
            "\u001b[34mGaussian blur applied\u001b[0m\n",
            "\u001b[32mGrayscale conversion complete\u001b[0m\n",
            "\u001b[34mGaussian blur applied\u001b[0m\n"
          ]
        },
        {
          "output_type": "stream",
          "name": "stderr",
          "text": [
            "t:   6%|▋         | 82/1297 [00:03<01:09, 17.59it/s, now=None]"
          ]
        },
        {
          "output_type": "stream",
          "name": "stdout",
          "text": [
            "\u001b[32mGrayscale conversion complete\u001b[0m\n",
            "\u001b[34mGaussian blur applied\u001b[0m\n",
            "\u001b[32mGrayscale conversion complete\u001b[0m\n",
            "\u001b[34mGaussian blur applied\u001b[0m\n",
            "\u001b[32mGrayscale conversion complete\u001b[0m\n",
            "\u001b[34mGaussian blur applied\u001b[0m\n",
            "\u001b[32mGrayscale conversion complete\u001b[0m\n",
            "\u001b[34mGaussian blur applied\u001b[0m\n"
          ]
        },
        {
          "output_type": "stream",
          "name": "stderr",
          "text": [
            "t:   7%|▋         | 86/1297 [00:03<01:13, 16.55it/s, now=None]"
          ]
        },
        {
          "output_type": "stream",
          "name": "stdout",
          "text": [
            "\u001b[32mGrayscale conversion complete\u001b[0m\n",
            "\u001b[34mGaussian blur applied\u001b[0m\n",
            "\u001b[32mGrayscale conversion complete\u001b[0m\n",
            "\u001b[34mGaussian blur applied\u001b[0m\n",
            "\u001b[32mGrayscale conversion complete\u001b[0m\n",
            "\u001b[34mGaussian blur applied\u001b[0m\n"
          ]
        },
        {
          "output_type": "stream",
          "name": "stderr",
          "text": [
            "t:   7%|▋         | 90/1297 [00:04<01:13, 16.49it/s, now=None]"
          ]
        },
        {
          "output_type": "stream",
          "name": "stdout",
          "text": [
            "\u001b[32mGrayscale conversion complete\u001b[0m\n",
            "\u001b[34mGaussian blur applied\u001b[0m\n",
            "\u001b[32mGrayscale conversion complete\u001b[0m\n",
            "\u001b[34mGaussian blur applied\u001b[0m\n",
            "\u001b[32mGrayscale conversion complete\u001b[0m\n",
            "\u001b[34mGaussian blur applied\u001b[0m\n",
            "\u001b[32mGrayscale conversion complete\u001b[0m\n",
            "\u001b[34mGaussian blur applied\u001b[0m\n"
          ]
        },
        {
          "output_type": "stream",
          "name": "stderr",
          "text": [
            "t:   7%|▋         | 94/1297 [00:04<01:21, 14.85it/s, now=None]"
          ]
        },
        {
          "output_type": "stream",
          "name": "stdout",
          "text": [
            "\u001b[32mGrayscale conversion complete\u001b[0m\n",
            "\u001b[34mGaussian blur applied\u001b[0m\n",
            "\u001b[32mGrayscale conversion complete\u001b[0m\n",
            "\u001b[34mGaussian blur applied\u001b[0m\n",
            "\u001b[32mGrayscale conversion complete\u001b[0m\n",
            "\u001b[34mGaussian blur applied\u001b[0m\n",
            "\u001b[32mGrayscale conversion complete\u001b[0m\n",
            "\u001b[34mGaussian blur applied\u001b[0m\n"
          ]
        },
        {
          "output_type": "stream",
          "name": "stderr",
          "text": [
            "t:   8%|▊         | 98/1297 [00:04<01:15, 15.84it/s, now=None]"
          ]
        },
        {
          "output_type": "stream",
          "name": "stdout",
          "text": [
            "\u001b[32mGrayscale conversion complete\u001b[0m\n",
            "\u001b[34mGaussian blur applied\u001b[0m\n",
            "\u001b[32mGrayscale conversion complete\u001b[0m\n",
            "\u001b[34mGaussian blur applied\u001b[0m\n",
            "\u001b[32mGrayscale conversion complete\u001b[0m\n",
            "\u001b[34mGaussian blur applied\u001b[0m\n",
            "\u001b[32mGrayscale conversion complete\u001b[0m\n",
            "\u001b[34mGaussian blur applied\u001b[0m\n"
          ]
        },
        {
          "output_type": "stream",
          "name": "stderr",
          "text": [
            "\rt:   8%|▊         | 100/1297 [00:04<01:18, 15.30it/s, now=None]"
          ]
        },
        {
          "output_type": "stream",
          "name": "stdout",
          "text": [
            "\u001b[32mGrayscale conversion complete\u001b[0m\n",
            "\u001b[34mGaussian blur applied\u001b[0m\n",
            "\u001b[32mGrayscale conversion complete\u001b[0m\n",
            "\u001b[34mGaussian blur applied\u001b[0m\n",
            "\u001b[32mGrayscale conversion complete\u001b[0m\n",
            "\u001b[34mGaussian blur applied\u001b[0m\n",
            "\u001b[32mGrayscale conversion complete\u001b[0m\n",
            "\u001b[34mGaussian blur applied\u001b[0m\n"
          ]
        },
        {
          "output_type": "stream",
          "name": "stderr",
          "text": [
            "t:   8%|▊         | 106/1297 [00:05<01:09, 17.25it/s, now=None]"
          ]
        },
        {
          "output_type": "stream",
          "name": "stdout",
          "text": [
            "\u001b[32mGrayscale conversion complete\u001b[0m\n",
            "\u001b[34mGaussian blur applied\u001b[0m\n",
            "\u001b[32mGrayscale conversion complete\u001b[0m\n",
            "\u001b[34mGaussian blur applied\u001b[0m\n",
            "\u001b[32mGrayscale conversion complete\u001b[0m\n",
            "\u001b[34mGaussian blur applied\u001b[0m\n",
            "\u001b[32mGrayscale conversion complete\u001b[0m\n",
            "\u001b[34mGaussian blur applied\u001b[0m\n"
          ]
        },
        {
          "output_type": "stream",
          "name": "stderr",
          "text": [
            "t:   8%|▊         | 110/1297 [00:05<01:25, 13.89it/s, now=None]"
          ]
        },
        {
          "output_type": "stream",
          "name": "stdout",
          "text": [
            "\u001b[32mGrayscale conversion complete\u001b[0m\n",
            "\u001b[34mGaussian blur applied\u001b[0m\n",
            "\u001b[32mGrayscale conversion complete\u001b[0m\n",
            "\u001b[34mGaussian blur applied\u001b[0m\n",
            "\u001b[32mGrayscale conversion complete\u001b[0m\n",
            "\u001b[34mGaussian blur applied\u001b[0m\n",
            "\u001b[32mGrayscale conversion complete\u001b[0m\n",
            "\u001b[34mGaussian blur applied\u001b[0m\n"
          ]
        },
        {
          "output_type": "stream",
          "name": "stderr",
          "text": [
            "\rt:   9%|▊         | 112/1297 [00:05<01:51, 10.59it/s, now=None]"
          ]
        },
        {
          "output_type": "stream",
          "name": "stdout",
          "text": [
            "\u001b[32mGrayscale conversion complete\u001b[0m\n",
            "\u001b[34mGaussian blur applied\u001b[0m\n",
            "\u001b[32mGrayscale conversion complete\u001b[0m\n",
            "\u001b[34mGaussian blur applied\u001b[0m\n",
            "\u001b[32mGrayscale conversion complete\u001b[0m\n",
            "\u001b[34mGaussian blur applied\u001b[0m\n"
          ]
        },
        {
          "output_type": "stream",
          "name": "stderr",
          "text": [
            "t:   9%|▉         | 116/1297 [00:06<01:52, 10.49it/s, now=None]"
          ]
        },
        {
          "output_type": "stream",
          "name": "stdout",
          "text": [
            "\u001b[32mGrayscale conversion complete\u001b[0m\n",
            "\u001b[34mGaussian blur applied\u001b[0m\n",
            "\u001b[32mGrayscale conversion complete\u001b[0m\n",
            "\u001b[34mGaussian blur applied\u001b[0m\n"
          ]
        },
        {
          "output_type": "stream",
          "name": "stderr",
          "text": [
            "\rt:   9%|▉         | 118/1297 [00:06<01:50, 10.71it/s, now=None]"
          ]
        },
        {
          "output_type": "stream",
          "name": "stdout",
          "text": [
            "\u001b[32mGrayscale conversion complete\u001b[0m\n",
            "\u001b[34mGaussian blur applied\u001b[0m\n",
            "\u001b[32mGrayscale conversion complete\u001b[0m\n",
            "\u001b[34mGaussian blur applied\u001b[0m\n",
            "\u001b[32mGrayscale conversion complete\u001b[0m\n",
            "\u001b[34mGaussian blur applied\u001b[0m\n"
          ]
        },
        {
          "output_type": "stream",
          "name": "stderr",
          "text": [
            "\rt:   9%|▉         | 120/1297 [00:06<01:58,  9.91it/s, now=None]"
          ]
        },
        {
          "output_type": "stream",
          "name": "stdout",
          "text": [
            "\u001b[32mGrayscale conversion complete\u001b[0m\n",
            "\u001b[34mGaussian blur applied\u001b[0m\n",
            "\u001b[32mGrayscale conversion complete\u001b[0m\n",
            "\u001b[34mGaussian blur applied\u001b[0m\n",
            "\u001b[32mGrayscale conversion complete\u001b[0m\n",
            "\u001b[34mGaussian blur applied\u001b[0m\n"
          ]
        },
        {
          "output_type": "stream",
          "name": "stderr",
          "text": [
            "\rt:   9%|▉         | 122/1297 [00:06<01:53, 10.35it/s, now=None]"
          ]
        },
        {
          "output_type": "stream",
          "name": "stdout",
          "text": [
            "\u001b[32mGrayscale conversion complete\u001b[0m\n",
            "\u001b[34mGaussian blur applied\u001b[0m\n",
            "\u001b[32mGrayscale conversion complete\u001b[0m\n",
            "\u001b[34mGaussian blur applied\u001b[0m\n"
          ]
        },
        {
          "output_type": "stream",
          "name": "stderr",
          "text": [
            "t:  10%|▉         | 126/1297 [00:07<01:46, 10.95it/s, now=None]"
          ]
        },
        {
          "output_type": "stream",
          "name": "stdout",
          "text": [
            "\u001b[32mGrayscale conversion complete\u001b[0m\n",
            "\u001b[34mGaussian blur applied\u001b[0m\n",
            "\u001b[32mGrayscale conversion complete\u001b[0m\n",
            "\u001b[34mGaussian blur applied\u001b[0m\n",
            "\u001b[32mGrayscale conversion complete\u001b[0m\n",
            "\u001b[34mGaussian blur applied\u001b[0m\n"
          ]
        },
        {
          "output_type": "stream",
          "name": "stderr",
          "text": [
            "\rt:  10%|▉         | 128/1297 [00:07<02:11,  8.89it/s, now=None]"
          ]
        },
        {
          "output_type": "stream",
          "name": "stdout",
          "text": [
            "\u001b[32mGrayscale conversion complete\u001b[0m\n",
            "\u001b[34mGaussian blur applied\u001b[0m\n",
            "\u001b[32mGrayscale conversion complete\u001b[0m\n",
            "\u001b[34mGaussian blur applied\u001b[0m\n",
            "\u001b[32mGrayscale conversion complete\u001b[0m\n",
            "\u001b[34mGaussian blur applied\u001b[0m\n"
          ]
        },
        {
          "output_type": "stream",
          "name": "stderr",
          "text": [
            "\rt:  10%|█         | 130/1297 [00:07<01:56, 10.04it/s, now=None]"
          ]
        },
        {
          "output_type": "stream",
          "name": "stdout",
          "text": [
            "\u001b[32mGrayscale conversion complete\u001b[0m\n",
            "\u001b[34mGaussian blur applied\u001b[0m\n",
            "\u001b[32mGrayscale conversion complete\u001b[0m\n",
            "\u001b[34mGaussian blur applied\u001b[0m\n"
          ]
        },
        {
          "output_type": "stream",
          "name": "stderr",
          "text": [
            "t:  10%|█         | 134/1297 [00:07<02:05,  9.29it/s, now=None]"
          ]
        },
        {
          "output_type": "stream",
          "name": "stdout",
          "text": [
            "\u001b[32mGrayscale conversion complete\u001b[0m\n",
            "\u001b[34mGaussian blur applied\u001b[0m\n",
            "\u001b[32mGrayscale conversion complete\u001b[0m\n",
            "\u001b[34mGaussian blur applied\u001b[0m\n"
          ]
        },
        {
          "output_type": "stream",
          "name": "stderr",
          "text": [
            "\rt:  10%|█         | 136/1297 [00:08<01:50, 10.51it/s, now=None]"
          ]
        },
        {
          "output_type": "stream",
          "name": "stdout",
          "text": [
            "\u001b[32mGrayscale conversion complete\u001b[0m\n",
            "\u001b[34mGaussian blur applied\u001b[0m\n",
            "\u001b[32mGrayscale conversion complete\u001b[0m\n",
            "\u001b[34mGaussian blur applied\u001b[0m\n",
            "\u001b[32mGrayscale conversion complete\u001b[0m\n",
            "\u001b[34mGaussian blur applied\u001b[0m\n"
          ]
        },
        {
          "output_type": "stream",
          "name": "stderr",
          "text": [
            "\rt:  11%|█         | 138/1297 [00:08<02:05,  9.21it/s, now=None]"
          ]
        },
        {
          "output_type": "stream",
          "name": "stdout",
          "text": [
            "\u001b[32mGrayscale conversion complete\u001b[0m\n",
            "\u001b[34mGaussian blur applied\u001b[0m\n",
            "\u001b[32mGrayscale conversion complete\u001b[0m\n",
            "\u001b[34mGaussian blur applied\u001b[0m\n"
          ]
        },
        {
          "output_type": "stream",
          "name": "stderr",
          "text": [
            "\rt:  11%|█         | 140/1297 [00:08<01:51, 10.33it/s, now=None]"
          ]
        },
        {
          "output_type": "stream",
          "name": "stdout",
          "text": [
            "\u001b[32mGrayscale conversion complete\u001b[0m\n",
            "\u001b[34mGaussian blur applied\u001b[0m\n",
            "\u001b[32mGrayscale conversion complete\u001b[0m\n",
            "\u001b[34mGaussian blur applied\u001b[0m\n",
            "\u001b[32mGrayscale conversion complete\u001b[0m\n",
            "\u001b[34mGaussian blur applied\u001b[0m\n"
          ]
        },
        {
          "output_type": "stream",
          "name": "stderr",
          "text": [
            "t:  11%|█         | 144/1297 [00:08<01:51, 10.37it/s, now=None]"
          ]
        },
        {
          "output_type": "stream",
          "name": "stdout",
          "text": [
            "\u001b[32mGrayscale conversion complete\u001b[0m\n",
            "\u001b[34mGaussian blur applied\u001b[0m\n",
            "\u001b[32mGrayscale conversion complete\u001b[0m\n",
            "\u001b[34mGaussian blur applied\u001b[0m\n",
            "\u001b[32mGrayscale conversion complete\u001b[0m\n",
            "\u001b[34mGaussian blur applied\u001b[0m\n"
          ]
        },
        {
          "output_type": "stream",
          "name": "stderr",
          "text": [
            "\rt:  11%|█▏        | 146/1297 [00:09<01:55,  9.95it/s, now=None]"
          ]
        },
        {
          "output_type": "stream",
          "name": "stdout",
          "text": [
            "\u001b[32mGrayscale conversion complete\u001b[0m\n",
            "\u001b[34mGaussian blur applied\u001b[0m\n",
            "\u001b[32mGrayscale conversion complete\u001b[0m\n",
            "\u001b[34mGaussian blur applied\u001b[0m\n"
          ]
        },
        {
          "output_type": "stream",
          "name": "stderr",
          "text": [
            "\rt:  11%|█▏        | 148/1297 [00:09<01:52, 10.22it/s, now=None]"
          ]
        },
        {
          "output_type": "stream",
          "name": "stdout",
          "text": [
            "\u001b[32mGrayscale conversion complete\u001b[0m\n",
            "\u001b[34mGaussian blur applied\u001b[0m\n",
            "\u001b[32mGrayscale conversion complete\u001b[0m\n",
            "\u001b[34mGaussian blur applied\u001b[0m\n",
            "\u001b[32mGrayscale conversion complete\u001b[0m\n",
            "\u001b[34mGaussian blur applied\u001b[0m\n"
          ]
        },
        {
          "output_type": "stream",
          "name": "stderr",
          "text": [
            "t:  12%|█▏        | 152/1297 [00:09<01:47, 10.64it/s, now=None]"
          ]
        },
        {
          "output_type": "stream",
          "name": "stdout",
          "text": [
            "\u001b[32mGrayscale conversion complete\u001b[0m\n",
            "\u001b[34mGaussian blur applied\u001b[0m\n",
            "\u001b[32mGrayscale conversion complete\u001b[0m\n",
            "\u001b[34mGaussian blur applied\u001b[0m\n",
            "\u001b[32mGrayscale conversion complete\u001b[0m\n",
            "\u001b[34mGaussian blur applied\u001b[0m\n"
          ]
        },
        {
          "output_type": "stream",
          "name": "stderr",
          "text": [
            "\rt:  12%|█▏        | 154/1297 [00:09<02:02,  9.32it/s, now=None]"
          ]
        },
        {
          "output_type": "stream",
          "name": "stdout",
          "text": [
            "\u001b[32mGrayscale conversion complete\u001b[0m\n",
            "\u001b[34mGaussian blur applied\u001b[0m\n",
            "\u001b[32mGrayscale conversion complete\u001b[0m\n",
            "\u001b[34mGaussian blur applied\u001b[0m\n"
          ]
        },
        {
          "output_type": "stream",
          "name": "stderr",
          "text": [
            "\rt:  12%|█▏        | 156/1297 [00:10<01:52, 10.17it/s, now=None]"
          ]
        },
        {
          "output_type": "stream",
          "name": "stdout",
          "text": [
            "\u001b[32mGrayscale conversion complete\u001b[0m\n",
            "\u001b[34mGaussian blur applied\u001b[0m\n",
            "\u001b[32mGrayscale conversion complete\u001b[0m\n",
            "\u001b[34mGaussian blur applied\u001b[0m\n",
            "\u001b[32mGrayscale conversion complete\u001b[0m\n",
            "\u001b[34mGaussian blur applied\u001b[0m\n"
          ]
        },
        {
          "output_type": "stream",
          "name": "stderr",
          "text": [
            "t:  12%|█▏        | 160/1297 [00:10<01:44, 10.91it/s, now=None]"
          ]
        },
        {
          "output_type": "stream",
          "name": "stdout",
          "text": [
            "\u001b[32mGrayscale conversion complete\u001b[0m\n",
            "\u001b[34mGaussian blur applied\u001b[0m\n",
            "\u001b[32mGrayscale conversion complete\u001b[0m\n",
            "\u001b[34mGaussian blur applied\u001b[0m\n",
            "\u001b[32mGrayscale conversion complete\u001b[0m\n",
            "\u001b[34mGaussian blur applied\u001b[0m\n"
          ]
        },
        {
          "output_type": "stream",
          "name": "stderr",
          "text": [
            "\rt:  12%|█▏        | 162/1297 [00:10<02:07,  8.92it/s, now=None]"
          ]
        },
        {
          "output_type": "stream",
          "name": "stdout",
          "text": [
            "\u001b[32mGrayscale conversion complete\u001b[0m\n",
            "\u001b[34mGaussian blur applied\u001b[0m\n",
            "\u001b[32mGrayscale conversion complete\u001b[0m\n",
            "\u001b[34mGaussian blur applied\u001b[0m\n",
            "\u001b[32mGrayscale conversion complete\u001b[0m\n"
          ]
        },
        {
          "output_type": "stream",
          "name": "stderr",
          "text": [
            "\rt:  13%|█▎        | 164/1297 [00:10<01:47, 10.56it/s, now=None]"
          ]
        },
        {
          "output_type": "stream",
          "name": "stdout",
          "text": [
            "\u001b[34mGaussian blur applied\u001b[0m\n",
            "\u001b[32mGrayscale conversion complete\u001b[0m\n",
            "\u001b[34mGaussian blur applied\u001b[0m\n"
          ]
        },
        {
          "output_type": "stream",
          "name": "stderr",
          "text": [
            "\rt:  13%|█▎        | 166/1297 [00:11<02:10,  8.69it/s, now=None]"
          ]
        },
        {
          "output_type": "stream",
          "name": "stdout",
          "text": [
            "\u001b[32mGrayscale conversion complete\u001b[0m\n",
            "\u001b[34mGaussian blur applied\u001b[0m\n",
            "\u001b[32mGrayscale conversion complete\u001b[0m\n",
            "\u001b[34mGaussian blur applied\u001b[0m\n"
          ]
        },
        {
          "output_type": "stream",
          "name": "stderr",
          "text": [
            "\rt:  13%|█▎        | 169/1297 [00:11<01:43, 10.92it/s, now=None]"
          ]
        },
        {
          "output_type": "stream",
          "name": "stdout",
          "text": [
            "\u001b[32mGrayscale conversion complete\u001b[0m\n",
            "\u001b[34mGaussian blur applied\u001b[0m\n",
            "\u001b[32mGrayscale conversion complete\u001b[0m\n",
            "\u001b[34mGaussian blur applied\u001b[0m\n",
            "\u001b[32mGrayscale conversion complete\u001b[0m\n",
            "\u001b[34mGaussian blur applied\u001b[0m\n",
            "\u001b[32mGrayscale conversion complete\u001b[0m\n",
            "\u001b[34mGaussian blur applied\u001b[0m\n",
            "\u001b[32mGrayscale conversion complete\u001b[0m\n",
            "\u001b[34mGaussian blur applied\u001b[0m\n"
          ]
        },
        {
          "output_type": "stream",
          "name": "stderr",
          "text": [
            "t:  13%|█▎        | 175/1297 [00:11<01:16, 14.60it/s, now=None]"
          ]
        },
        {
          "output_type": "stream",
          "name": "stdout",
          "text": [
            "\u001b[32mGrayscale conversion complete\u001b[0m\n",
            "\u001b[34mGaussian blur applied\u001b[0m\n",
            "\u001b[32mGrayscale conversion complete\u001b[0m\n",
            "\u001b[34mGaussian blur applied\u001b[0m\n",
            "\u001b[32mGrayscale conversion complete\u001b[0m\n",
            "\u001b[34mGaussian blur applied\u001b[0m\n",
            "\u001b[32mGrayscale conversion complete\u001b[0m\n",
            "\u001b[34mGaussian blur applied\u001b[0m\n"
          ]
        },
        {
          "output_type": "stream",
          "name": "stderr",
          "text": [
            "t:  14%|█▍        | 179/1297 [00:12<01:17, 14.37it/s, now=None]"
          ]
        },
        {
          "output_type": "stream",
          "name": "stdout",
          "text": [
            "\u001b[32mGrayscale conversion complete\u001b[0m\n",
            "\u001b[34mGaussian blur applied\u001b[0m\n",
            "\u001b[32mGrayscale conversion complete\u001b[0m\n",
            "\u001b[34mGaussian blur applied\u001b[0m\n",
            "\u001b[32mGrayscale conversion complete\u001b[0m\n",
            "\u001b[34mGaussian blur applied\u001b[0m\n",
            "\u001b[32mGrayscale conversion complete\u001b[0m\n",
            "\u001b[34mGaussian blur applied\u001b[0m\n"
          ]
        },
        {
          "output_type": "stream",
          "name": "stderr",
          "text": [
            "t:  14%|█▍        | 183/1297 [00:12<01:14, 15.04it/s, now=None]"
          ]
        },
        {
          "output_type": "stream",
          "name": "stdout",
          "text": [
            "\u001b[32mGrayscale conversion complete\u001b[0m\n",
            "\u001b[34mGaussian blur applied\u001b[0m\n",
            "\u001b[32mGrayscale conversion complete\u001b[0m\n",
            "\u001b[34mGaussian blur applied\u001b[0m\n",
            "\u001b[32mGrayscale conversion complete\u001b[0m\n",
            "\u001b[34mGaussian blur applied\u001b[0m\n",
            "\u001b[32mGrayscale conversion complete\u001b[0m\n",
            "\u001b[34mGaussian blur applied\u001b[0m\n"
          ]
        },
        {
          "output_type": "stream",
          "name": "stderr",
          "text": [
            "\rt:  14%|█▍        | 186/1297 [00:12<01:08, 16.20it/s, now=None]"
          ]
        },
        {
          "output_type": "stream",
          "name": "stdout",
          "text": [
            "\u001b[32mGrayscale conversion complete\u001b[0m\n",
            "\u001b[34mGaussian blur applied\u001b[0m\n",
            "\u001b[32mGrayscale conversion complete\u001b[0m\n",
            "\u001b[34mGaussian blur applied\u001b[0m\n",
            "\u001b[32mGrayscale conversion complete\u001b[0m\n",
            "\u001b[34mGaussian blur applied\u001b[0m\n",
            "\u001b[32mGrayscale conversion complete\u001b[0m\n",
            "\u001b[34mGaussian blur applied\u001b[0m\n"
          ]
        },
        {
          "output_type": "stream",
          "name": "stderr",
          "text": [
            "t:  15%|█▍        | 190/1297 [00:12<01:10, 15.62it/s, now=None]"
          ]
        },
        {
          "output_type": "stream",
          "name": "stdout",
          "text": [
            "\u001b[32mGrayscale conversion complete\u001b[0m\n",
            "\u001b[34mGaussian blur applied\u001b[0m\n",
            "\u001b[32mGrayscale conversion complete\u001b[0m\n",
            "\u001b[34mGaussian blur applied\u001b[0m\n",
            "\u001b[32mGrayscale conversion complete\u001b[0m\n",
            "\u001b[34mGaussian blur applied\u001b[0m\n"
          ]
        },
        {
          "output_type": "stream",
          "name": "stderr",
          "text": [
            "t:  15%|█▍        | 194/1297 [00:12<01:15, 14.70it/s, now=None]"
          ]
        },
        {
          "output_type": "stream",
          "name": "stdout",
          "text": [
            "\u001b[32mGrayscale conversion complete\u001b[0m\n",
            "\u001b[34mGaussian blur applied\u001b[0m\n",
            "\u001b[32mGrayscale conversion complete\u001b[0m\n",
            "\u001b[34mGaussian blur applied\u001b[0m\n",
            "\u001b[32mGrayscale conversion complete\u001b[0m\n",
            "\u001b[34mGaussian blur applied\u001b[0m\n"
          ]
        },
        {
          "output_type": "stream",
          "name": "stderr",
          "text": [
            "\rt:  15%|█▌        | 197/1297 [00:13<01:16, 14.33it/s, now=None]"
          ]
        },
        {
          "output_type": "stream",
          "name": "stdout",
          "text": [
            "\u001b[32mGrayscale conversion complete\u001b[0m\n",
            "\u001b[34mGaussian blur applied\u001b[0m\n",
            "\u001b[32mGrayscale conversion complete\u001b[0m\n",
            "\u001b[34mGaussian blur applied\u001b[0m\n",
            "\u001b[32mGrayscale conversion complete\u001b[0m\n",
            "\u001b[34mGaussian blur applied\u001b[0m\n"
          ]
        },
        {
          "output_type": "stream",
          "name": "stderr",
          "text": [
            "\rt:  15%|█▌        | 199/1297 [00:13<01:12, 15.19it/s, now=None]"
          ]
        },
        {
          "output_type": "stream",
          "name": "stdout",
          "text": [
            "\u001b[32mGrayscale conversion complete\u001b[0m\n",
            "\u001b[34mGaussian blur applied\u001b[0m\n",
            "\u001b[32mGrayscale conversion complete\u001b[0m\n",
            "\u001b[34mGaussian blur applied\u001b[0m\n",
            "\u001b[32mGrayscale conversion complete\u001b[0m\n",
            "\u001b[34mGaussian blur applied\u001b[0m\n"
          ]
        },
        {
          "output_type": "stream",
          "name": "stderr",
          "text": [
            "t:  16%|█▌        | 204/1297 [00:13<01:04, 16.85it/s, now=None]"
          ]
        },
        {
          "output_type": "stream",
          "name": "stdout",
          "text": [
            "\u001b[32mGrayscale conversion complete\u001b[0m\n",
            "\u001b[34mGaussian blur applied\u001b[0m\n",
            "\u001b[32mGrayscale conversion complete\u001b[0m\n",
            "\u001b[34mGaussian blur applied\u001b[0m\n",
            "\u001b[32mGrayscale conversion complete\u001b[0m\n",
            "\u001b[34mGaussian blur applied\u001b[0m\n",
            "\u001b[32mGrayscale conversion complete\u001b[0m\n",
            "\u001b[34mGaussian blur applied\u001b[0m\n",
            "\u001b[32mGrayscale conversion complete\u001b[0m\n",
            "\u001b[34mGaussian blur applied\u001b[0m\n"
          ]
        },
        {
          "output_type": "stream",
          "name": "stderr",
          "text": [
            "t:  16%|█▌        | 208/1297 [00:13<01:10, 15.52it/s, now=None]"
          ]
        },
        {
          "output_type": "stream",
          "name": "stdout",
          "text": [
            "\u001b[32mGrayscale conversion complete\u001b[0m\n",
            "\u001b[34mGaussian blur applied\u001b[0m\n",
            "\u001b[32mGrayscale conversion complete\u001b[0m\n",
            "\u001b[34mGaussian blur applied\u001b[0m\n",
            "\u001b[32mGrayscale conversion complete\u001b[0m\n",
            "\u001b[34mGaussian blur applied\u001b[0m\n",
            "\u001b[32mGrayscale conversion complete\u001b[0m\n",
            "\u001b[34mGaussian blur applied\u001b[0m\n"
          ]
        },
        {
          "output_type": "stream",
          "name": "stderr",
          "text": [
            "\rt:  16%|█▌        | 210/1297 [00:14<01:09, 15.60it/s, now=None]"
          ]
        },
        {
          "output_type": "stream",
          "name": "stdout",
          "text": [
            "\u001b[32mGrayscale conversion complete\u001b[0m\n",
            "\u001b[34mGaussian blur applied\u001b[0m\n",
            "\u001b[32mGrayscale conversion complete\u001b[0m\n",
            "\u001b[34mGaussian blur applied\u001b[0m\n",
            "\u001b[32mGrayscale conversion complete\u001b[0m\n",
            "\u001b[34mGaussian blur applied\u001b[0m\n",
            "\u001b[32mGrayscale conversion complete\u001b[0m\n",
            "\u001b[34mGaussian blur applied\u001b[0m\n"
          ]
        },
        {
          "output_type": "stream",
          "name": "stderr",
          "text": [
            "t:  17%|█▋        | 215/1297 [00:14<01:10, 15.36it/s, now=None]"
          ]
        },
        {
          "output_type": "stream",
          "name": "stdout",
          "text": [
            "\u001b[32mGrayscale conversion complete\u001b[0m\n",
            "\u001b[34mGaussian blur applied\u001b[0m\n",
            "\u001b[32mGrayscale conversion complete\u001b[0m\n",
            "\u001b[34mGaussian blur applied\u001b[0m\n",
            "\u001b[32mGrayscale conversion complete\u001b[0m\n",
            "\u001b[34mGaussian blur applied\u001b[0m\n",
            "\u001b[32mGrayscale conversion complete\u001b[0m\n",
            "\u001b[34mGaussian blur applied\u001b[0m\n"
          ]
        },
        {
          "output_type": "stream",
          "name": "stderr",
          "text": [
            "t:  17%|█▋        | 219/1297 [00:14<01:09, 15.43it/s, now=None]"
          ]
        },
        {
          "output_type": "stream",
          "name": "stdout",
          "text": [
            "\u001b[32mGrayscale conversion complete\u001b[0m\n",
            "\u001b[34mGaussian blur applied\u001b[0m\n",
            "\u001b[32mGrayscale conversion complete\u001b[0m\n",
            "\u001b[34mGaussian blur applied\u001b[0m\n",
            "\u001b[32mGrayscale conversion complete\u001b[0m\n",
            "\u001b[34mGaussian blur applied\u001b[0m\n",
            "\u001b[32mGrayscale conversion complete\u001b[0m\n",
            "\u001b[34mGaussian blur applied\u001b[0m\n"
          ]
        },
        {
          "output_type": "stream",
          "name": "stderr",
          "text": [
            "t:  17%|█▋        | 223/1297 [00:14<01:05, 16.31it/s, now=None]"
          ]
        },
        {
          "output_type": "stream",
          "name": "stdout",
          "text": [
            "\u001b[32mGrayscale conversion complete\u001b[0m\n",
            "\u001b[34mGaussian blur applied\u001b[0m\n",
            "\u001b[32mGrayscale conversion complete\u001b[0m\n",
            "\u001b[34mGaussian blur applied\u001b[0m\n",
            "\u001b[32mGrayscale conversion complete\u001b[0m\n",
            "\u001b[34mGaussian blur applied\u001b[0m\n",
            "\u001b[32mGrayscale conversion complete\u001b[0m\n",
            "\u001b[34mGaussian blur applied\u001b[0m\n"
          ]
        },
        {
          "output_type": "stream",
          "name": "stderr",
          "text": [
            "t:  18%|█▊        | 228/1297 [00:15<01:04, 16.56it/s, now=None]"
          ]
        },
        {
          "output_type": "stream",
          "name": "stdout",
          "text": [
            "\u001b[32mGrayscale conversion complete\u001b[0m\n",
            "\u001b[34mGaussian blur applied\u001b[0m\n",
            "\u001b[32mGrayscale conversion complete\u001b[0m\n",
            "\u001b[34mGaussian blur applied\u001b[0m\n",
            "\u001b[32mGrayscale conversion complete\u001b[0m\n",
            "\u001b[34mGaussian blur applied\u001b[0m\n",
            "\u001b[32mGrayscale conversion complete\u001b[0m\n",
            "\u001b[34mGaussian blur applied\u001b[0m\n"
          ]
        },
        {
          "output_type": "stream",
          "name": "stderr",
          "text": [
            "t:  18%|█▊        | 232/1297 [00:15<01:06, 15.95it/s, now=None]"
          ]
        },
        {
          "output_type": "stream",
          "name": "stdout",
          "text": [
            "\u001b[32mGrayscale conversion complete\u001b[0m\n",
            "\u001b[34mGaussian blur applied\u001b[0m\n",
            "\u001b[32mGrayscale conversion complete\u001b[0m\n",
            "\u001b[34mGaussian blur applied\u001b[0m\n",
            "\u001b[32mGrayscale conversion complete\u001b[0m\n",
            "\u001b[34mGaussian blur applied\u001b[0m\n",
            "\u001b[32mGrayscale conversion complete\u001b[0m\n",
            "\u001b[34mGaussian blur applied\u001b[0m\n"
          ]
        },
        {
          "output_type": "stream",
          "name": "stderr",
          "text": [
            "t:  18%|█▊        | 236/1297 [00:15<01:06, 16.07it/s, now=None]"
          ]
        },
        {
          "output_type": "stream",
          "name": "stdout",
          "text": [
            "\u001b[32mGrayscale conversion complete\u001b[0m\n",
            "\u001b[34mGaussian blur applied\u001b[0m\n",
            "\u001b[32mGrayscale conversion complete\u001b[0m\n",
            "\u001b[34mGaussian blur applied\u001b[0m\n",
            "\u001b[32mGrayscale conversion complete\u001b[0m\n",
            "\u001b[34mGaussian blur applied\u001b[0m\n",
            "\u001b[32mGrayscale conversion complete\u001b[0m\n",
            "\u001b[34mGaussian blur applied\u001b[0m\n"
          ]
        },
        {
          "output_type": "stream",
          "name": "stderr",
          "text": [
            "t:  19%|█▊        | 240/1297 [00:15<01:05, 16.26it/s, now=None]"
          ]
        },
        {
          "output_type": "stream",
          "name": "stdout",
          "text": [
            "\u001b[32mGrayscale conversion complete\u001b[0m\n",
            "\u001b[34mGaussian blur applied\u001b[0m\n",
            "\u001b[32mGrayscale conversion complete\u001b[0m\n",
            "\u001b[34mGaussian blur applied\u001b[0m\n",
            "\u001b[32mGrayscale conversion complete\u001b[0m\n",
            "\u001b[34mGaussian blur applied\u001b[0m\n",
            "\u001b[32mGrayscale conversion complete\u001b[0m\n",
            "\u001b[34mGaussian blur applied\u001b[0m\n"
          ]
        },
        {
          "output_type": "stream",
          "name": "stderr",
          "text": [
            "\rt:  19%|█▊        | 242/1297 [00:16<01:08, 15.32it/s, now=None]"
          ]
        },
        {
          "output_type": "stream",
          "name": "stdout",
          "text": [
            "\u001b[32mGrayscale conversion complete\u001b[0m\n",
            "\u001b[34mGaussian blur applied\u001b[0m\n",
            "\u001b[32mGrayscale conversion complete\u001b[0m\n",
            "\u001b[34mGaussian blur applied\u001b[0m\n",
            "\u001b[32mGrayscale conversion complete\u001b[0m\n",
            "\u001b[34mGaussian blur applied\u001b[0m\n",
            "\u001b[32mGrayscale conversion complete\u001b[0m\n",
            "\u001b[34mGaussian blur applied\u001b[0m\n"
          ]
        },
        {
          "output_type": "stream",
          "name": "stderr",
          "text": [
            "t:  19%|█▉        | 247/1297 [00:16<01:06, 15.78it/s, now=None]"
          ]
        },
        {
          "output_type": "stream",
          "name": "stdout",
          "text": [
            "\u001b[32mGrayscale conversion complete\u001b[0m\n",
            "\u001b[34mGaussian blur applied\u001b[0m\n",
            "\u001b[32mGrayscale conversion complete\u001b[0m\n",
            "\u001b[34mGaussian blur applied\u001b[0m\n",
            "\u001b[32mGrayscale conversion complete\u001b[0m\n",
            "\u001b[34mGaussian blur applied\u001b[0m\n",
            "\u001b[32mGrayscale conversion complete\u001b[0m\n",
            "\u001b[34mGaussian blur applied\u001b[0m\n"
          ]
        },
        {
          "output_type": "stream",
          "name": "stderr",
          "text": [
            "t:  19%|█▉        | 252/1297 [00:16<01:01, 16.98it/s, now=None]"
          ]
        },
        {
          "output_type": "stream",
          "name": "stdout",
          "text": [
            "\u001b[32mGrayscale conversion complete\u001b[0m\n",
            "\u001b[34mGaussian blur applied\u001b[0m\n",
            "\u001b[32mGrayscale conversion complete\u001b[0m\n",
            "\u001b[34mGaussian blur applied\u001b[0m\n",
            "\u001b[32mGrayscale conversion complete\u001b[0m\n",
            "\u001b[34mGaussian blur applied\u001b[0m\n",
            "\u001b[32mGrayscale conversion complete\u001b[0m\n",
            "\u001b[34mGaussian blur applied\u001b[0m\n"
          ]
        },
        {
          "output_type": "stream",
          "name": "stderr",
          "text": [
            "\rt:  20%|█▉        | 254/1297 [00:16<01:09, 15.06it/s, now=None]"
          ]
        },
        {
          "output_type": "stream",
          "name": "stdout",
          "text": [
            "\u001b[32mGrayscale conversion complete\u001b[0m\n",
            "\u001b[34mGaussian blur applied\u001b[0m\n",
            "\u001b[32mGrayscale conversion complete\u001b[0m\n",
            "\u001b[34mGaussian blur applied\u001b[0m\n",
            "\u001b[32mGrayscale conversion complete\u001b[0m\n",
            "\u001b[34mGaussian blur applied\u001b[0m\n",
            "\u001b[32mGrayscale conversion complete\u001b[0m\n",
            "\u001b[34mGaussian blur applied\u001b[0m\n"
          ]
        },
        {
          "output_type": "stream",
          "name": "stderr",
          "text": [
            "t:  20%|█▉        | 259/1297 [00:17<01:04, 15.97it/s, now=None]"
          ]
        },
        {
          "output_type": "stream",
          "name": "stdout",
          "text": [
            "\u001b[32mGrayscale conversion complete\u001b[0m\n",
            "\u001b[34mGaussian blur applied\u001b[0m\n",
            "\u001b[32mGrayscale conversion complete\u001b[0m\n",
            "\u001b[34mGaussian blur applied\u001b[0m\n",
            "\u001b[32mGrayscale conversion complete\u001b[0m\n",
            "\u001b[34mGaussian blur applied\u001b[0m\n",
            "\u001b[32mGrayscale conversion complete\u001b[0m\n",
            "\u001b[34mGaussian blur applied\u001b[0m\n"
          ]
        },
        {
          "output_type": "stream",
          "name": "stderr",
          "text": [
            "t:  20%|██        | 263/1297 [00:17<01:02, 16.46it/s, now=None]"
          ]
        },
        {
          "output_type": "stream",
          "name": "stdout",
          "text": [
            "\u001b[32mGrayscale conversion complete\u001b[0m\n",
            "\u001b[34mGaussian blur applied\u001b[0m\n",
            "\u001b[32mGrayscale conversion complete\u001b[0m\n",
            "\u001b[34mGaussian blur applied\u001b[0m\n",
            "\u001b[32mGrayscale conversion complete\u001b[0m\n",
            "\u001b[34mGaussian blur applied\u001b[0m\n",
            "\u001b[32mGrayscale conversion complete\u001b[0m\n"
          ]
        },
        {
          "output_type": "stream",
          "name": "stderr",
          "text": [
            "\rt:  20%|██        | 265/1297 [00:17<01:05, 15.71it/s, now=None]"
          ]
        },
        {
          "output_type": "stream",
          "name": "stdout",
          "text": [
            "\u001b[34mGaussian blur applied\u001b[0m\n",
            "\u001b[32mGrayscale conversion complete\u001b[0m\n",
            "\u001b[34mGaussian blur applied\u001b[0m\n",
            "\u001b[32mGrayscale conversion complete\u001b[0m\n",
            "\u001b[34mGaussian blur applied\u001b[0m\n",
            "\u001b[32mGrayscale conversion complete\u001b[0m\n",
            "\u001b[34mGaussian blur applied\u001b[0m\n"
          ]
        },
        {
          "output_type": "stream",
          "name": "stderr",
          "text": [
            "t:  21%|██        | 270/1297 [00:17<01:05, 15.78it/s, now=None]"
          ]
        },
        {
          "output_type": "stream",
          "name": "stdout",
          "text": [
            "\u001b[32mGrayscale conversion complete\u001b[0m\n",
            "\u001b[34mGaussian blur applied\u001b[0m\n",
            "\u001b[32mGrayscale conversion complete\u001b[0m\n",
            "\u001b[34mGaussian blur applied\u001b[0m\n",
            "\u001b[32mGrayscale conversion complete\u001b[0m\n",
            "\u001b[34mGaussian blur applied\u001b[0m\n",
            "\u001b[32mGrayscale conversion complete\u001b[0m\n",
            "\u001b[34mGaussian blur applied\u001b[0m\n"
          ]
        },
        {
          "output_type": "stream",
          "name": "stderr",
          "text": [
            "t:  21%|██        | 274/1297 [00:18<01:07, 15.13it/s, now=None]"
          ]
        },
        {
          "output_type": "stream",
          "name": "stdout",
          "text": [
            "\u001b[32mGrayscale conversion complete\u001b[0m\n",
            "\u001b[34mGaussian blur applied\u001b[0m\n",
            "\u001b[32mGrayscale conversion complete\u001b[0m\n",
            "\u001b[34mGaussian blur applied\u001b[0m\n",
            "\u001b[32mGrayscale conversion complete\u001b[0m\n",
            "\u001b[34mGaussian blur applied\u001b[0m\n",
            "\u001b[32mGrayscale conversion complete\u001b[0m\n",
            "\u001b[34mGaussian blur applied\u001b[0m\n"
          ]
        },
        {
          "output_type": "stream",
          "name": "stderr",
          "text": [
            "t:  22%|██▏       | 279/1297 [00:18<00:59, 17.23it/s, now=None]"
          ]
        },
        {
          "output_type": "stream",
          "name": "stdout",
          "text": [
            "\u001b[32mGrayscale conversion complete\u001b[0m\n",
            "\u001b[34mGaussian blur applied\u001b[0m\n",
            "\u001b[32mGrayscale conversion complete\u001b[0m\n",
            "\u001b[34mGaussian blur applied\u001b[0m\n",
            "\u001b[32mGrayscale conversion complete\u001b[0m\n",
            "\u001b[34mGaussian blur applied\u001b[0m\n",
            "\u001b[32mGrayscale conversion complete\u001b[0m\n",
            "\u001b[34mGaussian blur applied\u001b[0m\n"
          ]
        },
        {
          "output_type": "stream",
          "name": "stderr",
          "text": [
            "\rt:  22%|██▏       | 281/1297 [00:18<01:02, 16.16it/s, now=None]"
          ]
        },
        {
          "output_type": "stream",
          "name": "stdout",
          "text": [
            "\u001b[32mGrayscale conversion complete\u001b[0m\n",
            "\u001b[34mGaussian blur applied\u001b[0m\n",
            "\u001b[32mGrayscale conversion complete\u001b[0m\n",
            "\u001b[34mGaussian blur applied\u001b[0m\n",
            "\u001b[32mGrayscale conversion complete\u001b[0m\n",
            "\u001b[34mGaussian blur applied\u001b[0m\n",
            "\u001b[32mGrayscale conversion complete\u001b[0m\n",
            "\u001b[34mGaussian blur applied\u001b[0m\n"
          ]
        },
        {
          "output_type": "stream",
          "name": "stderr",
          "text": [
            "t:  22%|██▏       | 286/1297 [00:18<01:02, 16.08it/s, now=None]"
          ]
        },
        {
          "output_type": "stream",
          "name": "stdout",
          "text": [
            "\u001b[32mGrayscale conversion complete\u001b[0m\n",
            "\u001b[34mGaussian blur applied\u001b[0m\n",
            "\u001b[32mGrayscale conversion complete\u001b[0m\n",
            "\u001b[34mGaussian blur applied\u001b[0m\n",
            "\u001b[32mGrayscale conversion complete\u001b[0m\n",
            "\u001b[34mGaussian blur applied\u001b[0m\n",
            "\u001b[32mGrayscale conversion complete\u001b[0m\n",
            "\u001b[34mGaussian blur applied\u001b[0m\n"
          ]
        },
        {
          "output_type": "stream",
          "name": "stderr",
          "text": [
            "t:  22%|██▏       | 290/1297 [00:19<01:04, 15.52it/s, now=None]"
          ]
        },
        {
          "output_type": "stream",
          "name": "stdout",
          "text": [
            "\u001b[32mGrayscale conversion complete\u001b[0m\n",
            "\u001b[34mGaussian blur applied\u001b[0m\n",
            "\u001b[32mGrayscale conversion complete\u001b[0m\n",
            "\u001b[34mGaussian blur applied\u001b[0m\n",
            "\u001b[32mGrayscale conversion complete\u001b[0m\n",
            "\u001b[34mGaussian blur applied\u001b[0m\n",
            "\u001b[32mGrayscale conversion complete\u001b[0m\n",
            "\u001b[34mGaussian blur applied\u001b[0m\n"
          ]
        },
        {
          "output_type": "stream",
          "name": "stderr",
          "text": [
            "t:  23%|██▎       | 295/1297 [00:19<00:57, 17.43it/s, now=None]"
          ]
        },
        {
          "output_type": "stream",
          "name": "stdout",
          "text": [
            "\u001b[32mGrayscale conversion complete\u001b[0m\n",
            "\u001b[34mGaussian blur applied\u001b[0m\n",
            "\u001b[32mGrayscale conversion complete\u001b[0m\n",
            "\u001b[34mGaussian blur applied\u001b[0m\n",
            "\u001b[32mGrayscale conversion complete\u001b[0m\n",
            "\u001b[34mGaussian blur applied\u001b[0m\n",
            "\u001b[32mGrayscale conversion complete\u001b[0m\n",
            "\u001b[34mGaussian blur applied\u001b[0m\n"
          ]
        },
        {
          "output_type": "stream",
          "name": "stderr",
          "text": [
            "t:  23%|██▎       | 299/1297 [00:19<01:07, 14.83it/s, now=None]"
          ]
        },
        {
          "output_type": "stream",
          "name": "stdout",
          "text": [
            "\u001b[32mGrayscale conversion complete\u001b[0m\n",
            "\u001b[34mGaussian blur applied\u001b[0m\n",
            "\u001b[32mGrayscale conversion complete\u001b[0m\n",
            "\u001b[34mGaussian blur applied\u001b[0m\n",
            "\u001b[32mGrayscale conversion complete\u001b[0m\n",
            "\u001b[34mGaussian blur applied\u001b[0m\n",
            "\u001b[32mGrayscale conversion complete\u001b[0m\n",
            "\u001b[34mGaussian blur applied\u001b[0m\n",
            "\u001b[32mGrayscale conversion complete\u001b[0m\n",
            "\u001b[34mGaussian blur applied\u001b[0m\n"
          ]
        },
        {
          "output_type": "stream",
          "name": "stderr",
          "text": [
            "t:  23%|██▎       | 304/1297 [00:20<00:59, 16.75it/s, now=None]"
          ]
        },
        {
          "output_type": "stream",
          "name": "stdout",
          "text": [
            "\u001b[32mGrayscale conversion complete\u001b[0m\n",
            "\u001b[34mGaussian blur applied\u001b[0m\n",
            "\u001b[32mGrayscale conversion complete\u001b[0m\n",
            "\u001b[34mGaussian blur applied\u001b[0m\n",
            "\u001b[32mGrayscale conversion complete\u001b[0m\n",
            "\u001b[34mGaussian blur applied\u001b[0m\n",
            "\u001b[32mGrayscale conversion complete\u001b[0m\n",
            "\u001b[34mGaussian blur applied\u001b[0m\n"
          ]
        },
        {
          "output_type": "stream",
          "name": "stderr",
          "text": [
            "t:  24%|██▎       | 308/1297 [00:20<01:00, 16.41it/s, now=None]"
          ]
        },
        {
          "output_type": "stream",
          "name": "stdout",
          "text": [
            "\u001b[32mGrayscale conversion complete\u001b[0m\n",
            "\u001b[34mGaussian blur applied\u001b[0m\n",
            "\u001b[32mGrayscale conversion complete\u001b[0m\n",
            "\u001b[34mGaussian blur applied\u001b[0m\n",
            "\u001b[32mGrayscale conversion complete\u001b[0m\n",
            "\u001b[34mGaussian blur applied\u001b[0m\n",
            "\u001b[32mGrayscale conversion complete\u001b[0m\n",
            "\u001b[34mGaussian blur applied\u001b[0m\n"
          ]
        },
        {
          "output_type": "stream",
          "name": "stderr",
          "text": [
            "t:  24%|██▍       | 312/1297 [00:20<01:03, 15.62it/s, now=None]"
          ]
        },
        {
          "output_type": "stream",
          "name": "stdout",
          "text": [
            "\u001b[32mGrayscale conversion complete\u001b[0m\n",
            "\u001b[34mGaussian blur applied\u001b[0m\n",
            "\u001b[32mGrayscale conversion complete\u001b[0m\n",
            "\u001b[34mGaussian blur applied\u001b[0m\n",
            "\u001b[32mGrayscale conversion complete\u001b[0m\n",
            "\u001b[34mGaussian blur applied\u001b[0m\n",
            "\u001b[32mGrayscale conversion complete\u001b[0m\n",
            "\u001b[34mGaussian blur applied\u001b[0m\n"
          ]
        },
        {
          "output_type": "stream",
          "name": "stderr",
          "text": [
            "\rt:  24%|██▍       | 314/1297 [00:20<01:01, 16.04it/s, now=None]"
          ]
        },
        {
          "output_type": "stream",
          "name": "stdout",
          "text": [
            "\u001b[32mGrayscale conversion complete\u001b[0m\n",
            "\u001b[34mGaussian blur applied\u001b[0m\n",
            "\u001b[32mGrayscale conversion complete\u001b[0m\n",
            "\u001b[34mGaussian blur applied\u001b[0m\n",
            "\u001b[32mGrayscale conversion complete\u001b[0m\n",
            "\u001b[34mGaussian blur applied\u001b[0m\n",
            "\u001b[32mGrayscale conversion complete\u001b[0m\n",
            "\u001b[34mGaussian blur applied\u001b[0m\n"
          ]
        },
        {
          "output_type": "stream",
          "name": "stderr",
          "text": [
            "t:  25%|██▍       | 319/1297 [00:21<01:01, 16.02it/s, now=None]"
          ]
        },
        {
          "output_type": "stream",
          "name": "stdout",
          "text": [
            "\u001b[32mGrayscale conversion complete\u001b[0m\n",
            "\u001b[34mGaussian blur applied\u001b[0m\n",
            "\u001b[32mGrayscale conversion complete\u001b[0m\n",
            "\u001b[34mGaussian blur applied\u001b[0m\n",
            "\u001b[32mGrayscale conversion complete\u001b[0m\n",
            "\u001b[34mGaussian blur applied\u001b[0m\n",
            "\u001b[32mGrayscale conversion complete\u001b[0m\n",
            "\u001b[34mGaussian blur applied\u001b[0m\n"
          ]
        },
        {
          "output_type": "stream",
          "name": "stderr",
          "text": [
            "\rt:  25%|██▍       | 322/1297 [00:21<01:00, 16.00it/s, now=None]"
          ]
        },
        {
          "output_type": "stream",
          "name": "stdout",
          "text": [
            "\u001b[32mGrayscale conversion complete\u001b[0m\n",
            "\u001b[34mGaussian blur applied\u001b[0m\n",
            "\u001b[32mGrayscale conversion complete\u001b[0m\n",
            "\u001b[34mGaussian blur applied\u001b[0m\n",
            "\u001b[32mGrayscale conversion complete\u001b[0m\n",
            "\u001b[34mGaussian blur applied\u001b[0m\n"
          ]
        },
        {
          "output_type": "stream",
          "name": "stderr",
          "text": [
            "\rt:  25%|██▍       | 324/1297 [00:21<01:04, 14.98it/s, now=None]"
          ]
        },
        {
          "output_type": "stream",
          "name": "stdout",
          "text": [
            "\u001b[32mGrayscale conversion complete\u001b[0m\n",
            "\u001b[34mGaussian blur applied\u001b[0m\n",
            "\u001b[32mGrayscale conversion complete\u001b[0m\n"
          ]
        },
        {
          "output_type": "stream",
          "name": "stderr",
          "text": [
            "t:  25%|██▌       | 328/1297 [00:21<01:17, 12.48it/s, now=None]"
          ]
        },
        {
          "output_type": "stream",
          "name": "stdout",
          "text": [
            "\u001b[34mGaussian blur applied\u001b[0m\n",
            "\u001b[32mGrayscale conversion complete\u001b[0m\n",
            "\u001b[34mGaussian blur applied\u001b[0m\n",
            "\u001b[32mGrayscale conversion complete\u001b[0m\n",
            "\u001b[34mGaussian blur applied\u001b[0m\n",
            "\u001b[32mGrayscale conversion complete\u001b[0m\n",
            "\u001b[34mGaussian blur applied\u001b[0m\n",
            "\u001b[32mGrayscale conversion complete\u001b[0m\n",
            "\u001b[34mGaussian blur applied\u001b[0m\n"
          ]
        },
        {
          "output_type": "stream",
          "name": "stderr",
          "text": [
            "t:  26%|██▌       | 332/1297 [00:22<01:25, 11.35it/s, now=None]"
          ]
        },
        {
          "output_type": "stream",
          "name": "stdout",
          "text": [
            "\u001b[32mGrayscale conversion complete\u001b[0m\n",
            "\u001b[34mGaussian blur applied\u001b[0m\n",
            "\u001b[32mGrayscale conversion complete\u001b[0m\n",
            "\u001b[34mGaussian blur applied\u001b[0m\n",
            "\u001b[32mGrayscale conversion complete\u001b[0m\n",
            "\u001b[34mGaussian blur applied\u001b[0m\n"
          ]
        },
        {
          "output_type": "stream",
          "name": "stderr",
          "text": [
            "\rt:  26%|██▌       | 334/1297 [00:22<01:41,  9.51it/s, now=None]"
          ]
        },
        {
          "output_type": "stream",
          "name": "stdout",
          "text": [
            "\u001b[32mGrayscale conversion complete\u001b[0m\n",
            "\u001b[34mGaussian blur applied\u001b[0m\n",
            "\u001b[32mGrayscale conversion complete\u001b[0m\n",
            "\u001b[34mGaussian blur applied\u001b[0m\n",
            "\u001b[32mGrayscale conversion complete\u001b[0m\n",
            "\u001b[34mGaussian blur applied\u001b[0m\n"
          ]
        },
        {
          "output_type": "stream",
          "name": "stderr",
          "text": [
            "\rt:  26%|██▌       | 336/1297 [00:22<01:34, 10.16it/s, now=None]"
          ]
        },
        {
          "output_type": "stream",
          "name": "stdout",
          "text": [
            "\u001b[32mGrayscale conversion complete\u001b[0m\n",
            "\u001b[34mGaussian blur applied\u001b[0m\n",
            "\u001b[32mGrayscale conversion complete\u001b[0m"
          ]
        },
        {
          "output_type": "stream",
          "name": "stderr",
          "text": [
            "\rt:  26%|██▌       | 338/1297 [00:22<01:44,  9.19it/s, now=None]"
          ]
        },
        {
          "output_type": "stream",
          "name": "stdout",
          "text": [
            "\n",
            "\u001b[34mGaussian blur applied\u001b[0m\n",
            "\u001b[32mGrayscale conversion complete\u001b[0m\n",
            "\u001b[34mGaussian blur applied\u001b[0m\n",
            "\u001b[32mGrayscale conversion complete\u001b[0m\n",
            "\u001b[34mGaussian blur applied\u001b[0m\n"
          ]
        },
        {
          "output_type": "stream",
          "name": "stderr",
          "text": [
            "t:  26%|██▋       | 341/1297 [00:23<01:45,  9.05it/s, now=None]"
          ]
        },
        {
          "output_type": "stream",
          "name": "stdout",
          "text": [
            "\u001b[32mGrayscale conversion complete\u001b[0m\n",
            "\u001b[34mGaussian blur applied\u001b[0m\n",
            "\u001b[32mGrayscale conversion complete\u001b[0m\n",
            "\u001b[34mGaussian blur applied\u001b[0m\n"
          ]
        },
        {
          "output_type": "stream",
          "name": "stderr",
          "text": [
            "t:  27%|██▋       | 344/1297 [00:23<01:33, 10.24it/s, now=None]"
          ]
        },
        {
          "output_type": "stream",
          "name": "stdout",
          "text": [
            "\u001b[32mGrayscale conversion complete\u001b[0m\n",
            "\u001b[34mGaussian blur applied\u001b[0m\n",
            "\u001b[32mGrayscale conversion complete\u001b[0m\n",
            "\u001b[34mGaussian blur applied\u001b[0m\n",
            "\u001b[32mGrayscale conversion complete\u001b[0m\n",
            "\u001b[34mGaussian blur applied\u001b[0m\n"
          ]
        },
        {
          "output_type": "stream",
          "name": "stderr",
          "text": [
            "\rt:  27%|██▋       | 346/1297 [00:23<01:46,  8.91it/s, now=None]"
          ]
        },
        {
          "output_type": "stream",
          "name": "stdout",
          "text": [
            "\u001b[32mGrayscale conversion complete\u001b[0m\n",
            "\u001b[34mGaussian blur applied\u001b[0m\n",
            "\u001b[32mGrayscale conversion complete\u001b[0m\n",
            "\u001b[34mGaussian blur applied\u001b[0m\n",
            "\u001b[32mGrayscale conversion complete\u001b[0m\n",
            "\u001b[34mGaussian blur applied\u001b[0m\n"
          ]
        },
        {
          "output_type": "stream",
          "name": "stderr",
          "text": [
            "\rt:  27%|██▋       | 348/1297 [00:23<01:42,  9.23it/s, now=None]"
          ]
        },
        {
          "output_type": "stream",
          "name": "stdout",
          "text": [
            "\u001b[32mGrayscale conversion complete\u001b[0m\n",
            "\u001b[34mGaussian blur applied\u001b[0m\n"
          ]
        },
        {
          "output_type": "stream",
          "name": "stderr",
          "text": [
            "t:  27%|██▋       | 351/1297 [00:24<01:52,  8.38it/s, now=None]"
          ]
        },
        {
          "output_type": "stream",
          "name": "stdout",
          "text": [
            "\u001b[32mGrayscale conversion complete\u001b[0m\n",
            "\u001b[34mGaussian blur applied\u001b[0m\n",
            "\u001b[32mGrayscale conversion complete\u001b[0m\n",
            "\u001b[34mGaussian blur applied\u001b[0m\n",
            "\u001b[32mGrayscale conversion complete\u001b[0m\n",
            "\u001b[34mGaussian blur applied\u001b[0m\n"
          ]
        },
        {
          "output_type": "stream",
          "name": "stderr",
          "text": [
            "\rt:  27%|██▋       | 352/1297 [00:24<01:56,  8.12it/s, now=None]"
          ]
        },
        {
          "output_type": "stream",
          "name": "stdout",
          "text": [
            "\u001b[32mGrayscale conversion complete\u001b[0m\n",
            "\u001b[34mGaussian blur applied\u001b[0m\n"
          ]
        },
        {
          "output_type": "stream",
          "name": "stderr",
          "text": [
            "\rt:  27%|██▋       | 353/1297 [00:24<02:27,  6.41it/s, now=None]"
          ]
        },
        {
          "output_type": "stream",
          "name": "stdout",
          "text": [
            "\u001b[32mGrayscale conversion complete\u001b[0m\n",
            "\u001b[34mGaussian blur applied\u001b[0m\n",
            "\u001b[32mGrayscale conversion complete\u001b[0m\n",
            "\u001b[34mGaussian blur applied\u001b[0m\n"
          ]
        },
        {
          "output_type": "stream",
          "name": "stderr",
          "text": [
            "t:  28%|██▊       | 357/1297 [00:25<01:59,  7.85it/s, now=None]"
          ]
        },
        {
          "output_type": "stream",
          "name": "stdout",
          "text": [
            "\u001b[32mGrayscale conversion complete\u001b[0m\n",
            "\u001b[34mGaussian blur applied\u001b[0m\n",
            "\u001b[32mGrayscale conversion complete\u001b[0m\n",
            "\u001b[34mGaussian blur applied\u001b[0m\n",
            "\u001b[32mGrayscale conversion complete\u001b[0m\n",
            "\u001b[34mGaussian blur applied\u001b[0m\n"
          ]
        },
        {
          "output_type": "stream",
          "name": "stderr",
          "text": [
            "t:  28%|██▊       | 360/1297 [00:25<01:42,  9.16it/s, now=None]"
          ]
        },
        {
          "output_type": "stream",
          "name": "stdout",
          "text": [
            "\u001b[32mGrayscale conversion complete\u001b[0m\n",
            "\u001b[34mGaussian blur applied\u001b[0m\n",
            "\u001b[32mGrayscale conversion complete\u001b[0m\n",
            "\u001b[34mGaussian blur applied\u001b[0m\n",
            "\u001b[32mGrayscale conversion complete\u001b[0m\n",
            "\u001b[34mGaussian blur applied\u001b[0m\n"
          ]
        },
        {
          "output_type": "stream",
          "name": "stderr",
          "text": [
            "t:  28%|██▊       | 362/1297 [00:25<01:51,  8.41it/s, now=None]"
          ]
        },
        {
          "output_type": "stream",
          "name": "stdout",
          "text": [
            "\u001b[32mGrayscale conversion complete\u001b[0m\n",
            "\u001b[34mGaussian blur applied\u001b[0m\n",
            "\u001b[32mGrayscale conversion complete\u001b[0m\n",
            "\u001b[34mGaussian blur applied\u001b[0m\n",
            "\u001b[32mGrayscale conversion complete\u001b[0m\n",
            "\u001b[34mGaussian blur applied\u001b[0m"
          ]
        },
        {
          "output_type": "stream",
          "name": "stderr",
          "text": [
            "\rt:  28%|██▊       | 364/1297 [00:26<01:37,  9.60it/s, now=None]"
          ]
        },
        {
          "output_type": "stream",
          "name": "stdout",
          "text": [
            "\n",
            "\u001b[32mGrayscale conversion complete\u001b[0m\n",
            "\u001b[34mGaussian blur applied\u001b[0m\n"
          ]
        },
        {
          "output_type": "stream",
          "name": "stderr",
          "text": [
            "t:  28%|██▊       | 366/1297 [00:26<02:06,  7.38it/s, now=None]"
          ]
        },
        {
          "output_type": "stream",
          "name": "stdout",
          "text": [
            "\u001b[32mGrayscale conversion complete\u001b[0m\n",
            "\u001b[34mGaussian blur applied\u001b[0m\n",
            "\u001b[32mGrayscale conversion complete\u001b[0m\n",
            "\u001b[34mGaussian blur applied\u001b[0m\n",
            "\u001b[32mGrayscale conversion complete\u001b[0m\n",
            "\u001b[34mGaussian blur applied\u001b[0m\n"
          ]
        },
        {
          "output_type": "stream",
          "name": "stderr",
          "text": [
            "t:  29%|██▊       | 370/1297 [00:26<01:41,  9.16it/s, now=None]"
          ]
        },
        {
          "output_type": "stream",
          "name": "stdout",
          "text": [
            "\u001b[32mGrayscale conversion complete\u001b[0m\n",
            "\u001b[34mGaussian blur applied\u001b[0m\n",
            "\u001b[32mGrayscale conversion complete\u001b[0m\n",
            "\u001b[34mGaussian blur applied\u001b[0m\n",
            "\u001b[32mGrayscale conversion complete\u001b[0m\n",
            "\u001b[34mGaussian blur applied\u001b[0m\n",
            "\u001b[32mGrayscale conversion complete\u001b[0m\n",
            "\u001b[34mGaussian blur applied\u001b[0m\n"
          ]
        },
        {
          "output_type": "stream",
          "name": "stderr",
          "text": [
            "t:  29%|██▉       | 374/1297 [00:27<01:55,  7.96it/s, now=None]"
          ]
        },
        {
          "output_type": "stream",
          "name": "stdout",
          "text": [
            "\u001b[32mGrayscale conversion complete\u001b[0m\n",
            "\u001b[34mGaussian blur applied\u001b[0m\n",
            "\u001b[32mGrayscale conversion complete\u001b[0m\n",
            "\u001b[34mGaussian blur applied\u001b[0m\n",
            "\u001b[32mGrayscale conversion complete\u001b[0m\n",
            "\u001b[34mGaussian blur applied\u001b[0m\n",
            "\u001b[32mGrayscale conversion complete\u001b[0m\n",
            "\u001b[34mGaussian blur applied\u001b[0m\n"
          ]
        },
        {
          "output_type": "stream",
          "name": "stderr",
          "text": [
            "t:  29%|██▉       | 377/1297 [00:27<02:09,  7.11it/s, now=None]"
          ]
        },
        {
          "output_type": "stream",
          "name": "stdout",
          "text": [
            "\u001b[32mGrayscale conversion complete\u001b[0m\n",
            "\u001b[34mGaussian blur applied\u001b[0m\n",
            "\u001b[32mGrayscale conversion complete\u001b[0m\n",
            "\u001b[34mGaussian blur applied\u001b[0m\n"
          ]
        },
        {
          "output_type": "stream",
          "name": "stderr",
          "text": [
            "\rt:  29%|██▉       | 378/1297 [00:28<02:11,  6.98it/s, now=None]"
          ]
        },
        {
          "output_type": "stream",
          "name": "stdout",
          "text": [
            "\u001b[32mGrayscale conversion complete\u001b[0m\n",
            "\u001b[34mGaussian blur applied\u001b[0m\n",
            "\u001b[32mGrayscale conversion complete\u001b[0m\n",
            "\u001b[34mGaussian blur applied\u001b[0m\n"
          ]
        },
        {
          "output_type": "stream",
          "name": "stderr",
          "text": [
            "t:  29%|██▉       | 382/1297 [00:28<01:52,  8.16it/s, now=None]"
          ]
        },
        {
          "output_type": "stream",
          "name": "stdout",
          "text": [
            "\u001b[32mGrayscale conversion complete\u001b[0m\n",
            "\u001b[34mGaussian blur applied\u001b[0m\n",
            "\u001b[32mGrayscale conversion complete\u001b[0m\n",
            "\u001b[34mGaussian blur applied\u001b[0m\n",
            "\u001b[32mGrayscale conversion complete\u001b[0m\n",
            "\u001b[34mGaussian blur applied\u001b[0m\n",
            "\u001b[32mGrayscale conversion complete\u001b[0m\n",
            "\u001b[34mGaussian blur applied\u001b[0m\n"
          ]
        },
        {
          "output_type": "stream",
          "name": "stderr",
          "text": [
            "t:  30%|██▉       | 386/1297 [00:29<01:52,  8.12it/s, now=None]"
          ]
        },
        {
          "output_type": "stream",
          "name": "stdout",
          "text": [
            "\u001b[32mGrayscale conversion complete\u001b[0m\n",
            "\u001b[34mGaussian blur applied\u001b[0m\n",
            "\u001b[32mGrayscale conversion complete\u001b[0m\n",
            "\u001b[34mGaussian blur applied\u001b[0m\n",
            "\u001b[32mGrayscale conversion complete\u001b[0m\n",
            "\u001b[34mGaussian blur applied\u001b[0m\n"
          ]
        },
        {
          "output_type": "stream",
          "name": "stderr",
          "text": [
            "t:  30%|██▉       | 388/1297 [00:29<02:01,  7.46it/s, now=None]"
          ]
        },
        {
          "output_type": "stream",
          "name": "stdout",
          "text": [
            "\u001b[32mGrayscale conversion complete\u001b[0m\n",
            "\u001b[34mGaussian blur applied\u001b[0m\n",
            "\u001b[32mGrayscale conversion complete\u001b[0m\n",
            "\u001b[34mGaussian blur applied\u001b[0m\n"
          ]
        },
        {
          "output_type": "stream",
          "name": "stderr",
          "text": [
            "\rt:  30%|███       | 390/1297 [00:29<01:47,  8.44it/s, now=None]"
          ]
        },
        {
          "output_type": "stream",
          "name": "stdout",
          "text": [
            "\u001b[32mGrayscale conversion complete\u001b[0m\n",
            "\u001b[34mGaussian blur applied\u001b[0m\n",
            "\u001b[32mGrayscale conversion complete\u001b[0m\n",
            "\u001b[34mGaussian blur applied\u001b[0m\n",
            "\u001b[32mGrayscale conversion complete\u001b[0m\n",
            "\u001b[34mGaussian blur applied\u001b[0m\n"
          ]
        },
        {
          "output_type": "stream",
          "name": "stderr",
          "text": [
            "t:  30%|███       | 393/1297 [00:29<01:56,  7.76it/s, now=None]"
          ]
        },
        {
          "output_type": "stream",
          "name": "stdout",
          "text": [
            "\u001b[32mGrayscale conversion complete\u001b[0m\n",
            "\u001b[34mGaussian blur applied\u001b[0m\n",
            "\u001b[32mGrayscale conversion complete\u001b[0m\n",
            "\u001b[34mGaussian blur applied\u001b[0m\n"
          ]
        },
        {
          "output_type": "stream",
          "name": "stderr",
          "text": [
            "\rt:  30%|███       | 394/1297 [00:30<01:53,  7.98it/s, now=None]"
          ]
        },
        {
          "output_type": "stream",
          "name": "stdout",
          "text": [
            "\u001b[32mGrayscale conversion complete\u001b[0m\n",
            "\u001b[34mGaussian blur applied\u001b[0m\n",
            "\u001b[32mGrayscale conversion complete\u001b[0m\n",
            "\u001b[34mGaussian blur applied\u001b[0m\n"
          ]
        },
        {
          "output_type": "stream",
          "name": "stderr",
          "text": [
            "t:  31%|███       | 397/1297 [00:30<01:57,  7.69it/s, now=None]"
          ]
        },
        {
          "output_type": "stream",
          "name": "stdout",
          "text": [
            "\u001b[32mGrayscale conversion complete\u001b[0m\n",
            "\u001b[34mGaussian blur applied\u001b[0m\n",
            "\u001b[32mGrayscale conversion complete\u001b[0m\n",
            "\u001b[34mGaussian blur applied\u001b[0m\n"
          ]
        },
        {
          "output_type": "stream",
          "name": "stderr",
          "text": [
            "\rt:  31%|███       | 399/1297 [00:30<01:42,  8.76it/s, now=None]"
          ]
        },
        {
          "output_type": "stream",
          "name": "stdout",
          "text": [
            "\u001b[32mGrayscale conversion complete\u001b[0m\n",
            "\u001b[34mGaussian blur applied\u001b[0m\n",
            "\u001b[32mGrayscale conversion complete\u001b[0m\n",
            "\u001b[34mGaussian blur applied\u001b[0m\n"
          ]
        },
        {
          "output_type": "stream",
          "name": "stderr",
          "text": [
            "t:  31%|███       | 402/1297 [00:31<01:42,  8.74it/s, now=None]"
          ]
        },
        {
          "output_type": "stream",
          "name": "stdout",
          "text": [
            "\u001b[32mGrayscale conversion complete\u001b[0m\n",
            "\u001b[34mGaussian blur applied\u001b[0m\n",
            "\u001b[32mGrayscale conversion complete\u001b[0m\n",
            "\u001b[34mGaussian blur applied\u001b[0m\n",
            "\u001b[32mGrayscale conversion complete\u001b[0m\n",
            "\u001b[34mGaussian blur applied\u001b[0m\n"
          ]
        },
        {
          "output_type": "stream",
          "name": "stderr",
          "text": [
            "\rt:  31%|███       | 403/1297 [00:31<01:41,  8.83it/s, now=None]"
          ]
        },
        {
          "output_type": "stream",
          "name": "stdout",
          "text": [
            "\u001b[32mGrayscale conversion complete\u001b[0m\n",
            "\u001b[34mGaussian blur applied\u001b[0m\n"
          ]
        },
        {
          "output_type": "stream",
          "name": "stderr",
          "text": [
            "t:  31%|███▏      | 406/1297 [00:31<01:50,  8.05it/s, now=None]"
          ]
        },
        {
          "output_type": "stream",
          "name": "stdout",
          "text": [
            "\u001b[32mGrayscale conversion complete\u001b[0m\n",
            "\u001b[34mGaussian blur applied\u001b[0m\n",
            "\u001b[32mGrayscale conversion complete\u001b[0m\n",
            "\u001b[34mGaussian blur applied\u001b[0m\n",
            "\u001b[32mGrayscale conversion complete\u001b[0m\n",
            "\u001b[34mGaussian blur applied\u001b[0m\n",
            "\u001b[32mGrayscale conversion complete\u001b[0m\n",
            "\u001b[34mGaussian blur applied\u001b[0m\n"
          ]
        },
        {
          "output_type": "stream",
          "name": "stderr",
          "text": [
            "t:  32%|███▏      | 409/1297 [00:31<01:54,  7.78it/s, now=None]"
          ]
        },
        {
          "output_type": "stream",
          "name": "stdout",
          "text": [
            "\u001b[32mGrayscale conversion complete\u001b[0m\n",
            "\u001b[34mGaussian blur applied\u001b[0m\n",
            "\u001b[32mGrayscale conversion complete\u001b[0m\n",
            "\u001b[34mGaussian blur applied\u001b[0m\n",
            "\u001b[32mGrayscale conversion complete\u001b[0m\n",
            "\u001b[34mGaussian blur applied\u001b[0m\n"
          ]
        },
        {
          "output_type": "stream",
          "name": "stderr",
          "text": [
            "\rt:  32%|███▏      | 411/1297 [00:32<01:35,  9.29it/s, now=None]"
          ]
        },
        {
          "output_type": "stream",
          "name": "stdout",
          "text": [
            "\u001b[32mGrayscale conversion complete\u001b[0m\n",
            "\u001b[34mGaussian blur applied\u001b[0m\n",
            "\u001b[32mGrayscale conversion complete\u001b[0m\n",
            "\u001b[34mGaussian blur applied\u001b[0m\n"
          ]
        },
        {
          "output_type": "stream",
          "name": "stderr",
          "text": [
            "t:  32%|███▏      | 415/1297 [00:32<01:25, 10.37it/s, now=None]"
          ]
        },
        {
          "output_type": "stream",
          "name": "stdout",
          "text": [
            "\u001b[32mGrayscale conversion complete\u001b[0m\n",
            "\u001b[34mGaussian blur applied\u001b[0m\n",
            "\u001b[32mGrayscale conversion complete\u001b[0m\n",
            "\u001b[34mGaussian blur applied\u001b[0m\n",
            "\u001b[32mGrayscale conversion complete\u001b[0m\n",
            "\u001b[34mGaussian blur applied\u001b[0m\n",
            "\u001b[32mGrayscale conversion complete\u001b[0m\n",
            "\u001b[34mGaussian blur applied\u001b[0m\n"
          ]
        },
        {
          "output_type": "stream",
          "name": "stderr",
          "text": [
            "t:  32%|███▏      | 419/1297 [00:32<01:09, 12.72it/s, now=None]"
          ]
        },
        {
          "output_type": "stream",
          "name": "stdout",
          "text": [
            "\u001b[32mGrayscale conversion complete\u001b[0m\n",
            "\u001b[34mGaussian blur applied\u001b[0m\n",
            "\u001b[32mGrayscale conversion complete\u001b[0m\n",
            "\u001b[34mGaussian blur applied\u001b[0m\n",
            "\u001b[32mGrayscale conversion complete\u001b[0m\n",
            "\u001b[34mGaussian blur applied\u001b[0m\n",
            "\u001b[32mGrayscale conversion complete\u001b[0m\n",
            "\u001b[34mGaussian blur applied\u001b[0m\n"
          ]
        },
        {
          "output_type": "stream",
          "name": "stderr",
          "text": [
            "t:  33%|███▎      | 423/1297 [00:32<00:59, 14.57it/s, now=None]"
          ]
        },
        {
          "output_type": "stream",
          "name": "stdout",
          "text": [
            "\u001b[32mGrayscale conversion complete\u001b[0m\n",
            "\u001b[34mGaussian blur applied\u001b[0m\n",
            "\u001b[32mGrayscale conversion complete\u001b[0m\n",
            "\u001b[34mGaussian blur applied\u001b[0m\n",
            "\u001b[32mGrayscale conversion complete\u001b[0m\n",
            "\u001b[34mGaussian blur applied\u001b[0m\n",
            "\u001b[32mGrayscale conversion complete\u001b[0m\n",
            "\u001b[34mGaussian blur applied\u001b[0m\n"
          ]
        },
        {
          "output_type": "stream",
          "name": "stderr",
          "text": [
            "t:  33%|███▎      | 428/1297 [00:33<00:57, 15.14it/s, now=None]"
          ]
        },
        {
          "output_type": "stream",
          "name": "stdout",
          "text": [
            "\u001b[32mGrayscale conversion complete\u001b[0m\n",
            "\u001b[34mGaussian blur applied\u001b[0m\n",
            "\u001b[32mGrayscale conversion complete\u001b[0m\n",
            "\u001b[34mGaussian blur applied\u001b[0m\n",
            "\u001b[32mGrayscale conversion complete\u001b[0m\n",
            "\u001b[34mGaussian blur applied\u001b[0m\n",
            "\u001b[32mGrayscale conversion complete\u001b[0m\n",
            "\u001b[34mGaussian blur applied\u001b[0m\n"
          ]
        },
        {
          "output_type": "stream",
          "name": "stderr",
          "text": [
            "t:  33%|███▎      | 432/1297 [00:33<00:56, 15.35it/s, now=None]"
          ]
        },
        {
          "output_type": "stream",
          "name": "stdout",
          "text": [
            "\u001b[32mGrayscale conversion complete\u001b[0m\n",
            "\u001b[34mGaussian blur applied\u001b[0m\n",
            "\u001b[32mGrayscale conversion complete\u001b[0m\n",
            "\u001b[34mGaussian blur applied\u001b[0m\n",
            "\u001b[32mGrayscale conversion complete\u001b[0m\n",
            "\u001b[34mGaussian blur applied\u001b[0m\n"
          ]
        },
        {
          "output_type": "stream",
          "name": "stderr",
          "text": [
            "\rt:  33%|███▎      | 434/1297 [00:33<00:53, 16.27it/s, now=None]"
          ]
        },
        {
          "output_type": "stream",
          "name": "stdout",
          "text": [
            "\u001b[32mGrayscale conversion complete\u001b[0m\n",
            "\u001b[34mGaussian blur applied\u001b[0m\n",
            "\u001b[32mGrayscale conversion complete\u001b[0m\n",
            "\u001b[34mGaussian blur applied\u001b[0m\n",
            "\u001b[32mGrayscale conversion complete\u001b[0m\n",
            "\u001b[34mGaussian blur applied\u001b[0m\n",
            "\u001b[32mGrayscale conversion complete\u001b[0m\n",
            "\u001b[34mGaussian blur applied\u001b[0m\n"
          ]
        },
        {
          "output_type": "stream",
          "name": "stderr",
          "text": [
            "t:  34%|███▍      | 438/1297 [00:33<00:53, 16.13it/s, now=None]"
          ]
        },
        {
          "output_type": "stream",
          "name": "stdout",
          "text": [
            "\u001b[32mGrayscale conversion complete\u001b[0m\n",
            "\u001b[34mGaussian blur applied\u001b[0m\n",
            "\u001b[32mGrayscale conversion complete\u001b[0m\n",
            "\u001b[34mGaussian blur applied\u001b[0m\n",
            "\u001b[32mGrayscale conversion complete\u001b[0m\n",
            "\u001b[34mGaussian blur applied\u001b[0m\n",
            "\u001b[32mGrayscale conversion complete\u001b[0m\n",
            "\u001b[34mGaussian blur applied\u001b[0m\n"
          ]
        },
        {
          "output_type": "stream",
          "name": "stderr",
          "text": [
            "t:  34%|███▍      | 443/1297 [00:34<00:52, 16.12it/s, now=None]"
          ]
        },
        {
          "output_type": "stream",
          "name": "stdout",
          "text": [
            "\u001b[32mGrayscale conversion complete\u001b[0m\n",
            "\u001b[34mGaussian blur applied\u001b[0m\n",
            "\u001b[32mGrayscale conversion complete\u001b[0m\n",
            "\u001b[34mGaussian blur applied\u001b[0m\n",
            "\u001b[32mGrayscale conversion complete\u001b[0m\n",
            "\u001b[34mGaussian blur applied\u001b[0m\n",
            "\u001b[32mGrayscale conversion complete\u001b[0m\n",
            "\u001b[34mGaussian blur applied\u001b[0m\n"
          ]
        },
        {
          "output_type": "stream",
          "name": "stderr",
          "text": [
            "t:  34%|███▍      | 447/1297 [00:34<00:51, 16.45it/s, now=None]"
          ]
        },
        {
          "output_type": "stream",
          "name": "stdout",
          "text": [
            "\u001b[32mGrayscale conversion complete\u001b[0m\n",
            "\u001b[34mGaussian blur applied\u001b[0m\n",
            "\u001b[32mGrayscale conversion complete\u001b[0m\n",
            "\u001b[34mGaussian blur applied\u001b[0m\n",
            "\u001b[32mGrayscale conversion complete\u001b[0m\n",
            "\u001b[34mGaussian blur applied\u001b[0m\n",
            "\u001b[32mGrayscale conversion complete\u001b[0m\n",
            "\u001b[34mGaussian blur applied\u001b[0m\n"
          ]
        },
        {
          "output_type": "stream",
          "name": "stderr",
          "text": [
            "t:  35%|███▍      | 451/1297 [00:34<00:51, 16.37it/s, now=None]"
          ]
        },
        {
          "output_type": "stream",
          "name": "stdout",
          "text": [
            "\u001b[32mGrayscale conversion complete\u001b[0m\n",
            "\u001b[34mGaussian blur applied\u001b[0m\n",
            "\u001b[32mGrayscale conversion complete\u001b[0m\n",
            "\u001b[34mGaussian blur applied\u001b[0m\n",
            "\u001b[32mGrayscale conversion complete\u001b[0m\n",
            "\u001b[34mGaussian blur applied\u001b[0m\n"
          ]
        },
        {
          "output_type": "stream",
          "name": "stderr",
          "text": [
            "\rt:  35%|███▍      | 453/1297 [00:34<00:56, 14.82it/s, now=None]"
          ]
        },
        {
          "output_type": "stream",
          "name": "stdout",
          "text": [
            "\u001b[32mGrayscale conversion complete\u001b[0m\n",
            "\u001b[34mGaussian blur applied\u001b[0m\n",
            "\u001b[32mGrayscale conversion complete\u001b[0m\n",
            "\u001b[34mGaussian blur applied\u001b[0m\n",
            "\u001b[32mGrayscale conversion complete\u001b[0m\n",
            "\u001b[34mGaussian blur applied\u001b[0m\n",
            "\u001b[32mGrayscale conversion complete\u001b[0m\n",
            "\u001b[34mGaussian blur applied\u001b[0m\n"
          ]
        },
        {
          "output_type": "stream",
          "name": "stderr",
          "text": [
            "t:  35%|███▌      | 458/1297 [00:35<00:51, 16.17it/s, now=None]"
          ]
        },
        {
          "output_type": "stream",
          "name": "stdout",
          "text": [
            "\u001b[32mGrayscale conversion complete\u001b[0m\n",
            "\u001b[34mGaussian blur applied\u001b[0m\n",
            "\u001b[32mGrayscale conversion complete\u001b[0m\n",
            "\u001b[34mGaussian blur applied\u001b[0m\n",
            "\u001b[32mGrayscale conversion complete\u001b[0m\n",
            "\u001b[34mGaussian blur applied\u001b[0m\n"
          ]
        },
        {
          "output_type": "stream",
          "name": "stderr",
          "text": [
            "\rt:  35%|███▌      | 460/1297 [00:35<00:49, 16.90it/s, now=None]"
          ]
        },
        {
          "output_type": "stream",
          "name": "stdout",
          "text": [
            "\u001b[32mGrayscale conversion complete\u001b[0m\n",
            "\u001b[34mGaussian blur applied\u001b[0m\n",
            "\u001b[32mGrayscale conversion complete\u001b[0m\n",
            "\u001b[34mGaussian blur applied\u001b[0m\n",
            "\u001b[32mGrayscale conversion complete\u001b[0m\n",
            "\u001b[34mGaussian blur applied\u001b[0m\n"
          ]
        },
        {
          "output_type": "stream",
          "name": "stderr",
          "text": [
            "t:  36%|███▌      | 464/1297 [00:35<00:51, 16.18it/s, now=None]"
          ]
        },
        {
          "output_type": "stream",
          "name": "stdout",
          "text": [
            "\u001b[32mGrayscale conversion complete\u001b[0m\n",
            "\u001b[34mGaussian blur applied\u001b[0m\n",
            "\u001b[32mGrayscale conversion complete\u001b[0m\n",
            "\u001b[34mGaussian blur applied\u001b[0m\n",
            "\u001b[32mGrayscale conversion complete\u001b[0m\n",
            "\u001b[34mGaussian blur applied\u001b[0m\n",
            "\u001b[32mGrayscale conversion complete\u001b[0m\n",
            "\u001b[34mGaussian blur applied\u001b[0m\n"
          ]
        },
        {
          "output_type": "stream",
          "name": "stderr",
          "text": [
            "t:  36%|███▌      | 468/1297 [00:35<00:52, 15.79it/s, now=None]"
          ]
        },
        {
          "output_type": "stream",
          "name": "stdout",
          "text": [
            "\u001b[32mGrayscale conversion complete\u001b[0m\n",
            "\u001b[34mGaussian blur applied\u001b[0m\n",
            "\u001b[32mGrayscale conversion complete\u001b[0m\n",
            "\u001b[34mGaussian blur applied\u001b[0m\n",
            "\u001b[32mGrayscale conversion complete\u001b[0m\n",
            "\u001b[34mGaussian blur applied\u001b[0m\n",
            "\u001b[32mGrayscale conversion complete\u001b[0m\n",
            "\u001b[34mGaussian blur applied\u001b[0m\n"
          ]
        },
        {
          "output_type": "stream",
          "name": "stderr",
          "text": [
            "\rt:  36%|███▌      | 470/1297 [00:35<00:51, 15.96it/s, now=None]"
          ]
        },
        {
          "output_type": "stream",
          "name": "stdout",
          "text": [
            "\u001b[32mGrayscale conversion complete\u001b[0m\n",
            "\u001b[34mGaussian blur applied\u001b[0m\n",
            "\u001b[32mGrayscale conversion complete\u001b[0m\n",
            "\u001b[34mGaussian blur applied\u001b[0m\n",
            "\u001b[32mGrayscale conversion complete\u001b[0m\n",
            "\u001b[34mGaussian blur applied\u001b[0m\n",
            "\u001b[32mGrayscale conversion complete\u001b[0m\n",
            "\u001b[34mGaussian blur applied\u001b[0m\n"
          ]
        },
        {
          "output_type": "stream",
          "name": "stderr",
          "text": [
            "t:  37%|███▋      | 476/1297 [00:36<00:46, 17.85it/s, now=None]"
          ]
        },
        {
          "output_type": "stream",
          "name": "stdout",
          "text": [
            "\u001b[32mGrayscale conversion complete\u001b[0m\n",
            "\u001b[34mGaussian blur applied\u001b[0m\n",
            "\u001b[32mGrayscale conversion complete\u001b[0m\n",
            "\u001b[34mGaussian blur applied\u001b[0m\n",
            "\u001b[32mGrayscale conversion complete\u001b[0m\n",
            "\u001b[34mGaussian blur applied\u001b[0m\n",
            "\u001b[32mGrayscale conversion complete\u001b[0m\n",
            "\u001b[34mGaussian blur applied\u001b[0m\n"
          ]
        },
        {
          "output_type": "stream",
          "name": "stderr",
          "text": [
            "t:  37%|███▋      | 480/1297 [00:36<00:50, 16.20it/s, now=None]"
          ]
        },
        {
          "output_type": "stream",
          "name": "stdout",
          "text": [
            "\u001b[32mGrayscale conversion complete\u001b[0m\n",
            "\u001b[34mGaussian blur applied\u001b[0m\n",
            "\u001b[32mGrayscale conversion complete\u001b[0m\n",
            "\u001b[34mGaussian blur applied\u001b[0m\n",
            "\u001b[32mGrayscale conversion complete\u001b[0m\n",
            "\u001b[34mGaussian blur applied\u001b[0m\n",
            "\u001b[32mGrayscale conversion complete\u001b[0m\n",
            "\u001b[34mGaussian blur applied\u001b[0m\n",
            "\u001b[32mGrayscale conversion complete\u001b[0m\n",
            "\u001b[34mGaussian blur applied\u001b[0m\n"
          ]
        },
        {
          "output_type": "stream",
          "name": "stderr",
          "text": [
            "t:  37%|███▋      | 484/1297 [00:36<00:53, 15.23it/s, now=None]"
          ]
        },
        {
          "output_type": "stream",
          "name": "stdout",
          "text": [
            "\u001b[32mGrayscale conversion complete\u001b[0m\n",
            "\u001b[34mGaussian blur applied\u001b[0m\n",
            "\u001b[32mGrayscale conversion complete\u001b[0m\n",
            "\u001b[34mGaussian blur applied\u001b[0m\n",
            "\u001b[32mGrayscale conversion complete\u001b[0m\n",
            "\u001b[34mGaussian blur applied\u001b[0m\n"
          ]
        },
        {
          "output_type": "stream",
          "name": "stderr",
          "text": [
            "t:  38%|███▊      | 488/1297 [00:37<00:52, 15.41it/s, now=None]"
          ]
        },
        {
          "output_type": "stream",
          "name": "stdout",
          "text": [
            "\u001b[32mGrayscale conversion complete\u001b[0m\n",
            "\u001b[34mGaussian blur applied\u001b[0m\n",
            "\u001b[32mGrayscale conversion complete\u001b[0m\n",
            "\u001b[34mGaussian blur applied\u001b[0m\n",
            "\u001b[32mGrayscale conversion complete\u001b[0m\n",
            "\u001b[34mGaussian blur applied\u001b[0m\n",
            "\u001b[32mGrayscale conversion complete\u001b[0m\n",
            "\u001b[34mGaussian blur applied\u001b[0m\n"
          ]
        },
        {
          "output_type": "stream",
          "name": "stderr",
          "text": [
            "t:  38%|███▊      | 492/1297 [00:37<00:53, 15.15it/s, now=None]"
          ]
        },
        {
          "output_type": "stream",
          "name": "stdout",
          "text": [
            "\u001b[32mGrayscale conversion complete\u001b[0m\n",
            "\u001b[34mGaussian blur applied\u001b[0m\n",
            "\u001b[32mGrayscale conversion complete\u001b[0m\n",
            "\u001b[34mGaussian blur applied\u001b[0m\n",
            "\u001b[32mGrayscale conversion complete\u001b[0m\n",
            "\u001b[34mGaussian blur applied\u001b[0m\n"
          ]
        },
        {
          "output_type": "stream",
          "name": "stderr",
          "text": [
            "\rt:  38%|███▊      | 494/1297 [00:37<00:51, 15.46it/s, now=None]"
          ]
        },
        {
          "output_type": "stream",
          "name": "stdout",
          "text": [
            "\u001b[32mGrayscale conversion complete\u001b[0m\n",
            "\u001b[34mGaussian blur applied\u001b[0m\n",
            "\u001b[32mGrayscale conversion complete\u001b[0m\n",
            "\u001b[34mGaussian blur applied\u001b[0m\n",
            "\u001b[32mGrayscale conversion complete\u001b[0m\n",
            "\u001b[34mGaussian blur applied\u001b[0m\n",
            "\u001b[32mGrayscale conversion complete\u001b[0m\n",
            "\u001b[34mGaussian blur applied\u001b[0m\n"
          ]
        },
        {
          "output_type": "stream",
          "name": "stderr",
          "text": [
            "t:  38%|███▊      | 498/1297 [00:37<00:49, 16.05it/s, now=None]"
          ]
        },
        {
          "output_type": "stream",
          "name": "stdout",
          "text": [
            "\u001b[32mGrayscale conversion complete\u001b[0m\n",
            "\u001b[34mGaussian blur applied\u001b[0m\n",
            "\u001b[32mGrayscale conversion complete\u001b[0m\n",
            "\u001b[34mGaussian blur applied\u001b[0m\n",
            "\u001b[32mGrayscale conversion complete\u001b[0m\n",
            "\u001b[34mGaussian blur applied\u001b[0m\n",
            "\u001b[32mGrayscale conversion complete\u001b[0m\n",
            "\u001b[34mGaussian blur applied\u001b[0m\n"
          ]
        },
        {
          "output_type": "stream",
          "name": "stderr",
          "text": [
            "t:  39%|███▉      | 503/1297 [00:38<00:51, 15.39it/s, now=None]"
          ]
        },
        {
          "output_type": "stream",
          "name": "stdout",
          "text": [
            "\u001b[32mGrayscale conversion complete\u001b[0m\n",
            "\u001b[34mGaussian blur applied\u001b[0m\n",
            "\u001b[32mGrayscale conversion complete\u001b[0m\n",
            "\u001b[34mGaussian blur applied\u001b[0m\n",
            "\u001b[32mGrayscale conversion complete\u001b[0m\n",
            "\u001b[34mGaussian blur applied\u001b[0m\n",
            "\u001b[32mGrayscale conversion complete\u001b[0m\n",
            "\u001b[34mGaussian blur applied\u001b[0m\n"
          ]
        },
        {
          "output_type": "stream",
          "name": "stderr",
          "text": [
            "\rt:  39%|███▉      | 506/1297 [00:38<00:46, 17.02it/s, now=None]"
          ]
        },
        {
          "output_type": "stream",
          "name": "stdout",
          "text": [
            "\u001b[32mGrayscale conversion complete\u001b[0m\n",
            "\u001b[34mGaussian blur applied\u001b[0m\n",
            "\u001b[32mGrayscale conversion complete\u001b[0m\n",
            "\u001b[34mGaussian blur applied\u001b[0m\n",
            "\u001b[32mGrayscale conversion complete\u001b[0m\n",
            "\u001b[34mGaussian blur applied\u001b[0m\n"
          ]
        },
        {
          "output_type": "stream",
          "name": "stderr",
          "text": [
            "\rt:  39%|███▉      | 508/1297 [00:38<00:56, 14.08it/s, now=None]"
          ]
        },
        {
          "output_type": "stream",
          "name": "stdout",
          "text": [
            "\u001b[32mGrayscale conversion complete\u001b[0m\n",
            "\u001b[34mGaussian blur applied\u001b[0m\n",
            "\u001b[32mGrayscale conversion complete\u001b[0m\n",
            "\u001b[34mGaussian blur applied\u001b[0m\n",
            "\u001b[32mGrayscale conversion complete\u001b[0m\n",
            "\u001b[34mGaussian blur applied\u001b[0m\n",
            "\u001b[32mGrayscale conversion complete\u001b[0m\n",
            "\u001b[34mGaussian blur applied\u001b[0m\n"
          ]
        },
        {
          "output_type": "stream",
          "name": "stderr",
          "text": [
            "t:  40%|███▉      | 514/1297 [00:38<00:48, 16.22it/s, now=None]"
          ]
        },
        {
          "output_type": "stream",
          "name": "stdout",
          "text": [
            "\u001b[32mGrayscale conversion complete\u001b[0m\n",
            "\u001b[34mGaussian blur applied\u001b[0m\n",
            "\u001b[32mGrayscale conversion complete\u001b[0m\n",
            "\u001b[34mGaussian blur applied\u001b[0m\n",
            "\u001b[32mGrayscale conversion complete\u001b[0m\n",
            "\u001b[34mGaussian blur applied\u001b[0m\n",
            "\u001b[32mGrayscale conversion complete\u001b[0m\n",
            "\u001b[34mGaussian blur applied\u001b[0m\n"
          ]
        },
        {
          "output_type": "stream",
          "name": "stderr",
          "text": [
            "\rt:  40%|███▉      | 516/1297 [00:38<00:51, 15.04it/s, now=None]"
          ]
        },
        {
          "output_type": "stream",
          "name": "stdout",
          "text": [
            "\u001b[32mGrayscale conversion complete\u001b[0m\n",
            "\u001b[34mGaussian blur applied\u001b[0m\n",
            "\u001b[32mGrayscale conversion complete\u001b[0m\n",
            "\u001b[34mGaussian blur applied\u001b[0m\n",
            "\u001b[32mGrayscale conversion complete\u001b[0m\n",
            "\u001b[34mGaussian blur applied\u001b[0m\n",
            "\u001b[32mGrayscale conversion complete\u001b[0m\n",
            "\u001b[34mGaussian blur applied\u001b[0m\n"
          ]
        },
        {
          "output_type": "stream",
          "name": "stderr",
          "text": [
            "t:  40%|████      | 522/1297 [00:39<00:45, 16.96it/s, now=None]"
          ]
        },
        {
          "output_type": "stream",
          "name": "stdout",
          "text": [
            "\u001b[32mGrayscale conversion complete\u001b[0m\n",
            "\u001b[34mGaussian blur applied\u001b[0m\n",
            "\u001b[32mGrayscale conversion complete\u001b[0m\n",
            "\u001b[34mGaussian blur applied\u001b[0m\n",
            "\u001b[32mGrayscale conversion complete\u001b[0m\n",
            "\u001b[34mGaussian blur applied\u001b[0m\n",
            "\u001b[32mGrayscale conversion complete\u001b[0m\n",
            "\u001b[34mGaussian blur applied\u001b[0m\n"
          ]
        },
        {
          "output_type": "stream",
          "name": "stderr",
          "text": [
            "\rt:  40%|████      | 524/1297 [00:39<00:50, 15.21it/s, now=None]"
          ]
        },
        {
          "output_type": "stream",
          "name": "stdout",
          "text": [
            "\u001b[32mGrayscale conversion complete\u001b[0m\n",
            "\u001b[34mGaussian blur applied\u001b[0m\n",
            "\u001b[32mGrayscale conversion complete\u001b[0m\n",
            "\u001b[34mGaussian blur applied\u001b[0m\n",
            "\u001b[32mGrayscale conversion complete\u001b[0m\n",
            "\u001b[34mGaussian blur applied\u001b[0m\n",
            "\u001b[32mGrayscale conversion complete\u001b[0m\n",
            "\u001b[34mGaussian blur applied\u001b[0m\n"
          ]
        },
        {
          "output_type": "stream",
          "name": "stderr",
          "text": [
            "t:  41%|████      | 529/1297 [00:39<00:48, 15.76it/s, now=None]"
          ]
        },
        {
          "output_type": "stream",
          "name": "stdout",
          "text": [
            "\u001b[32mGrayscale conversion complete\u001b[0m\n",
            "\u001b[34mGaussian blur applied\u001b[0m\n",
            "\u001b[32mGrayscale conversion complete\u001b[0m\n",
            "\u001b[34mGaussian blur applied\u001b[0m\n",
            "\u001b[32mGrayscale conversion complete\u001b[0m\n",
            "\u001b[34mGaussian blur applied\u001b[0m\n",
            "\u001b[32mGrayscale conversion complete\u001b[0m\n",
            "\u001b[34mGaussian blur applied\u001b[0m\n"
          ]
        },
        {
          "output_type": "stream",
          "name": "stderr",
          "text": [
            "t:  41%|████      | 535/1297 [00:40<00:46, 16.27it/s, now=None]"
          ]
        },
        {
          "output_type": "stream",
          "name": "stdout",
          "text": [
            "\u001b[32mGrayscale conversion complete\u001b[0m\n",
            "\u001b[34mGaussian blur applied\u001b[0m\n",
            "\u001b[32mGrayscale conversion complete\u001b[0m\n",
            "\u001b[34mGaussian blur applied\u001b[0m\n",
            "\u001b[32mGrayscale conversion complete\u001b[0m\n",
            "\u001b[34mGaussian blur applied\u001b[0m\n",
            "\u001b[32mGrayscale conversion complete\u001b[0m\n",
            "\u001b[34mGaussian blur applied\u001b[0m\n"
          ]
        },
        {
          "output_type": "stream",
          "name": "stderr",
          "text": [
            "\rt:  41%|████▏     | 537/1297 [00:40<00:47, 16.05it/s, now=None]"
          ]
        },
        {
          "output_type": "stream",
          "name": "stdout",
          "text": [
            "\u001b[32mGrayscale conversion complete\u001b[0m\n",
            "\u001b[34mGaussian blur applied\u001b[0m\n",
            "\u001b[32mGrayscale conversion complete\u001b[0m\n",
            "\u001b[34mGaussian blur applied\u001b[0m\n",
            "\u001b[32mGrayscale conversion complete\u001b[0m\n",
            "\u001b[34mGaussian blur applied\u001b[0m\n",
            "\u001b[32mGrayscale conversion complete\u001b[0m\n",
            "\u001b[34mGaussian blur applied\u001b[0m\n"
          ]
        },
        {
          "output_type": "stream",
          "name": "stderr",
          "text": [
            "t:  42%|████▏     | 541/1297 [00:40<00:50, 14.85it/s, now=None]"
          ]
        },
        {
          "output_type": "stream",
          "name": "stdout",
          "text": [
            "\u001b[32mGrayscale conversion complete\u001b[0m\n",
            "\u001b[34mGaussian blur applied\u001b[0m\n",
            "\u001b[32mGrayscale conversion complete\u001b[0m\n",
            "\u001b[34mGaussian blur applied\u001b[0m\n",
            "\u001b[32mGrayscale conversion complete\u001b[0m\n",
            "\u001b[34mGaussian blur applied\u001b[0m\n",
            "\u001b[32mGrayscale conversion complete\u001b[0m\n",
            "\u001b[34mGaussian blur applied\u001b[0m\n"
          ]
        },
        {
          "output_type": "stream",
          "name": "stderr",
          "text": [
            "t:  42%|████▏     | 545/1297 [00:40<00:49, 15.31it/s, now=None]"
          ]
        },
        {
          "output_type": "stream",
          "name": "stdout",
          "text": [
            "\u001b[32mGrayscale conversion complete\u001b[0m\n",
            "\u001b[34mGaussian blur applied\u001b[0m\n",
            "\u001b[32mGrayscale conversion complete\u001b[0m\n",
            "\u001b[34mGaussian blur applied\u001b[0m\n",
            "\u001b[32mGrayscale conversion complete\u001b[0m\n",
            "\u001b[34mGaussian blur applied\u001b[0m\n",
            "\u001b[32mGrayscale conversion complete\u001b[0m\n",
            "\u001b[34mGaussian blur applied\u001b[0m\n"
          ]
        },
        {
          "output_type": "stream",
          "name": "stderr",
          "text": [
            "t:  42%|████▏     | 549/1297 [00:41<00:46, 16.15it/s, now=None]"
          ]
        },
        {
          "output_type": "stream",
          "name": "stdout",
          "text": [
            "\u001b[32mGrayscale conversion complete\u001b[0m\n",
            "\u001b[34mGaussian blur applied\u001b[0m\n",
            "\u001b[32mGrayscale conversion complete\u001b[0m\n",
            "\u001b[34mGaussian blur applied\u001b[0m\n",
            "\u001b[32mGrayscale conversion complete\u001b[0m\n",
            "\u001b[34mGaussian blur applied\u001b[0m\n",
            "\u001b[32mGrayscale conversion complete\u001b[0m\n",
            "\u001b[34mGaussian blur applied\u001b[0m\n"
          ]
        },
        {
          "output_type": "stream",
          "name": "stderr",
          "text": [
            "t:  43%|████▎     | 554/1297 [00:41<00:44, 16.69it/s, now=None]"
          ]
        },
        {
          "output_type": "stream",
          "name": "stdout",
          "text": [
            "\u001b[32mGrayscale conversion complete\u001b[0m\n",
            "\u001b[34mGaussian blur applied\u001b[0m\n",
            "\u001b[32mGrayscale conversion complete\u001b[0m\n",
            "\u001b[34mGaussian blur applied\u001b[0m\n",
            "\u001b[32mGrayscale conversion complete\u001b[0m\n",
            "\u001b[34mGaussian blur applied\u001b[0m\n",
            "\u001b[32mGrayscale conversion complete\u001b[0m\n",
            "\u001b[34mGaussian blur applied\u001b[0m\n",
            "\u001b[32mGrayscale conversion complete\u001b[0m\n"
          ]
        },
        {
          "output_type": "stream",
          "name": "stderr",
          "text": [
            "\rt:  43%|████▎     | 557/1297 [00:41<00:40, 18.29it/s, now=None]"
          ]
        },
        {
          "output_type": "stream",
          "name": "stdout",
          "text": [
            "\u001b[34mGaussian blur applied\u001b[0m\n",
            "\u001b[32mGrayscale conversion complete\u001b[0m\n",
            "\u001b[34mGaussian blur applied\u001b[0m\n",
            "\u001b[32mGrayscale conversion complete\u001b[0m\n",
            "\u001b[34mGaussian blur applied\u001b[0m\n",
            "\u001b[32mGrayscale conversion complete\u001b[0m\n",
            "\u001b[34mGaussian blur applied\u001b[0m\n"
          ]
        },
        {
          "output_type": "stream",
          "name": "stderr",
          "text": [
            "t:  43%|████▎     | 562/1297 [00:41<00:40, 18.35it/s, now=None]"
          ]
        },
        {
          "output_type": "stream",
          "name": "stdout",
          "text": [
            "\u001b[32mGrayscale conversion complete\u001b[0m\n",
            "\u001b[34mGaussian blur applied\u001b[0m\n",
            "\u001b[32mGrayscale conversion complete\u001b[0m\n",
            "\u001b[34mGaussian blur applied\u001b[0m\n",
            "\u001b[32mGrayscale conversion complete\u001b[0m\n",
            "\u001b[34mGaussian blur applied\u001b[0m\n",
            "\u001b[32mGrayscale conversion complete\u001b[0m\n",
            "\u001b[34mGaussian blur applied\u001b[0m\n"
          ]
        },
        {
          "output_type": "stream",
          "name": "stderr",
          "text": [
            "\rt:  43%|████▎     | 564/1297 [00:41<00:44, 16.59it/s, now=None]"
          ]
        },
        {
          "output_type": "stream",
          "name": "stdout",
          "text": [
            "\u001b[32mGrayscale conversion complete\u001b[0m\n",
            "\u001b[34mGaussian blur applied\u001b[0m\n",
            "\u001b[32mGrayscale conversion complete\u001b[0m\n",
            "\u001b[34mGaussian blur applied\u001b[0m\n",
            "\u001b[32mGrayscale conversion complete\u001b[0m\n",
            "\u001b[34mGaussian blur applied\u001b[0m\n",
            "\u001b[32mGrayscale conversion complete\u001b[0m\n",
            "\u001b[34mGaussian blur applied\u001b[0m\n"
          ]
        },
        {
          "output_type": "stream",
          "name": "stderr",
          "text": [
            "t:  44%|████▍     | 569/1297 [00:42<00:45, 15.87it/s, now=None]"
          ]
        },
        {
          "output_type": "stream",
          "name": "stdout",
          "text": [
            "\u001b[32mGrayscale conversion complete\u001b[0m\n",
            "\u001b[34mGaussian blur applied\u001b[0m\n",
            "\u001b[32mGrayscale conversion complete\u001b[0m\n",
            "\u001b[34mGaussian blur applied\u001b[0m\n",
            "\u001b[32mGrayscale conversion complete\u001b[0m\n",
            "\u001b[34mGaussian blur applied\u001b[0m\n",
            "\u001b[32mGrayscale conversion complete\u001b[0m\n",
            "\u001b[34mGaussian blur applied\u001b[0m\n"
          ]
        },
        {
          "output_type": "stream",
          "name": "stderr",
          "text": [
            "t:  44%|████▍     | 574/1297 [00:42<00:41, 17.32it/s, now=None]"
          ]
        },
        {
          "output_type": "stream",
          "name": "stdout",
          "text": [
            "\u001b[32mGrayscale conversion complete\u001b[0m\n",
            "\u001b[34mGaussian blur applied\u001b[0m\n",
            "\u001b[32mGrayscale conversion complete\u001b[0m\n",
            "\u001b[34mGaussian blur applied\u001b[0m\n",
            "\u001b[32mGrayscale conversion complete\u001b[0m\n",
            "\u001b[34mGaussian blur applied\u001b[0m\n",
            "\u001b[32mGrayscale conversion complete\u001b[0m\n",
            "\u001b[34mGaussian blur applied\u001b[0m\n"
          ]
        },
        {
          "output_type": "stream",
          "name": "stderr",
          "text": [
            "\rt:  44%|████▍     | 576/1297 [00:42<00:56, 12.85it/s, now=None]"
          ]
        },
        {
          "output_type": "stream",
          "name": "stdout",
          "text": [
            "\u001b[32mGrayscale conversion complete\u001b[0m\n",
            "\u001b[34mGaussian blur applied\u001b[0m\n",
            "\u001b[32mGrayscale conversion complete\u001b[0m\n",
            "\u001b[34mGaussian blur applied\u001b[0m\n",
            "\u001b[32mGrayscale conversion complete\u001b[0m\n",
            "\u001b[34mGaussian blur applied\u001b[0m\n"
          ]
        },
        {
          "output_type": "stream",
          "name": "stderr",
          "text": [
            "t:  45%|████▍     | 580/1297 [00:43<01:01, 11.57it/s, now=None]"
          ]
        },
        {
          "output_type": "stream",
          "name": "stdout",
          "text": [
            "\u001b[32mGrayscale conversion complete\u001b[0m\n",
            "\u001b[34mGaussian blur applied\u001b[0m\n",
            "\u001b[32mGrayscale conversion complete\u001b[0m\n",
            "\u001b[34mGaussian blur applied\u001b[0m\n",
            "\u001b[32mGrayscale conversion complete\u001b[0m\n",
            "\u001b[34mGaussian blur applied\u001b[0m\n"
          ]
        },
        {
          "output_type": "stream",
          "name": "stderr",
          "text": [
            "\rt:  45%|████▍     | 582/1297 [00:43<01:03, 11.32it/s, now=None]"
          ]
        },
        {
          "output_type": "stream",
          "name": "stdout",
          "text": [
            "\u001b[32mGrayscale conversion complete\u001b[0m\n",
            "\u001b[34mGaussian blur applied\u001b[0m\n",
            "\u001b[32mGrayscale conversion complete\u001b[0m\n",
            "\u001b[34mGaussian blur applied\u001b[0m\n",
            "\u001b[32mGrayscale conversion complete\u001b[0m\n",
            "\u001b[34mGaussian blur applied\u001b[0m\n"
          ]
        },
        {
          "output_type": "stream",
          "name": "stderr",
          "text": [
            "t:  45%|████▌     | 586/1297 [00:43<01:03, 11.24it/s, now=None]"
          ]
        },
        {
          "output_type": "stream",
          "name": "stdout",
          "text": [
            "\u001b[32mGrayscale conversion complete\u001b[0m\n",
            "\u001b[34mGaussian blur applied\u001b[0m\n",
            "\u001b[32mGrayscale conversion complete\u001b[0m\n",
            "\u001b[34mGaussian blur applied\u001b[0m\n",
            "\u001b[32mGrayscale conversion complete\u001b[0m\n",
            "\u001b[34mGaussian blur applied\u001b[0m\n"
          ]
        },
        {
          "output_type": "stream",
          "name": "stderr",
          "text": [
            "t:  45%|████▌     | 590/1297 [00:44<01:04, 11.04it/s, now=None]"
          ]
        },
        {
          "output_type": "stream",
          "name": "stdout",
          "text": [
            "\u001b[32mGrayscale conversion complete\u001b[0m\n",
            "\u001b[34mGaussian blur applied\u001b[0m\n",
            "\u001b[32mGrayscale conversion complete\u001b[0m\n",
            "\u001b[34mGaussian blur applied\u001b[0m\n",
            "\u001b[32mGrayscale conversion complete\u001b[0m\n",
            "\u001b[34mGaussian blur applied\u001b[0m\n",
            "\u001b[32mGrayscale conversion complete\u001b[0m\n",
            "\u001b[34mGaussian blur applied\u001b[0m\n"
          ]
        },
        {
          "output_type": "stream",
          "name": "stderr",
          "text": [
            "\rt:  46%|████▌     | 592/1297 [00:44<01:14,  9.41it/s, now=None]"
          ]
        },
        {
          "output_type": "stream",
          "name": "stdout",
          "text": [
            "\u001b[32mGrayscale conversion complete\u001b[0m\n",
            "\u001b[34mGaussian blur applied\u001b[0m\n",
            "\u001b[32mGrayscale conversion complete\u001b[0m\n",
            "\u001b[34mGaussian blur applied\u001b[0m\n",
            "\u001b[32mGrayscale conversion complete\u001b[0m\n",
            "\u001b[34mGaussian blur applied\u001b[0m\n"
          ]
        },
        {
          "output_type": "stream",
          "name": "stderr",
          "text": [
            "\rt:  46%|████▌     | 594/1297 [00:44<01:11,  9.86it/s, now=None]"
          ]
        },
        {
          "output_type": "stream",
          "name": "stdout",
          "text": [
            "\u001b[32mGrayscale conversion complete\u001b[0m\n",
            "\u001b[34mGaussian blur applied\u001b[0m\n",
            "\u001b[32mGrayscale conversion complete\u001b[0m\n",
            "\u001b[34mGaussian blur applied\u001b[0m\n"
          ]
        },
        {
          "output_type": "stream",
          "name": "stderr",
          "text": [
            "t:  46%|████▌     | 598/1297 [00:45<01:11,  9.84it/s, now=None]"
          ]
        },
        {
          "output_type": "stream",
          "name": "stdout",
          "text": [
            "\u001b[32mGrayscale conversion complete\u001b[0m\n",
            "\u001b[34mGaussian blur applied\u001b[0m\n",
            "\u001b[32mGrayscale conversion complete\u001b[0m\n",
            "\u001b[34mGaussian blur applied\u001b[0m\n",
            "\u001b[32mGrayscale conversion complete\u001b[0m\n",
            "\u001b[34mGaussian blur applied\u001b[0m\n"
          ]
        },
        {
          "output_type": "stream",
          "name": "stderr",
          "text": [
            "t:  46%|████▋     | 602/1297 [00:45<01:10,  9.93it/s, now=None]"
          ]
        },
        {
          "output_type": "stream",
          "name": "stdout",
          "text": [
            "\u001b[32mGrayscale conversion complete\u001b[0m\n",
            "\u001b[34mGaussian blur applied\u001b[0m\n",
            "\u001b[32mGrayscale conversion complete\u001b[0m\n",
            "\u001b[34mGaussian blur applied\u001b[0m\n",
            "\u001b[32mGrayscale conversion complete\u001b[0m\n",
            "\u001b[34mGaussian blur applied\u001b[0m\n"
          ]
        },
        {
          "output_type": "stream",
          "name": "stderr",
          "text": [
            "\rt:  47%|████▋     | 604/1297 [00:45<01:09,  9.96it/s, now=None]"
          ]
        },
        {
          "output_type": "stream",
          "name": "stdout",
          "text": [
            "\u001b[32mGrayscale conversion complete\u001b[0m\n",
            "\u001b[34mGaussian blur applied\u001b[0m\n",
            "\u001b[32mGrayscale conversion complete\u001b[0m\n",
            "\u001b[34mGaussian blur applied\u001b[0m\n",
            "\u001b[32mGrayscale conversion complete\u001b[0m\n",
            "\u001b[34mGaussian blur applied\u001b[0m\n"
          ]
        },
        {
          "output_type": "stream",
          "name": "stderr",
          "text": [
            "\rt:  47%|████▋     | 606/1297 [00:45<01:02, 11.11it/s, now=None]"
          ]
        },
        {
          "output_type": "stream",
          "name": "stdout",
          "text": [
            "\u001b[32mGrayscale conversion complete\u001b[0m\n",
            "\u001b[34mGaussian blur applied\u001b[0m\n",
            "\u001b[32mGrayscale conversion complete\u001b[0m\n",
            "\u001b[34mGaussian blur applied\u001b[0m\n",
            "\u001b[32mGrayscale conversion complete\u001b[0m\n",
            "\u001b[34mGaussian blur applied\u001b[0m\n"
          ]
        },
        {
          "output_type": "stream",
          "name": "stderr",
          "text": [
            "\rt:  47%|████▋     | 608/1297 [00:46<01:09,  9.87it/s, now=None]"
          ]
        },
        {
          "output_type": "stream",
          "name": "stdout",
          "text": [
            "\u001b[32mGrayscale conversion complete\u001b[0m\n",
            "\u001b[34mGaussian blur applied\u001b[0m\n",
            "\u001b[32mGrayscale conversion complete\u001b[0m\n",
            "\u001b[34mGaussian blur applied\u001b[0m\n",
            "\u001b[32mGrayscale conversion complete\u001b[0m\n",
            "\u001b[34mGaussian blur applied\u001b[0m\n"
          ]
        },
        {
          "output_type": "stream",
          "name": "stderr",
          "text": [
            "t:  47%|████▋     | 613/1297 [00:46<01:01, 11.13it/s, now=None]"
          ]
        },
        {
          "output_type": "stream",
          "name": "stdout",
          "text": [
            "\u001b[32mGrayscale conversion complete\u001b[0m\n",
            "\u001b[34mGaussian blur applied\u001b[0m\n",
            "\u001b[32mGrayscale conversion complete\u001b[0m\n",
            "\u001b[34mGaussian blur applied\u001b[0m\n",
            "\u001b[32mGrayscale conversion complete\u001b[0m\n",
            "\u001b[34mGaussian blur applied\u001b[0m\n"
          ]
        },
        {
          "output_type": "stream",
          "name": "stderr",
          "text": [
            "\rt:  47%|████▋     | 615/1297 [00:46<01:05, 10.38it/s, now=None]"
          ]
        },
        {
          "output_type": "stream",
          "name": "stdout",
          "text": [
            "\u001b[32mGrayscale conversion complete\u001b[0m\n",
            "\u001b[34mGaussian blur applied\u001b[0m\n",
            "\u001b[32mGrayscale conversion complete\u001b[0m\n",
            "\u001b[34mGaussian blur applied\u001b[0m\n",
            "\u001b[32mGrayscale conversion complete\u001b[0m\n",
            "\u001b[34mGaussian blur applied\u001b[0m\n"
          ]
        },
        {
          "output_type": "stream",
          "name": "stderr",
          "text": [
            "\rt:  48%|████▊     | 617/1297 [00:46<01:06, 10.25it/s, now=None]"
          ]
        },
        {
          "output_type": "stream",
          "name": "stdout",
          "text": [
            "\u001b[32mGrayscale conversion complete\u001b[0m\n",
            "\u001b[34mGaussian blur applied\u001b[0m\n",
            "\u001b[32mGrayscale conversion complete\u001b[0m\n",
            "\u001b[34mGaussian blur applied\u001b[0m\n"
          ]
        },
        {
          "output_type": "stream",
          "name": "stderr",
          "text": [
            "t:  48%|████▊     | 621/1297 [00:47<01:05, 10.34it/s, now=None]"
          ]
        },
        {
          "output_type": "stream",
          "name": "stdout",
          "text": [
            "\u001b[32mGrayscale conversion complete\u001b[0m\n",
            "\u001b[34mGaussian blur applied\u001b[0m\n",
            "\u001b[32mGrayscale conversion complete\u001b[0m\n",
            "\u001b[34mGaussian blur applied\u001b[0m\n",
            "\u001b[32mGrayscale conversion complete\u001b[0m\n",
            "\u001b[34mGaussian blur applied\u001b[0m\n"
          ]
        },
        {
          "output_type": "stream",
          "name": "stderr",
          "text": [
            "\rt:  48%|████▊     | 623/1297 [00:47<01:22,  8.12it/s, now=None]"
          ]
        },
        {
          "output_type": "stream",
          "name": "stdout",
          "text": [
            "\u001b[32mGrayscale conversion complete\u001b[0m\n",
            "\u001b[34mGaussian blur applied\u001b[0m\n",
            "\u001b[32mGrayscale conversion complete\u001b[0m\n",
            "\u001b[34mGaussian blur applied\u001b[0m\n",
            "\u001b[32mGrayscale conversion complete\u001b[0m\n",
            "\u001b[34mGaussian blur applied\u001b[0m\n"
          ]
        },
        {
          "output_type": "stream",
          "name": "stderr",
          "text": [
            "\rt:  48%|████▊     | 625/1297 [00:47<01:12,  9.23it/s, now=None]"
          ]
        },
        {
          "output_type": "stream",
          "name": "stdout",
          "text": [
            "\u001b[32mGrayscale conversion complete\u001b[0m\n",
            "\u001b[34mGaussian blur applied\u001b[0m\n",
            "\u001b[32mGrayscale conversion complete\u001b[0m\n",
            "\u001b[34mGaussian blur applied\u001b[0m\n"
          ]
        },
        {
          "output_type": "stream",
          "name": "stderr",
          "text": [
            "t:  49%|████▊     | 630/1297 [00:48<01:06, 10.10it/s, now=None]"
          ]
        },
        {
          "output_type": "stream",
          "name": "stdout",
          "text": [
            "\u001b[32mGrayscale conversion complete\u001b[0m\n",
            "\u001b[34mGaussian blur applied\u001b[0m\n",
            "\u001b[32mGrayscale conversion complete\u001b[0m\n",
            "\u001b[34mGaussian blur applied\u001b[0m\n",
            "\u001b[32mGrayscale conversion complete\u001b[0m\n",
            "\u001b[34mGaussian blur applied\u001b[0m\n",
            "\u001b[32mGrayscale conversion complete\u001b[0m\n",
            "\u001b[34mGaussian blur applied\u001b[0m\n"
          ]
        },
        {
          "output_type": "stream",
          "name": "stderr",
          "text": [
            "\rt:  49%|████▉     | 633/1297 [00:48<00:53, 12.35it/s, now=None]"
          ]
        },
        {
          "output_type": "stream",
          "name": "stdout",
          "text": [
            "\u001b[32mGrayscale conversion complete\u001b[0m\n",
            "\u001b[34mGaussian blur applied\u001b[0m\n",
            "\u001b[32mGrayscale conversion complete\u001b[0m\n",
            "\u001b[34mGaussian blur applied\u001b[0m\n",
            "\u001b[32mGrayscale conversion complete\u001b[0m\n",
            "\u001b[34mGaussian blur applied\u001b[0m\n",
            "\u001b[32mGrayscale conversion complete\u001b[0m\n",
            "\u001b[34mGaussian blur applied\u001b[0m\n"
          ]
        },
        {
          "output_type": "stream",
          "name": "stderr",
          "text": [
            "t:  49%|████▉     | 638/1297 [00:48<00:49, 13.24it/s, now=None]"
          ]
        },
        {
          "output_type": "stream",
          "name": "stdout",
          "text": [
            "\u001b[32mGrayscale conversion complete\u001b[0m\n",
            "\u001b[34mGaussian blur applied\u001b[0m\n",
            "\u001b[32mGrayscale conversion complete\u001b[0m\n",
            "\u001b[34mGaussian blur applied\u001b[0m\n",
            "\u001b[32mGrayscale conversion complete\u001b[0m\n",
            "\u001b[34mGaussian blur applied\u001b[0m\n"
          ]
        },
        {
          "output_type": "stream",
          "name": "stderr",
          "text": [
            "\rt:  49%|████▉     | 640/1297 [00:48<00:47, 13.91it/s, now=None]"
          ]
        },
        {
          "output_type": "stream",
          "name": "stdout",
          "text": [
            "\u001b[32mGrayscale conversion complete\u001b[0m\n",
            "\u001b[34mGaussian blur applied\u001b[0m\n",
            "\u001b[32mGrayscale conversion complete\u001b[0m\n",
            "\u001b[34mGaussian blur applied\u001b[0m\n",
            "\u001b[32mGrayscale conversion complete\u001b[0m\n",
            "\u001b[34mGaussian blur applied\u001b[0m\n",
            "\u001b[32mGrayscale conversion complete\u001b[0m\n",
            "\u001b[34mGaussian blur applied\u001b[0m\n"
          ]
        },
        {
          "output_type": "stream",
          "name": "stderr",
          "text": [
            "t:  50%|████▉     | 644/1297 [00:49<00:45, 14.48it/s, now=None]"
          ]
        },
        {
          "output_type": "stream",
          "name": "stdout",
          "text": [
            "\u001b[32mGrayscale conversion complete\u001b[0m\n",
            "\u001b[34mGaussian blur applied\u001b[0m\n",
            "\u001b[32mGrayscale conversion complete\u001b[0m\n",
            "\u001b[34mGaussian blur applied\u001b[0m\n",
            "\u001b[32mGrayscale conversion complete\u001b[0m\n",
            "\u001b[34mGaussian blur applied\u001b[0m\n",
            "\u001b[32mGrayscale conversion complete\u001b[0m\n",
            "\u001b[34mGaussian blur applied\u001b[0m\n"
          ]
        },
        {
          "output_type": "stream",
          "name": "stderr",
          "text": [
            "t:  50%|████▉     | 648/1297 [00:49<00:42, 15.12it/s, now=None]"
          ]
        },
        {
          "output_type": "stream",
          "name": "stdout",
          "text": [
            "\u001b[32mGrayscale conversion complete\u001b[0m\n",
            "\u001b[34mGaussian blur applied\u001b[0m\n",
            "\u001b[32mGrayscale conversion complete\u001b[0m\n",
            "\u001b[34mGaussian blur applied\u001b[0m\n",
            "\u001b[32mGrayscale conversion complete\u001b[0m\n",
            "\u001b[34mGaussian blur applied\u001b[0m\n",
            "\u001b[32mGrayscale conversion complete\u001b[0m\n",
            "\u001b[34mGaussian blur applied\u001b[0m\n"
          ]
        },
        {
          "output_type": "stream",
          "name": "stderr",
          "text": [
            "t:  50%|█████     | 653/1297 [00:49<00:41, 15.49it/s, now=None]"
          ]
        },
        {
          "output_type": "stream",
          "name": "stdout",
          "text": [
            "\u001b[32mGrayscale conversion complete\u001b[0m\n",
            "\u001b[34mGaussian blur applied\u001b[0m\n",
            "\u001b[32mGrayscale conversion complete\u001b[0m\n",
            "\u001b[34mGaussian blur applied\u001b[0m\n",
            "\u001b[32mGrayscale conversion complete\u001b[0m\n",
            "\u001b[34mGaussian blur applied\u001b[0m\n",
            "\u001b[32mGrayscale conversion complete\u001b[0m\n",
            "\u001b[34mGaussian blur applied\u001b[0m\n"
          ]
        },
        {
          "output_type": "stream",
          "name": "stderr",
          "text": [
            "t:  51%|█████     | 657/1297 [00:50<00:43, 14.70it/s, now=None]"
          ]
        },
        {
          "output_type": "stream",
          "name": "stdout",
          "text": [
            "\u001b[32mGrayscale conversion complete\u001b[0m\n",
            "\u001b[34mGaussian blur applied\u001b[0m\n",
            "\u001b[32mGrayscale conversion complete\u001b[0m\n",
            "\u001b[34mGaussian blur applied\u001b[0m\n",
            "\u001b[32mGrayscale conversion complete\u001b[0m\n",
            "\u001b[34mGaussian blur applied\u001b[0m\n",
            "\u001b[32mGrayscale conversion complete\u001b[0m\n",
            "\u001b[34mGaussian blur applied\u001b[0m\n"
          ]
        },
        {
          "output_type": "stream",
          "name": "stderr",
          "text": [
            "t:  51%|█████     | 661/1297 [00:50<00:41, 15.34it/s, now=None]"
          ]
        },
        {
          "output_type": "stream",
          "name": "stdout",
          "text": [
            "\u001b[32mGrayscale conversion complete\u001b[0m\n",
            "\u001b[34mGaussian blur applied\u001b[0m\n",
            "\u001b[32mGrayscale conversion complete\u001b[0m\n",
            "\u001b[34mGaussian blur applied\u001b[0m\n",
            "\u001b[32mGrayscale conversion complete\u001b[0m\n",
            "\u001b[34mGaussian blur applied\u001b[0m\n",
            "\u001b[32mGrayscale conversion complete\u001b[0m\n",
            "\u001b[34mGaussian blur applied\u001b[0m\n"
          ]
        },
        {
          "output_type": "stream",
          "name": "stderr",
          "text": [
            "\rt:  51%|█████     | 663/1297 [00:50<00:41, 15.33it/s, now=None]"
          ]
        },
        {
          "output_type": "stream",
          "name": "stdout",
          "text": [
            "\u001b[32mGrayscale conversion complete\u001b[0m\n",
            "\u001b[34mGaussian blur applied\u001b[0m\n",
            "\u001b[32mGrayscale conversion complete\u001b[0m\n",
            "\u001b[34mGaussian blur applied\u001b[0m\n",
            "\u001b[32mGrayscale conversion complete\u001b[0m\n",
            "\u001b[34mGaussian blur applied\u001b[0m\n",
            "\u001b[32mGrayscale conversion complete\u001b[0m\n",
            "\u001b[34mGaussian blur applied\u001b[0m\n"
          ]
        },
        {
          "output_type": "stream",
          "name": "stderr",
          "text": [
            "t:  52%|█████▏    | 668/1297 [00:50<00:38, 16.42it/s, now=None]"
          ]
        },
        {
          "output_type": "stream",
          "name": "stdout",
          "text": [
            "\u001b[32mGrayscale conversion complete\u001b[0m\n",
            "\u001b[34mGaussian blur applied\u001b[0m\n",
            "\u001b[32mGrayscale conversion complete\u001b[0m\n",
            "\u001b[34mGaussian blur applied\u001b[0m\n",
            "\u001b[32mGrayscale conversion complete\u001b[0m\n",
            "\u001b[34mGaussian blur applied\u001b[0m\n",
            "\u001b[32mGrayscale conversion complete\u001b[0m\n",
            "\u001b[34mGaussian blur applied\u001b[0m\n"
          ]
        },
        {
          "output_type": "stream",
          "name": "stderr",
          "text": [
            "t:  52%|█████▏    | 672/1297 [00:50<00:40, 15.58it/s, now=None]"
          ]
        },
        {
          "output_type": "stream",
          "name": "stdout",
          "text": [
            "\u001b[32mGrayscale conversion complete\u001b[0m\n",
            "\u001b[34mGaussian blur applied\u001b[0m\n",
            "\u001b[32mGrayscale conversion complete\u001b[0m\n",
            "\u001b[34mGaussian blur applied\u001b[0m\n",
            "\u001b[32mGrayscale conversion complete\u001b[0m\n",
            "\u001b[34mGaussian blur applied\u001b[0m\n",
            "\u001b[32mGrayscale conversion complete\u001b[0m\n",
            "\u001b[34mGaussian blur applied\u001b[0m\n"
          ]
        },
        {
          "output_type": "stream",
          "name": "stderr",
          "text": [
            "t:  52%|█████▏    | 676/1297 [00:51<00:39, 15.64it/s, now=None]"
          ]
        },
        {
          "output_type": "stream",
          "name": "stdout",
          "text": [
            "\u001b[32mGrayscale conversion complete\u001b[0m\n",
            "\u001b[34mGaussian blur applied\u001b[0m\n",
            "\u001b[32mGrayscale conversion complete\u001b[0m\n",
            "\u001b[34mGaussian blur applied\u001b[0m\n",
            "\u001b[32mGrayscale conversion complete\u001b[0m\n",
            "\u001b[34mGaussian blur applied\u001b[0m\n",
            "\u001b[32mGrayscale conversion complete\u001b[0m\n",
            "\u001b[34mGaussian blur applied\u001b[0m\n"
          ]
        },
        {
          "output_type": "stream",
          "name": "stderr",
          "text": [
            "t:  53%|█████▎    | 681/1297 [00:51<00:37, 16.54it/s, now=None]"
          ]
        },
        {
          "output_type": "stream",
          "name": "stdout",
          "text": [
            "\u001b[32mGrayscale conversion complete\u001b[0m\n",
            "\u001b[34mGaussian blur applied\u001b[0m\n",
            "\u001b[32mGrayscale conversion complete\u001b[0m\n",
            "\u001b[34mGaussian blur applied\u001b[0m\n",
            "\u001b[32mGrayscale conversion complete\u001b[0m\n",
            "\u001b[34mGaussian blur applied\u001b[0m\n",
            "\u001b[32mGrayscale conversion complete\u001b[0m\n",
            "\u001b[34mGaussian blur applied\u001b[0m\n",
            "\u001b[32mGrayscale conversion complete\u001b[0m\n",
            "\u001b[34mGaussian blur applied\u001b[0m\n"
          ]
        },
        {
          "output_type": "stream",
          "name": "stderr",
          "text": [
            "t:  53%|█████▎    | 685/1297 [00:51<00:37, 16.13it/s, now=None]"
          ]
        },
        {
          "output_type": "stream",
          "name": "stdout",
          "text": [
            "\u001b[32mGrayscale conversion complete\u001b[0m\n",
            "\u001b[34mGaussian blur applied\u001b[0m\n",
            "\u001b[32mGrayscale conversion complete\u001b[0m\n",
            "\u001b[34mGaussian blur applied\u001b[0m\n",
            "\u001b[32mGrayscale conversion complete\u001b[0m\n",
            "\u001b[34mGaussian blur applied\u001b[0m\n"
          ]
        },
        {
          "output_type": "stream",
          "name": "stderr",
          "text": [
            "t:  53%|█████▎    | 689/1297 [00:52<00:38, 16.00it/s, now=None]"
          ]
        },
        {
          "output_type": "stream",
          "name": "stdout",
          "text": [
            "\u001b[32mGrayscale conversion complete\u001b[0m\n",
            "\u001b[34mGaussian blur applied\u001b[0m\n",
            "\u001b[32mGrayscale conversion complete\u001b[0m\n",
            "\u001b[34mGaussian blur applied\u001b[0m\n",
            "\u001b[32mGrayscale conversion complete\u001b[0m\n",
            "\u001b[34mGaussian blur applied\u001b[0m\n",
            "\u001b[32mGrayscale conversion complete\u001b[0m\n",
            "\u001b[34mGaussian blur applied\u001b[0m\n"
          ]
        },
        {
          "output_type": "stream",
          "name": "stderr",
          "text": [
            "\rt:  53%|█████▎    | 692/1297 [00:52<00:32, 18.55it/s, now=None]"
          ]
        },
        {
          "output_type": "stream",
          "name": "stdout",
          "text": [
            "\u001b[32mGrayscale conversion complete\u001b[0m\n",
            "\u001b[34mGaussian blur applied\u001b[0m\n",
            "\u001b[32mGrayscale conversion complete\u001b[0m\n",
            "\u001b[34mGaussian blur applied\u001b[0m\n",
            "\u001b[32mGrayscale conversion complete\u001b[0m\n",
            "\u001b[34mGaussian blur applied\u001b[0m\n"
          ]
        },
        {
          "output_type": "stream",
          "name": "stderr",
          "text": [
            "\rt:  54%|█████▎    | 694/1297 [00:52<00:42, 14.29it/s, now=None]"
          ]
        },
        {
          "output_type": "stream",
          "name": "stdout",
          "text": [
            "\u001b[32mGrayscale conversion complete\u001b[0m\n",
            "\u001b[34mGaussian blur applied\u001b[0m\n",
            "\u001b[32mGrayscale conversion complete\u001b[0m\n",
            "\u001b[34mGaussian blur applied\u001b[0m\n",
            "\u001b[32mGrayscale conversion complete\u001b[0m\n",
            "\u001b[34mGaussian blur applied\u001b[0m\n",
            "\u001b[32mGrayscale conversion complete\u001b[0m\n",
            "\u001b[34mGaussian blur applied\u001b[0m\n"
          ]
        },
        {
          "output_type": "stream",
          "name": "stderr",
          "text": [
            "t:  54%|█████▍    | 699/1297 [00:52<00:42, 14.17it/s, now=None]"
          ]
        },
        {
          "output_type": "stream",
          "name": "stdout",
          "text": [
            "\u001b[32mGrayscale conversion complete\u001b[0m\n",
            "\u001b[34mGaussian blur applied\u001b[0m\n",
            "\u001b[32mGrayscale conversion complete\u001b[0m\n",
            "\u001b[34mGaussian blur applied\u001b[0m\n",
            "\u001b[32mGrayscale conversion complete\u001b[0m\n",
            "\u001b[34mGaussian blur applied\u001b[0m\n"
          ]
        },
        {
          "output_type": "stream",
          "name": "stderr",
          "text": [
            "t:  54%|█████▍    | 703/1297 [00:52<00:38, 15.55it/s, now=None]"
          ]
        },
        {
          "output_type": "stream",
          "name": "stdout",
          "text": [
            "\u001b[32mGrayscale conversion complete\u001b[0m\n",
            "\u001b[34mGaussian blur applied\u001b[0m\n",
            "\u001b[32mGrayscale conversion complete\u001b[0m\n",
            "\u001b[34mGaussian blur applied\u001b[0m\n",
            "\u001b[32mGrayscale conversion complete\u001b[0m\n",
            "\u001b[34mGaussian blur applied\u001b[0m\n",
            "\u001b[32mGrayscale conversion complete\u001b[0m\n",
            "\u001b[34mGaussian blur applied\u001b[0m\n"
          ]
        },
        {
          "output_type": "stream",
          "name": "stderr",
          "text": [
            "\rt:  54%|█████▍    | 705/1297 [00:53<00:42, 14.07it/s, now=None]"
          ]
        },
        {
          "output_type": "stream",
          "name": "stdout",
          "text": [
            "\u001b[32mGrayscale conversion complete\u001b[0m\n",
            "\u001b[34mGaussian blur applied\u001b[0m\n",
            "\u001b[32mGrayscale conversion complete\u001b[0m\n",
            "\u001b[34mGaussian blur applied\u001b[0m\n",
            "\u001b[32mGrayscale conversion complete\u001b[0m\n",
            "\u001b[34mGaussian blur applied\u001b[0m\n"
          ]
        },
        {
          "output_type": "stream",
          "name": "stderr",
          "text": [
            "t:  55%|█████▍    | 709/1297 [00:53<00:39, 14.82it/s, now=None]"
          ]
        },
        {
          "output_type": "stream",
          "name": "stdout",
          "text": [
            "\u001b[32mGrayscale conversion complete\u001b[0m\n",
            "\u001b[34mGaussian blur applied\u001b[0m\n",
            "\u001b[32mGrayscale conversion complete\u001b[0m\n",
            "\u001b[34mGaussian blur applied\u001b[0m\n",
            "\u001b[32mGrayscale conversion complete\u001b[0m\n",
            "\u001b[34mGaussian blur applied\u001b[0m\n",
            "\u001b[32mGrayscale conversion complete\u001b[0m\n",
            "\u001b[34mGaussian blur applied\u001b[0m\n"
          ]
        },
        {
          "output_type": "stream",
          "name": "stderr",
          "text": [
            "t:  55%|█████▍    | 713/1297 [00:53<00:39, 14.83it/s, now=None]"
          ]
        },
        {
          "output_type": "stream",
          "name": "stdout",
          "text": [
            "\u001b[32mGrayscale conversion complete\u001b[0m\n",
            "\u001b[34mGaussian blur applied\u001b[0m\n",
            "\u001b[32mGrayscale conversion complete\u001b[0m\n",
            "\u001b[34mGaussian blur applied\u001b[0m\n",
            "\u001b[32mGrayscale conversion complete\u001b[0m\n",
            "\u001b[34mGaussian blur applied\u001b[0m\n",
            "\u001b[32mGrayscale conversion complete\u001b[0m"
          ]
        },
        {
          "output_type": "stream",
          "name": "stderr",
          "text": [
            "t:  55%|█████▌    | 717/1297 [00:53<00:37, 15.34it/s, now=None]"
          ]
        },
        {
          "output_type": "stream",
          "name": "stdout",
          "text": [
            "\n",
            "\u001b[34mGaussian blur applied\u001b[0m\n",
            "\u001b[32mGrayscale conversion complete\u001b[0m\n",
            "\u001b[34mGaussian blur applied\u001b[0m\n",
            "\u001b[32mGrayscale conversion complete\u001b[0m\n",
            "\u001b[34mGaussian blur applied\u001b[0m\n"
          ]
        },
        {
          "output_type": "stream",
          "name": "stderr",
          "text": [
            "\rt:  56%|█████▌    | 720/1297 [00:54<00:32, 17.67it/s, now=None]"
          ]
        },
        {
          "output_type": "stream",
          "name": "stdout",
          "text": [
            "\u001b[32mGrayscale conversion complete\u001b[0m\n",
            "\u001b[34mGaussian blur applied\u001b[0m\n",
            "\u001b[32mGrayscale conversion complete\u001b[0m\n",
            "\u001b[34mGaussian blur applied\u001b[0m\n",
            "\u001b[32mGrayscale conversion complete\u001b[0m\n",
            "\u001b[34mGaussian blur applied\u001b[0m\n",
            "\u001b[32mGrayscale conversion complete\u001b[0m\n",
            "\u001b[34mGaussian blur applied\u001b[0m\n"
          ]
        },
        {
          "output_type": "stream",
          "name": "stderr",
          "text": [
            "t:  56%|█████▌    | 724/1297 [00:54<00:38, 14.72it/s, now=None]"
          ]
        },
        {
          "output_type": "stream",
          "name": "stdout",
          "text": [
            "\u001b[32mGrayscale conversion complete\u001b[0m\n",
            "\u001b[34mGaussian blur applied\u001b[0m\n",
            "\u001b[32mGrayscale conversion complete\u001b[0m\n",
            "\u001b[34mGaussian blur applied\u001b[0m\n",
            "\u001b[32mGrayscale conversion complete\u001b[0m\n",
            "\u001b[34mGaussian blur applied\u001b[0m\n",
            "\u001b[32mGrayscale conversion complete\u001b[0m\n",
            "\u001b[34mGaussian blur applied\u001b[0m\n"
          ]
        },
        {
          "output_type": "stream",
          "name": "stderr",
          "text": [
            "t:  56%|█████▌    | 729/1297 [00:54<00:34, 16.29it/s, now=None]"
          ]
        },
        {
          "output_type": "stream",
          "name": "stdout",
          "text": [
            "\u001b[32mGrayscale conversion complete\u001b[0m\n",
            "\u001b[34mGaussian blur applied\u001b[0m\n",
            "\u001b[32mGrayscale conversion complete\u001b[0m\n",
            "\u001b[34mGaussian blur applied\u001b[0m\n",
            "\u001b[32mGrayscale conversion complete\u001b[0m\n",
            "\u001b[34mGaussian blur applied\u001b[0m\n",
            "\u001b[32mGrayscale conversion complete\u001b[0m\n",
            "\u001b[34mGaussian blur applied\u001b[0m\n"
          ]
        },
        {
          "output_type": "stream",
          "name": "stderr",
          "text": [
            "\rt:  56%|█████▋    | 731/1297 [00:54<00:34, 16.39it/s, now=None]"
          ]
        },
        {
          "output_type": "stream",
          "name": "stdout",
          "text": [
            "\u001b[32mGrayscale conversion complete\u001b[0m\n",
            "\u001b[34mGaussian blur applied\u001b[0m\n",
            "\u001b[32mGrayscale conversion complete\u001b[0m\n",
            "\u001b[34mGaussian blur applied\u001b[0m\n",
            "\u001b[32mGrayscale conversion complete\u001b[0m\n",
            "\u001b[34mGaussian blur applied\u001b[0m\n",
            "\u001b[32mGrayscale conversion complete\u001b[0m\n",
            "\u001b[34mGaussian blur applied\u001b[0m\n"
          ]
        },
        {
          "output_type": "stream",
          "name": "stderr",
          "text": [
            "t:  57%|█████▋    | 735/1297 [00:55<00:34, 16.08it/s, now=None]"
          ]
        },
        {
          "output_type": "stream",
          "name": "stdout",
          "text": [
            "\u001b[32mGrayscale conversion complete\u001b[0m\n",
            "\u001b[34mGaussian blur applied\u001b[0m\n",
            "\u001b[32mGrayscale conversion complete\u001b[0m\n",
            "\u001b[34mGaussian blur applied\u001b[0m\n",
            "\u001b[32mGrayscale conversion complete\u001b[0m\n",
            "\u001b[34mGaussian blur applied\u001b[0m\n",
            "\u001b[32mGrayscale conversion complete\u001b[0m\n",
            "\u001b[34mGaussian blur applied\u001b[0m\n"
          ]
        },
        {
          "output_type": "stream",
          "name": "stderr",
          "text": [
            "t:  57%|█████▋    | 739/1297 [00:55<00:33, 16.46it/s, now=None]"
          ]
        },
        {
          "output_type": "stream",
          "name": "stdout",
          "text": [
            "\u001b[32mGrayscale conversion complete\u001b[0m\n",
            "\u001b[34mGaussian blur applied\u001b[0m\n",
            "\u001b[32mGrayscale conversion complete\u001b[0m\n",
            "\u001b[34mGaussian blur applied\u001b[0m\n",
            "\u001b[32mGrayscale conversion complete\u001b[0m\n",
            "\u001b[34mGaussian blur applied\u001b[0m\n",
            "\u001b[32mGrayscale conversion complete\u001b[0m\n",
            "\u001b[34mGaussian blur applied\u001b[0m\n"
          ]
        },
        {
          "output_type": "stream",
          "name": "stderr",
          "text": [
            "t:  57%|█████▋    | 744/1297 [00:55<00:31, 17.58it/s, now=None]"
          ]
        },
        {
          "output_type": "stream",
          "name": "stdout",
          "text": [
            "\u001b[32mGrayscale conversion complete\u001b[0m\n",
            "\u001b[34mGaussian blur applied\u001b[0m\n",
            "\u001b[32mGrayscale conversion complete\u001b[0m\n",
            "\u001b[34mGaussian blur applied\u001b[0m\n",
            "\u001b[32mGrayscale conversion complete\u001b[0m\n",
            "\u001b[34mGaussian blur applied\u001b[0m\n",
            "\u001b[32mGrayscale conversion complete\u001b[0m\n",
            "\u001b[34mGaussian blur applied\u001b[0m\n"
          ]
        },
        {
          "output_type": "stream",
          "name": "stderr",
          "text": [
            "t:  58%|█████▊    | 748/1297 [00:55<00:33, 16.18it/s, now=None]"
          ]
        },
        {
          "output_type": "stream",
          "name": "stdout",
          "text": [
            "\u001b[32mGrayscale conversion complete\u001b[0m\n",
            "\u001b[34mGaussian blur applied\u001b[0m\n",
            "\u001b[32mGrayscale conversion complete\u001b[0m\n",
            "\u001b[34mGaussian blur applied\u001b[0m\n",
            "\u001b[32mGrayscale conversion complete\u001b[0m\n",
            "\u001b[34mGaussian blur applied\u001b[0m\n",
            "\u001b[32mGrayscale conversion complete\u001b[0m\n",
            "\u001b[34mGaussian blur applied\u001b[0m\n"
          ]
        },
        {
          "output_type": "stream",
          "name": "stderr",
          "text": [
            "\rt:  58%|█████▊    | 750/1297 [00:55<00:37, 14.72it/s, now=None]"
          ]
        },
        {
          "output_type": "stream",
          "name": "stdout",
          "text": [
            "\u001b[32mGrayscale conversion complete\u001b[0m\n",
            "\u001b[34mGaussian blur applied\u001b[0m\n",
            "\u001b[32mGrayscale conversion complete\u001b[0m\n",
            "\u001b[34mGaussian blur applied\u001b[0m\n",
            "\u001b[32mGrayscale conversion complete\u001b[0m\n",
            "\u001b[34mGaussian blur applied\u001b[0m\n",
            "\u001b[32mGrayscale conversion complete\u001b[0m\n",
            "\u001b[34mGaussian blur applied\u001b[0m\n"
          ]
        },
        {
          "output_type": "stream",
          "name": "stderr",
          "text": [
            "t:  58%|█████▊    | 755/1297 [00:56<00:35, 15.14it/s, now=None]"
          ]
        },
        {
          "output_type": "stream",
          "name": "stdout",
          "text": [
            "\u001b[32mGrayscale conversion complete\u001b[0m\n",
            "\u001b[34mGaussian blur applied\u001b[0m\n",
            "\u001b[32mGrayscale conversion complete\u001b[0m\n",
            "\u001b[34mGaussian blur applied\u001b[0m\n",
            "\u001b[32mGrayscale conversion complete\u001b[0m\n",
            "\u001b[34mGaussian blur applied\u001b[0m\n",
            "\u001b[32mGrayscale conversion complete\u001b[0m\n",
            "\u001b[34mGaussian blur applied\u001b[0m\n",
            "\u001b[32mGrayscale conversion complete\u001b[0m\n",
            "\u001b[34mGaussian blur applied\u001b[0m\n"
          ]
        },
        {
          "output_type": "stream",
          "name": "stderr",
          "text": [
            "t:  59%|█████▊    | 761/1297 [00:56<00:32, 16.57it/s, now=None]"
          ]
        },
        {
          "output_type": "stream",
          "name": "stdout",
          "text": [
            "\u001b[32mGrayscale conversion complete\u001b[0m\n",
            "\u001b[34mGaussian blur applied\u001b[0m\n",
            "\u001b[32mGrayscale conversion complete\u001b[0m\n",
            "\u001b[34mGaussian blur applied\u001b[0m\n",
            "\u001b[32mGrayscale conversion complete\u001b[0m\n",
            "\u001b[34mGaussian blur applied\u001b[0m\n",
            "\u001b[32mGrayscale conversion complete\u001b[0m\n",
            "\u001b[34mGaussian blur applied\u001b[0m\n"
          ]
        },
        {
          "output_type": "stream",
          "name": "stderr",
          "text": [
            "t:  59%|█████▉    | 765/1297 [00:56<00:33, 15.94it/s, now=None]"
          ]
        },
        {
          "output_type": "stream",
          "name": "stdout",
          "text": [
            "\u001b[32mGrayscale conversion complete\u001b[0m\n",
            "\u001b[34mGaussian blur applied\u001b[0m\n",
            "\u001b[32mGrayscale conversion complete\u001b[0m\n",
            "\u001b[34mGaussian blur applied\u001b[0m\n",
            "\u001b[32mGrayscale conversion complete\u001b[0m\n",
            "\u001b[34mGaussian blur applied\u001b[0m\n",
            "\u001b[32mGrayscale conversion complete\u001b[0m\n",
            "\u001b[34mGaussian blur applied\u001b[0m\n"
          ]
        },
        {
          "output_type": "stream",
          "name": "stderr",
          "text": [
            "t:  59%|█████▉    | 769/1297 [00:57<00:34, 15.21it/s, now=None]"
          ]
        },
        {
          "output_type": "stream",
          "name": "stdout",
          "text": [
            "\u001b[32mGrayscale conversion complete\u001b[0m\n",
            "\u001b[34mGaussian blur applied\u001b[0m\n",
            "\u001b[32mGrayscale conversion complete\u001b[0m\n",
            "\u001b[34mGaussian blur applied\u001b[0m\n",
            "\u001b[32mGrayscale conversion complete\u001b[0m\n",
            "\u001b[34mGaussian blur applied\u001b[0m\n",
            "\u001b[32mGrayscale conversion complete\u001b[0m\n",
            "\u001b[34mGaussian blur applied\u001b[0m\n"
          ]
        },
        {
          "output_type": "stream",
          "name": "stderr",
          "text": [
            "t:  60%|█████▉    | 773/1297 [00:57<00:31, 16.41it/s, now=None]"
          ]
        },
        {
          "output_type": "stream",
          "name": "stdout",
          "text": [
            "\u001b[32mGrayscale conversion complete\u001b[0m\n",
            "\u001b[34mGaussian blur applied\u001b[0m\n",
            "\u001b[32mGrayscale conversion complete\u001b[0m\n",
            "\u001b[34mGaussian blur applied\u001b[0m\n",
            "\u001b[32mGrayscale conversion complete\u001b[0m\n",
            "\u001b[34mGaussian blur applied\u001b[0m\n",
            "\u001b[32mGrayscale conversion complete\u001b[0m\n",
            "\u001b[34mGaussian blur applied\u001b[0m\n"
          ]
        },
        {
          "output_type": "stream",
          "name": "stderr",
          "text": [
            "\rt:  60%|█████▉    | 775/1297 [00:57<00:33, 15.81it/s, now=None]"
          ]
        },
        {
          "output_type": "stream",
          "name": "stdout",
          "text": [
            "\u001b[32mGrayscale conversion complete\u001b[0m\n",
            "\u001b[34mGaussian blur applied\u001b[0m\n",
            "\u001b[32mGrayscale conversion complete\u001b[0m\n",
            "\u001b[34mGaussian blur applied\u001b[0m\n",
            "\u001b[32mGrayscale conversion complete\u001b[0m\n",
            "\u001b[34mGaussian blur applied\u001b[0m\n"
          ]
        },
        {
          "output_type": "stream",
          "name": "stderr",
          "text": [
            "t:  60%|██████    | 779/1297 [00:57<00:35, 14.66it/s, now=None]"
          ]
        },
        {
          "output_type": "stream",
          "name": "stdout",
          "text": [
            "\u001b[32mGrayscale conversion complete\u001b[0m\n",
            "\u001b[34mGaussian blur applied\u001b[0m\n",
            "\u001b[32mGrayscale conversion complete\u001b[0m\n",
            "\u001b[34mGaussian blur applied\u001b[0m\n",
            "\u001b[32mGrayscale conversion complete\u001b[0m\n",
            "\u001b[34mGaussian blur applied\u001b[0m\n",
            "\u001b[32mGrayscale conversion complete\u001b[0m\n",
            "\u001b[34mGaussian blur applied\u001b[0m"
          ]
        },
        {
          "output_type": "stream",
          "name": "stderr",
          "text": [
            "t:  60%|██████    | 783/1297 [00:58<00:36, 14.23it/s, now=None]"
          ]
        },
        {
          "output_type": "stream",
          "name": "stdout",
          "text": [
            "\n",
            "\u001b[32mGrayscale conversion complete\u001b[0m\n",
            "\u001b[34mGaussian blur applied\u001b[0m\n",
            "\u001b[32mGrayscale conversion complete\u001b[0m\n",
            "\u001b[34mGaussian blur applied\u001b[0m\n",
            "\u001b[32mGrayscale conversion complete\u001b[0m\n"
          ]
        },
        {
          "output_type": "stream",
          "name": "stderr",
          "text": [
            "\rt:  61%|██████    | 785/1297 [00:58<00:37, 13.57it/s, now=None]"
          ]
        },
        {
          "output_type": "stream",
          "name": "stdout",
          "text": [
            "\u001b[34mGaussian blur applied\u001b[0m\n",
            "\u001b[32mGrayscale conversion complete\u001b[0m\n",
            "\u001b[34mGaussian blur applied\u001b[0m\n",
            "\u001b[32mGrayscale conversion complete\u001b[0m\n",
            "\u001b[34mGaussian blur applied\u001b[0m\n"
          ]
        },
        {
          "output_type": "stream",
          "name": "stderr",
          "text": [
            "\rt:  61%|██████    | 787/1297 [00:58<00:36, 14.01it/s, now=None]"
          ]
        },
        {
          "output_type": "stream",
          "name": "stdout",
          "text": [
            "\u001b[32mGrayscale conversion complete\u001b[0m\n",
            "\u001b[34mGaussian blur applied\u001b[0m\n",
            "\u001b[32mGrayscale conversion complete\u001b[0m\n",
            "\u001b[34mGaussian blur applied\u001b[0m\n"
          ]
        },
        {
          "output_type": "stream",
          "name": "stderr",
          "text": [
            "t:  61%|██████    | 791/1297 [00:58<00:40, 12.54it/s, now=None]"
          ]
        },
        {
          "output_type": "stream",
          "name": "stdout",
          "text": [
            "\u001b[32mGrayscale conversion complete\u001b[0m\n",
            "\u001b[34mGaussian blur applied\u001b[0m\n",
            "\u001b[32mGrayscale conversion complete\u001b[0m\n",
            "\u001b[34mGaussian blur applied\u001b[0m\n",
            "\u001b[32mGrayscale conversion complete\u001b[0m\n",
            "\u001b[34mGaussian blur applied\u001b[0m\n",
            "\u001b[32mGrayscale conversion complete\u001b[0m\n",
            "\u001b[34mGaussian blur applied\u001b[0m\n"
          ]
        },
        {
          "output_type": "stream",
          "name": "stderr",
          "text": [
            "t:  61%|██████▏   | 795/1297 [00:59<00:45, 10.97it/s, now=None]"
          ]
        },
        {
          "output_type": "stream",
          "name": "stdout",
          "text": [
            "\u001b[32mGrayscale conversion complete\u001b[0m\n",
            "\u001b[34mGaussian blur applied\u001b[0m\n",
            "\u001b[32mGrayscale conversion complete\u001b[0m\n",
            "\u001b[34mGaussian blur applied\u001b[0m\n",
            "\u001b[32mGrayscale conversion complete\u001b[0m\n",
            "\u001b[34mGaussian blur applied\u001b[0m\n",
            "\u001b[32mGrayscale conversion complete\u001b[0m\n",
            "\u001b[34mGaussian blur applied\u001b[0m\n"
          ]
        },
        {
          "output_type": "stream",
          "name": "stderr",
          "text": [
            "\rt:  61%|██████▏   | 797/1297 [00:59<01:03,  7.93it/s, now=None]"
          ]
        },
        {
          "output_type": "stream",
          "name": "stdout",
          "text": [
            "\u001b[32mGrayscale conversion complete\u001b[0m\n",
            "\u001b[34mGaussian blur applied\u001b[0m\n",
            "\u001b[32mGrayscale conversion complete\u001b[0m\n",
            "\u001b[34mGaussian blur applied\u001b[0m\n",
            "\u001b[32mGrayscale conversion complete\u001b[0m\n",
            "\u001b[34mGaussian blur applied\u001b[0m\n"
          ]
        },
        {
          "output_type": "stream",
          "name": "stderr",
          "text": [
            "\rt:  62%|██████▏   | 799/1297 [00:59<00:54,  9.21it/s, now=None]"
          ]
        },
        {
          "output_type": "stream",
          "name": "stdout",
          "text": [
            "\u001b[32mGrayscale conversion complete\u001b[0m\n",
            "\u001b[34mGaussian blur applied\u001b[0m\n",
            "\u001b[32mGrayscale conversion complete\u001b[0m\n",
            "\u001b[34mGaussian blur applied\u001b[0m\n"
          ]
        },
        {
          "output_type": "stream",
          "name": "stderr",
          "text": [
            "t:  62%|██████▏   | 803/1297 [01:00<00:51,  9.57it/s, now=None]"
          ]
        },
        {
          "output_type": "stream",
          "name": "stdout",
          "text": [
            "\u001b[32mGrayscale conversion complete\u001b[0m\n",
            "\u001b[34mGaussian blur applied\u001b[0m\n",
            "\u001b[32mGrayscale conversion complete\u001b[0m\n",
            "\u001b[34mGaussian blur applied\u001b[0m\n",
            "\u001b[32mGrayscale conversion complete\u001b[0m\n",
            "\u001b[34mGaussian blur applied\u001b[0m\n"
          ]
        },
        {
          "output_type": "stream",
          "name": "stderr",
          "text": [
            "\rt:  62%|██████▏   | 805/1297 [01:00<00:54,  9.09it/s, now=None]"
          ]
        },
        {
          "output_type": "stream",
          "name": "stdout",
          "text": [
            "\u001b[32mGrayscale conversion complete\u001b[0m\n",
            "\u001b[34mGaussian blur applied\u001b[0m\n",
            "\u001b[32mGrayscale conversion complete\u001b[0m\n",
            "\u001b[34mGaussian blur applied\u001b[0m\n",
            "\u001b[32mGrayscale conversion complete\u001b[0m\n",
            "\u001b[34mGaussian blur applied\u001b[0m\n"
          ]
        },
        {
          "output_type": "stream",
          "name": "stderr",
          "text": [
            "\rt:  62%|██████▏   | 807/1297 [01:00<00:47, 10.37it/s, now=None]"
          ]
        },
        {
          "output_type": "stream",
          "name": "stdout",
          "text": [
            "\u001b[32mGrayscale conversion complete\u001b[0m\n",
            "\u001b[34mGaussian blur applied\u001b[0m\n",
            "\u001b[32mGrayscale conversion complete\u001b[0m\n",
            "\u001b[34mGaussian blur applied\u001b[0m\n"
          ]
        },
        {
          "output_type": "stream",
          "name": "stderr",
          "text": [
            "t:  63%|██████▎   | 812/1297 [01:01<00:47, 10.17it/s, now=None]"
          ]
        },
        {
          "output_type": "stream",
          "name": "stdout",
          "text": [
            "\u001b[32mGrayscale conversion complete\u001b[0m\n",
            "\u001b[34mGaussian blur applied\u001b[0m\n",
            "\u001b[32mGrayscale conversion complete\u001b[0m\n",
            "\u001b[34mGaussian blur applied\u001b[0m\n",
            "\u001b[32mGrayscale conversion complete\u001b[0m\n",
            "\u001b[34mGaussian blur applied\u001b[0m\n",
            "\u001b[32mGrayscale conversion complete\u001b[0m\n",
            "\u001b[34mGaussian blur applied\u001b[0m\n"
          ]
        },
        {
          "output_type": "stream",
          "name": "stderr",
          "text": [
            "\rt:  63%|██████▎   | 814/1297 [01:01<00:53,  8.97it/s, now=None]"
          ]
        },
        {
          "output_type": "stream",
          "name": "stdout",
          "text": [
            "\u001b[32mGrayscale conversion complete\u001b[0m\n",
            "\u001b[34mGaussian blur applied\u001b[0m\n",
            "\u001b[32mGrayscale conversion complete\u001b[0m\n",
            "\u001b[34mGaussian blur applied\u001b[0m\n",
            "\u001b[32mGrayscale conversion complete\u001b[0m\n",
            "\u001b[34mGaussian blur applied\u001b[0m\n"
          ]
        },
        {
          "output_type": "stream",
          "name": "stderr",
          "text": [
            "t:  63%|██████▎   | 818/1297 [01:01<00:51,  9.26it/s, now=None]"
          ]
        },
        {
          "output_type": "stream",
          "name": "stdout",
          "text": [
            "\u001b[32mGrayscale conversion complete\u001b[0m\n",
            "\u001b[34mGaussian blur applied\u001b[0m\n",
            "\u001b[32mGrayscale conversion complete\u001b[0m\n",
            "\u001b[34mGaussian blur applied\u001b[0m\n"
          ]
        },
        {
          "output_type": "stream",
          "name": "stderr",
          "text": [
            "\rt:  63%|██████▎   | 820/1297 [01:02<00:48,  9.89it/s, now=None]"
          ]
        },
        {
          "output_type": "stream",
          "name": "stdout",
          "text": [
            "\u001b[32mGrayscale conversion complete\u001b[0m\n",
            "\u001b[34mGaussian blur applied\u001b[0m\n",
            "\u001b[32mGrayscale conversion complete\u001b[0m\n",
            "\u001b[34mGaussian blur applied\u001b[0m\n",
            "\u001b[32mGrayscale conversion complete\u001b[0m\n",
            "\u001b[34mGaussian blur applied\u001b[0m\n"
          ]
        },
        {
          "output_type": "stream",
          "name": "stderr",
          "text": [
            "\rt:  63%|██████▎   | 822/1297 [01:02<00:47, 10.00it/s, now=None]"
          ]
        },
        {
          "output_type": "stream",
          "name": "stdout",
          "text": [
            "\u001b[32mGrayscale conversion complete\u001b[0m\n",
            "\u001b[34mGaussian blur applied\u001b[0m\n",
            "\u001b[32mGrayscale conversion complete\u001b[0m\n",
            "\u001b[34mGaussian blur applied\u001b[0m\n",
            "\u001b[32mGrayscale conversion complete\u001b[0m\n",
            "\u001b[34mGaussian blur applied\u001b[0m\n"
          ]
        },
        {
          "output_type": "stream",
          "name": "stderr",
          "text": [
            "\rt:  64%|██████▎   | 824/1297 [01:02<00:44, 10.75it/s, now=None]"
          ]
        },
        {
          "output_type": "stream",
          "name": "stdout",
          "text": [
            "\u001b[32mGrayscale conversion complete\u001b[0m\n",
            "\u001b[34mGaussian blur applied\u001b[0m\n",
            "\u001b[32mGrayscale conversion complete\u001b[0m\n",
            "\u001b[34mGaussian blur applied\u001b[0m\n"
          ]
        },
        {
          "output_type": "stream",
          "name": "stderr",
          "text": [
            "t:  64%|██████▍   | 828/1297 [01:02<00:45, 10.27it/s, now=None]"
          ]
        },
        {
          "output_type": "stream",
          "name": "stdout",
          "text": [
            "\u001b[32mGrayscale conversion complete\u001b[0m\n",
            "\u001b[34mGaussian blur applied\u001b[0m\n",
            "\u001b[32mGrayscale conversion complete\u001b[0m\n",
            "\u001b[34mGaussian blur applied\u001b[0m\n",
            "\u001b[32mGrayscale conversion complete\u001b[0m\n",
            "\u001b[34mGaussian blur applied\u001b[0m\n"
          ]
        },
        {
          "output_type": "stream",
          "name": "stderr",
          "text": [
            "\rt:  64%|██████▍   | 830/1297 [01:03<00:57,  8.16it/s, now=None]"
          ]
        },
        {
          "output_type": "stream",
          "name": "stdout",
          "text": [
            "\u001b[32mGrayscale conversion complete\u001b[0m\n",
            "\u001b[34mGaussian blur applied\u001b[0m\n",
            "\u001b[32mGrayscale conversion complete\u001b[0m\n",
            "\u001b[34mGaussian blur applied\u001b[0m\n",
            "\u001b[32mGrayscale conversion complete\u001b[0m\n",
            "\u001b[34mGaussian blur applied\u001b[0m\n"
          ]
        },
        {
          "output_type": "stream",
          "name": "stderr",
          "text": [
            "t:  64%|██████▍   | 833/1297 [01:03<01:00,  7.71it/s, now=None]"
          ]
        },
        {
          "output_type": "stream",
          "name": "stdout",
          "text": [
            "\u001b[32mGrayscale conversion complete\u001b[0m\n",
            "\u001b[34mGaussian blur applied\u001b[0m\n",
            "\u001b[32mGrayscale conversion complete\u001b[0m\n",
            "\u001b[34mGaussian blur applied\u001b[0m\n"
          ]
        },
        {
          "output_type": "stream",
          "name": "stderr",
          "text": [
            "\rt:  64%|██████▍   | 835/1297 [01:03<00:52,  8.76it/s, now=None]"
          ]
        },
        {
          "output_type": "stream",
          "name": "stdout",
          "text": [
            "\u001b[32mGrayscale conversion complete\u001b[0m\n",
            "\u001b[34mGaussian blur applied\u001b[0m\n",
            "\u001b[32mGrayscale conversion complete\u001b[0m\n",
            "\u001b[34mGaussian blur applied\u001b[0m\n",
            "\u001b[32mGrayscale conversion complete\u001b[0m\n",
            "\u001b[34mGaussian blur applied\u001b[0m\n"
          ]
        },
        {
          "output_type": "stream",
          "name": "stderr",
          "text": [
            "t:  65%|██████▍   | 839/1297 [01:04<00:49,  9.28it/s, now=None]"
          ]
        },
        {
          "output_type": "stream",
          "name": "stdout",
          "text": [
            "\u001b[32mGrayscale conversion complete\u001b[0m\n",
            "\u001b[34mGaussian blur applied\u001b[0m\n",
            "\u001b[32mGrayscale conversion complete\u001b[0m\n",
            "\u001b[34mGaussian blur applied\u001b[0m\n",
            "\u001b[32mGrayscale conversion complete\u001b[0m\n",
            "\u001b[34mGaussian blur applied\u001b[0m\n",
            "\u001b[32mGrayscale conversion complete\u001b[0m\n",
            "\u001b[34mGaussian blur applied\u001b[0m\n"
          ]
        },
        {
          "output_type": "stream",
          "name": "stderr",
          "text": [
            "t:  65%|██████▍   | 843/1297 [01:04<00:37, 12.13it/s, now=None]"
          ]
        },
        {
          "output_type": "stream",
          "name": "stdout",
          "text": [
            "\u001b[32mGrayscale conversion complete\u001b[0m\n",
            "\u001b[34mGaussian blur applied\u001b[0m\n",
            "\u001b[32mGrayscale conversion complete\u001b[0m\n",
            "\u001b[34mGaussian blur applied\u001b[0m\n",
            "\u001b[32mGrayscale conversion complete\u001b[0m\n",
            "\u001b[34mGaussian blur applied\u001b[0m\n",
            "\u001b[32mGrayscale conversion complete\u001b[0m\n",
            "\u001b[34mGaussian blur applied\u001b[0m\n"
          ]
        },
        {
          "output_type": "stream",
          "name": "stderr",
          "text": [
            "t:  65%|██████▌   | 847/1297 [01:04<00:31, 14.29it/s, now=None]"
          ]
        },
        {
          "output_type": "stream",
          "name": "stdout",
          "text": [
            "\u001b[32mGrayscale conversion complete\u001b[0m\n",
            "\u001b[34mGaussian blur applied\u001b[0m\n",
            "\u001b[32mGrayscale conversion complete\u001b[0m\n",
            "\u001b[34mGaussian blur applied\u001b[0m\n",
            "\u001b[32mGrayscale conversion complete\u001b[0m\n",
            "\u001b[34mGaussian blur applied\u001b[0m\n",
            "\u001b[32mGrayscale conversion complete\u001b[0m\n",
            "\u001b[34mGaussian blur applied\u001b[0m\n"
          ]
        },
        {
          "output_type": "stream",
          "name": "stderr",
          "text": [
            "t:  66%|██████▌   | 852/1297 [01:04<00:29, 15.34it/s, now=None]"
          ]
        },
        {
          "output_type": "stream",
          "name": "stdout",
          "text": [
            "\u001b[32mGrayscale conversion complete\u001b[0m\n",
            "\u001b[34mGaussian blur applied\u001b[0m\n",
            "\u001b[32mGrayscale conversion complete\u001b[0m\n",
            "\u001b[34mGaussian blur applied\u001b[0m\n",
            "\u001b[32mGrayscale conversion complete\u001b[0m\n",
            "\u001b[34mGaussian blur applied\u001b[0m\n",
            "\u001b[32mGrayscale conversion complete\u001b[0m\n",
            "\u001b[34mGaussian blur applied\u001b[0m\n"
          ]
        },
        {
          "output_type": "stream",
          "name": "stderr",
          "text": [
            "\rt:  66%|██████▌   | 854/1297 [01:05<00:30, 14.36it/s, now=None]"
          ]
        },
        {
          "output_type": "stream",
          "name": "stdout",
          "text": [
            "\u001b[32mGrayscale conversion complete\u001b[0m\n",
            "\u001b[34mGaussian blur applied\u001b[0m\n",
            "\u001b[32mGrayscale conversion complete\u001b[0m\n",
            "\u001b[34mGaussian blur applied\u001b[0m\n",
            "\u001b[32mGrayscale conversion complete\u001b[0m\n",
            "\u001b[34mGaussian blur applied\u001b[0m\n",
            "\u001b[32mGrayscale conversion complete\u001b[0m\n",
            "\u001b[34mGaussian blur applied\u001b[0m\n"
          ]
        },
        {
          "output_type": "stream",
          "name": "stderr",
          "text": [
            "t:  66%|██████▌   | 859/1297 [01:05<00:28, 15.43it/s, now=None]"
          ]
        },
        {
          "output_type": "stream",
          "name": "stdout",
          "text": [
            "\u001b[32mGrayscale conversion complete\u001b[0m\n",
            "\u001b[34mGaussian blur applied\u001b[0m\n",
            "\u001b[32mGrayscale conversion complete\u001b[0m\n",
            "\u001b[34mGaussian blur applied\u001b[0m\n",
            "\u001b[32mGrayscale conversion complete\u001b[0m\n",
            "\u001b[34mGaussian blur applied\u001b[0m\n"
          ]
        },
        {
          "output_type": "stream",
          "name": "stderr",
          "text": [
            "t:  67%|██████▋   | 863/1297 [01:05<00:28, 15.28it/s, now=None]"
          ]
        },
        {
          "output_type": "stream",
          "name": "stdout",
          "text": [
            "\u001b[32mGrayscale conversion complete\u001b[0m\n",
            "\u001b[34mGaussian blur applied\u001b[0m\n",
            "\u001b[32mGrayscale conversion complete\u001b[0m\n",
            "\u001b[34mGaussian blur applied\u001b[0m\n",
            "\u001b[32mGrayscale conversion complete\u001b[0m\n",
            "\u001b[34mGaussian blur applied\u001b[0m\n",
            "\u001b[32mGrayscale conversion complete\u001b[0m\n",
            "\u001b[34mGaussian blur applied\u001b[0m\n"
          ]
        },
        {
          "output_type": "stream",
          "name": "stderr",
          "text": [
            "t:  67%|██████▋   | 867/1297 [01:05<00:27, 15.88it/s, now=None]"
          ]
        },
        {
          "output_type": "stream",
          "name": "stdout",
          "text": [
            "\u001b[32mGrayscale conversion complete\u001b[0m\n",
            "\u001b[34mGaussian blur applied\u001b[0m\n",
            "\u001b[32mGrayscale conversion complete\u001b[0m\n",
            "\u001b[34mGaussian blur applied\u001b[0m\n",
            "\u001b[32mGrayscale conversion complete\u001b[0m\n",
            "\u001b[34mGaussian blur applied\u001b[0m\n",
            "\u001b[32mGrayscale conversion complete\u001b[0m\n",
            "\u001b[34mGaussian blur applied\u001b[0m\n"
          ]
        },
        {
          "output_type": "stream",
          "name": "stderr",
          "text": [
            "t:  67%|██████▋   | 871/1297 [01:06<00:29, 14.33it/s, now=None]"
          ]
        },
        {
          "output_type": "stream",
          "name": "stdout",
          "text": [
            "\u001b[32mGrayscale conversion complete\u001b[0m\n",
            "\u001b[34mGaussian blur applied\u001b[0m\n",
            "\u001b[32mGrayscale conversion complete\u001b[0m\n",
            "\u001b[34mGaussian blur applied\u001b[0m\n",
            "\u001b[32mGrayscale conversion complete\u001b[0m\n",
            "\u001b[34mGaussian blur applied\u001b[0m\n",
            "\u001b[32mGrayscale conversion complete\u001b[0m\n",
            "\u001b[34mGaussian blur applied\u001b[0m\n"
          ]
        },
        {
          "output_type": "stream",
          "name": "stderr",
          "text": [
            "t:  68%|██████▊   | 876/1297 [01:06<00:24, 17.38it/s, now=None]"
          ]
        },
        {
          "output_type": "stream",
          "name": "stdout",
          "text": [
            "\u001b[32mGrayscale conversion complete\u001b[0m\n",
            "\u001b[34mGaussian blur applied\u001b[0m\n",
            "\u001b[32mGrayscale conversion complete\u001b[0m\n",
            "\u001b[34mGaussian blur applied\u001b[0m\n",
            "\u001b[32mGrayscale conversion complete\u001b[0m\n",
            "\u001b[34mGaussian blur applied\u001b[0m\n",
            "\u001b[32mGrayscale conversion complete\u001b[0m\n",
            "\u001b[34mGaussian blur applied\u001b[0m\n",
            "\u001b[32mGrayscale conversion complete\u001b[0m\n",
            "\u001b[34mGaussian blur applied\u001b[0m"
          ]
        },
        {
          "output_type": "stream",
          "name": "stderr",
          "text": [
            "\rt:  68%|██████▊   | 879/1297 [01:06<00:22, 18.44it/s, now=None]"
          ]
        },
        {
          "output_type": "stream",
          "name": "stdout",
          "text": [
            "\n",
            "\u001b[32mGrayscale conversion complete\u001b[0m\n",
            "\u001b[34mGaussian blur applied\u001b[0m\n",
            "\u001b[32mGrayscale conversion complete\u001b[0m\n",
            "\u001b[34mGaussian blur applied\u001b[0m\n",
            "\u001b[32mGrayscale conversion complete\u001b[0m\n",
            "\u001b[34mGaussian blur applied\u001b[0m\n",
            "\u001b[32mGrayscale conversion complete\u001b[0m\n",
            "\u001b[34mGaussian blur applied\u001b[0m\n"
          ]
        },
        {
          "output_type": "stream",
          "name": "stderr",
          "text": [
            "t:  68%|██████▊   | 884/1297 [01:07<00:26, 15.77it/s, now=None]"
          ]
        },
        {
          "output_type": "stream",
          "name": "stdout",
          "text": [
            "\u001b[32mGrayscale conversion complete\u001b[0m\n",
            "\u001b[34mGaussian blur applied\u001b[0m\n",
            "\u001b[32mGrayscale conversion complete\u001b[0m\n",
            "\u001b[34mGaussian blur applied\u001b[0m\n",
            "\u001b[32mGrayscale conversion complete\u001b[0m\n",
            "\u001b[34mGaussian blur applied\u001b[0m\n"
          ]
        },
        {
          "output_type": "stream",
          "name": "stderr",
          "text": [
            "\rt:  68%|██████▊   | 886/1297 [01:07<00:26, 15.49it/s, now=None]"
          ]
        },
        {
          "output_type": "stream",
          "name": "stdout",
          "text": [
            "\u001b[32mGrayscale conversion complete\u001b[0m\n",
            "\u001b[34mGaussian blur applied\u001b[0m\n",
            "\u001b[32mGrayscale conversion complete\u001b[0m\n",
            "\u001b[34mGaussian blur applied\u001b[0m\n",
            "\u001b[32mGrayscale conversion complete\u001b[0m\n",
            "\u001b[34mGaussian blur applied\u001b[0m\n",
            "\u001b[32mGrayscale conversion complete\u001b[0m\n",
            "\u001b[34mGaussian blur applied\u001b[0m\n"
          ]
        },
        {
          "output_type": "stream",
          "name": "stderr",
          "text": [
            "t:  69%|██████▊   | 890/1297 [01:07<00:26, 15.33it/s, now=None]"
          ]
        },
        {
          "output_type": "stream",
          "name": "stdout",
          "text": [
            "\u001b[32mGrayscale conversion complete\u001b[0m\n",
            "\u001b[34mGaussian blur applied\u001b[0m\n",
            "\u001b[32mGrayscale conversion complete\u001b[0m\n",
            "\u001b[34mGaussian blur applied\u001b[0m\n",
            "\u001b[32mGrayscale conversion complete\u001b[0m\n",
            "\u001b[34mGaussian blur applied\u001b[0m\n",
            "\u001b[32mGrayscale conversion complete\u001b[0m\n",
            "\u001b[34mGaussian blur applied\u001b[0m\n"
          ]
        },
        {
          "output_type": "stream",
          "name": "stderr",
          "text": [
            "t:  69%|██████▉   | 894/1297 [01:07<00:26, 15.27it/s, now=None]"
          ]
        },
        {
          "output_type": "stream",
          "name": "stdout",
          "text": [
            "\u001b[32mGrayscale conversion complete\u001b[0m\n",
            "\u001b[34mGaussian blur applied\u001b[0m\n",
            "\u001b[32mGrayscale conversion complete\u001b[0m\n",
            "\u001b[34mGaussian blur applied\u001b[0m\n",
            "\u001b[32mGrayscale conversion complete\u001b[0m\n",
            "\u001b[34mGaussian blur applied\u001b[0m\n",
            "\u001b[32mGrayscale conversion complete\u001b[0m\n",
            "\u001b[34mGaussian blur applied\u001b[0m\n"
          ]
        },
        {
          "output_type": "stream",
          "name": "stderr",
          "text": [
            "t:  69%|██████▉   | 898/1297 [01:07<00:24, 16.14it/s, now=None]"
          ]
        },
        {
          "output_type": "stream",
          "name": "stdout",
          "text": [
            "\u001b[32mGrayscale conversion complete\u001b[0m\n",
            "\u001b[34mGaussian blur applied\u001b[0m\n",
            "\u001b[32mGrayscale conversion complete\u001b[0m\n",
            "\u001b[34mGaussian blur applied\u001b[0m\n",
            "\u001b[32mGrayscale conversion complete\u001b[0m\n",
            "\u001b[34mGaussian blur applied\u001b[0m\n",
            "\u001b[32mGrayscale conversion complete\u001b[0m\n",
            "\u001b[34mGaussian blur applied\u001b[0m\n"
          ]
        },
        {
          "output_type": "stream",
          "name": "stderr",
          "text": [
            "t:  70%|██████▉   | 902/1297 [01:08<00:26, 14.71it/s, now=None]"
          ]
        },
        {
          "output_type": "stream",
          "name": "stdout",
          "text": [
            "\u001b[32mGrayscale conversion complete\u001b[0m\n",
            "\u001b[34mGaussian blur applied\u001b[0m\n",
            "\u001b[32mGrayscale conversion complete\u001b[0m\n",
            "\u001b[34mGaussian blur applied\u001b[0m\n",
            "\u001b[32mGrayscale conversion complete\u001b[0m\n",
            "\u001b[34mGaussian blur applied\u001b[0m\n",
            "\u001b[32mGrayscale conversion complete\u001b[0m\n",
            "\u001b[34mGaussian blur applied\u001b[0m\n"
          ]
        },
        {
          "output_type": "stream",
          "name": "stderr",
          "text": [
            "t:  70%|██████▉   | 907/1297 [01:08<00:24, 15.86it/s, now=None]"
          ]
        },
        {
          "output_type": "stream",
          "name": "stdout",
          "text": [
            "\u001b[32mGrayscale conversion complete\u001b[0m\n",
            "\u001b[34mGaussian blur applied\u001b[0m\n",
            "\u001b[32mGrayscale conversion complete\u001b[0m\n",
            "\u001b[34mGaussian blur applied\u001b[0m\n",
            "\u001b[32mGrayscale conversion complete\u001b[0m\n",
            "\u001b[34mGaussian blur applied\u001b[0m\n",
            "\u001b[32mGrayscale conversion complete\u001b[0m\n",
            "\u001b[34mGaussian blur applied\u001b[0m\n"
          ]
        },
        {
          "output_type": "stream",
          "name": "stderr",
          "text": [
            "t:  70%|███████   | 912/1297 [01:08<00:23, 16.15it/s, now=None]"
          ]
        },
        {
          "output_type": "stream",
          "name": "stdout",
          "text": [
            "\u001b[32mGrayscale conversion complete\u001b[0m\n",
            "\u001b[34mGaussian blur applied\u001b[0m\n",
            "\u001b[32mGrayscale conversion complete\u001b[0m\n",
            "\u001b[34mGaussian blur applied\u001b[0m\n",
            "\u001b[32mGrayscale conversion complete\u001b[0m\n",
            "\u001b[34mGaussian blur applied\u001b[0m\n",
            "\u001b[32mGrayscale conversion complete\u001b[0m\n",
            "\u001b[34mGaussian blur applied\u001b[0m\n",
            "\u001b[32mGrayscale conversion complete\u001b[0m\n",
            "\u001b[34mGaussian blur applied\u001b[0m\n"
          ]
        },
        {
          "output_type": "stream",
          "name": "stderr",
          "text": [
            "\rt:  70%|███████   | 914/1297 [01:09<00:26, 14.64it/s, now=None]"
          ]
        },
        {
          "output_type": "stream",
          "name": "stdout",
          "text": [
            "\u001b[32mGrayscale conversion complete\u001b[0m\n",
            "\u001b[34mGaussian blur applied\u001b[0m\n",
            "\u001b[32mGrayscale conversion complete\u001b[0m\n",
            "\u001b[34mGaussian blur applied\u001b[0m\n",
            "\u001b[32mGrayscale conversion complete\u001b[0m\n",
            "\u001b[34mGaussian blur applied\u001b[0m\n"
          ]
        },
        {
          "output_type": "stream",
          "name": "stderr",
          "text": [
            "t:  71%|███████   | 918/1297 [01:09<00:26, 14.56it/s, now=None]"
          ]
        },
        {
          "output_type": "stream",
          "name": "stdout",
          "text": [
            "\u001b[32mGrayscale conversion complete\u001b[0m\n",
            "\u001b[34mGaussian blur applied\u001b[0m\n",
            "\u001b[32mGrayscale conversion complete\u001b[0m\n",
            "\u001b[34mGaussian blur applied\u001b[0m\n",
            "\u001b[32mGrayscale conversion complete\u001b[0m\n",
            "\u001b[34mGaussian blur applied\u001b[0m\n",
            "\u001b[32mGrayscale conversion complete\u001b[0m\n",
            "\u001b[34mGaussian blur applied\u001b[0m\n"
          ]
        },
        {
          "output_type": "stream",
          "name": "stderr",
          "text": [
            "t:  71%|███████   | 922/1297 [01:09<00:23, 15.78it/s, now=None]"
          ]
        },
        {
          "output_type": "stream",
          "name": "stdout",
          "text": [
            "\u001b[32mGrayscale conversion complete\u001b[0m\n",
            "\u001b[34mGaussian blur applied\u001b[0m\n",
            "\u001b[32mGrayscale conversion complete\u001b[0m\n",
            "\u001b[34mGaussian blur applied\u001b[0m\n",
            "\u001b[32mGrayscale conversion complete\u001b[0m\n",
            "\u001b[34mGaussian blur applied\u001b[0m\n",
            "\u001b[32mGrayscale conversion complete\u001b[0m\n",
            "\u001b[34mGaussian blur applied\u001b[0m\n"
          ]
        },
        {
          "output_type": "stream",
          "name": "stderr",
          "text": [
            "t:  71%|███████▏  | 927/1297 [01:09<00:23, 15.62it/s, now=None]"
          ]
        },
        {
          "output_type": "stream",
          "name": "stdout",
          "text": [
            "\u001b[32mGrayscale conversion complete\u001b[0m\n",
            "\u001b[34mGaussian blur applied\u001b[0m\n",
            "\u001b[32mGrayscale conversion complete\u001b[0m\n",
            "\u001b[34mGaussian blur applied\u001b[0m\n",
            "\u001b[32mGrayscale conversion complete\u001b[0m\n",
            "\u001b[34mGaussian blur applied\u001b[0m\n"
          ]
        },
        {
          "output_type": "stream",
          "name": "stderr",
          "text": [
            "\rt:  72%|███████▏  | 930/1297 [01:10<00:23, 15.62it/s, now=None]"
          ]
        },
        {
          "output_type": "stream",
          "name": "stdout",
          "text": [
            "\u001b[32mGrayscale conversion complete\u001b[0m\n",
            "\u001b[34mGaussian blur applied\u001b[0m\n",
            "\u001b[32mGrayscale conversion complete\u001b[0m\n",
            "\u001b[34mGaussian blur applied\u001b[0m\n",
            "\u001b[32mGrayscale conversion complete\u001b[0m\n",
            "\u001b[34mGaussian blur applied\u001b[0m\n",
            "\u001b[32mGrayscale conversion complete\u001b[0m\n",
            "\u001b[34mGaussian blur applied\u001b[0m\n"
          ]
        },
        {
          "output_type": "stream",
          "name": "stderr",
          "text": [
            "\rt:  72%|███████▏  | 932/1297 [01:10<00:23, 15.75it/s, now=None]"
          ]
        },
        {
          "output_type": "stream",
          "name": "stdout",
          "text": [
            "\u001b[32mGrayscale conversion complete\u001b[0m\n",
            "\u001b[34mGaussian blur applied\u001b[0m\n",
            "\u001b[32mGrayscale conversion complete\u001b[0m\n",
            "\u001b[34mGaussian blur applied\u001b[0m\n",
            "\u001b[32mGrayscale conversion complete\u001b[0m\n",
            "\u001b[34mGaussian blur applied\u001b[0m\n"
          ]
        },
        {
          "output_type": "stream",
          "name": "stderr",
          "text": [
            "t:  72%|███████▏  | 936/1297 [01:10<00:22, 15.77it/s, now=None]"
          ]
        },
        {
          "output_type": "stream",
          "name": "stdout",
          "text": [
            "\u001b[32mGrayscale conversion complete\u001b[0m\n",
            "\u001b[34mGaussian blur applied\u001b[0m\n",
            "\u001b[32mGrayscale conversion complete\u001b[0m\n",
            "\u001b[34mGaussian blur applied\u001b[0m\n",
            "\u001b[32mGrayscale conversion complete\u001b[0m\n",
            "\u001b[34mGaussian blur applied\u001b[0m\n",
            "\u001b[32mGrayscale conversion complete\u001b[0m\n",
            "\u001b[34mGaussian blur applied\u001b[0m\n"
          ]
        },
        {
          "output_type": "stream",
          "name": "stderr",
          "text": [
            "t:  72%|███████▏  | 940/1297 [01:10<00:21, 16.33it/s, now=None]"
          ]
        },
        {
          "output_type": "stream",
          "name": "stdout",
          "text": [
            "\u001b[32mGrayscale conversion complete\u001b[0m\n",
            "\u001b[34mGaussian blur applied\u001b[0m\n",
            "\u001b[32mGrayscale conversion complete\u001b[0m\n",
            "\u001b[34mGaussian blur applied\u001b[0m\n",
            "\u001b[32mGrayscale conversion complete\u001b[0m\n",
            "\u001b[34mGaussian blur applied\u001b[0m\n",
            "\u001b[32mGrayscale conversion complete\u001b[0m\n",
            "\u001b[34mGaussian blur applied\u001b[0m\n"
          ]
        },
        {
          "output_type": "stream",
          "name": "stderr",
          "text": [
            "t:  73%|███████▎  | 944/1297 [01:10<00:21, 16.06it/s, now=None]"
          ]
        },
        {
          "output_type": "stream",
          "name": "stdout",
          "text": [
            "\u001b[32mGrayscale conversion complete\u001b[0m\n",
            "\u001b[34mGaussian blur applied\u001b[0m\n",
            "\u001b[32mGrayscale conversion complete\u001b[0m\n",
            "\u001b[34mGaussian blur applied\u001b[0m\n",
            "\u001b[32mGrayscale conversion complete\u001b[0m\n",
            "\u001b[34mGaussian blur applied\u001b[0m\n",
            "\u001b[32mGrayscale conversion complete\u001b[0m\n",
            "\u001b[34mGaussian blur applied\u001b[0m\n"
          ]
        },
        {
          "output_type": "stream",
          "name": "stderr",
          "text": [
            "t:  73%|███████▎  | 948/1297 [01:11<00:22, 15.27it/s, now=None]"
          ]
        },
        {
          "output_type": "stream",
          "name": "stdout",
          "text": [
            "\u001b[32mGrayscale conversion complete\u001b[0m\n",
            "\u001b[34mGaussian blur applied\u001b[0m\n",
            "\u001b[32mGrayscale conversion complete\u001b[0m\n",
            "\u001b[34mGaussian blur applied\u001b[0m\n",
            "\u001b[32mGrayscale conversion complete\u001b[0m\n",
            "\u001b[34mGaussian blur applied\u001b[0m\n",
            "\u001b[32mGrayscale conversion complete\u001b[0m\n",
            "\u001b[34mGaussian blur applied\u001b[0m\n"
          ]
        },
        {
          "output_type": "stream",
          "name": "stderr",
          "text": [
            "t:  73%|███████▎  | 952/1297 [01:11<00:21, 15.68it/s, now=None]"
          ]
        },
        {
          "output_type": "stream",
          "name": "stdout",
          "text": [
            "\u001b[32mGrayscale conversion complete\u001b[0m\n",
            "\u001b[34mGaussian blur applied\u001b[0m\n",
            "\u001b[32mGrayscale conversion complete\u001b[0m\n",
            "\u001b[34mGaussian blur applied\u001b[0m\n",
            "\u001b[32mGrayscale conversion complete\u001b[0m\n",
            "\u001b[34mGaussian blur applied\u001b[0m\n",
            "\u001b[32mGrayscale conversion complete\u001b[0m\n",
            "\u001b[34mGaussian blur applied\u001b[0m\n"
          ]
        },
        {
          "output_type": "stream",
          "name": "stderr",
          "text": [
            "t:  74%|███████▎  | 956/1297 [01:11<00:22, 15.33it/s, now=None]"
          ]
        },
        {
          "output_type": "stream",
          "name": "stdout",
          "text": [
            "\u001b[32mGrayscale conversion complete\u001b[0m\n",
            "\u001b[34mGaussian blur applied\u001b[0m\n",
            "\u001b[32mGrayscale conversion complete\u001b[0m\n",
            "\u001b[34mGaussian blur applied\u001b[0m\n",
            "\u001b[32mGrayscale conversion complete\u001b[0m\n",
            "\u001b[34mGaussian blur applied\u001b[0m\n"
          ]
        },
        {
          "output_type": "stream",
          "name": "stderr",
          "text": [
            "\rt:  74%|███████▍  | 958/1297 [01:11<00:24, 13.99it/s, now=None]"
          ]
        },
        {
          "output_type": "stream",
          "name": "stdout",
          "text": [
            "\u001b[32mGrayscale conversion complete\u001b[0m\n",
            "\u001b[34mGaussian blur applied\u001b[0m\n",
            "\u001b[32mGrayscale conversion complete\u001b[0m\n",
            "\u001b[34mGaussian blur applied\u001b[0m\n",
            "\u001b[32mGrayscale conversion complete\u001b[0m\n",
            "\u001b[34mGaussian blur applied\u001b[0m\n",
            "\u001b[32mGrayscale conversion complete\u001b[0m\n",
            "\u001b[34mGaussian blur applied\u001b[0m\n"
          ]
        },
        {
          "output_type": "stream",
          "name": "stderr",
          "text": [
            "t:  74%|███████▍  | 964/1297 [01:12<00:20, 15.98it/s, now=None]"
          ]
        },
        {
          "output_type": "stream",
          "name": "stdout",
          "text": [
            "\u001b[32mGrayscale conversion complete\u001b[0m\n",
            "\u001b[34mGaussian blur applied\u001b[0m\n",
            "\u001b[32mGrayscale conversion complete\u001b[0m\n",
            "\u001b[34mGaussian blur applied\u001b[0m\n",
            "\u001b[32mGrayscale conversion complete\u001b[0m\n",
            "\u001b[34mGaussian blur applied\u001b[0m\n",
            "\u001b[32mGrayscale conversion complete\u001b[0m\n",
            "\u001b[34mGaussian blur applied\u001b[0m\n"
          ]
        },
        {
          "output_type": "stream",
          "name": "stderr",
          "text": [
            "\rt:  74%|███████▍  | 966/1297 [01:12<00:22, 14.95it/s, now=None]"
          ]
        },
        {
          "output_type": "stream",
          "name": "stdout",
          "text": [
            "\u001b[32mGrayscale conversion complete\u001b[0m\n",
            "\u001b[34mGaussian blur applied\u001b[0m\n",
            "\u001b[32mGrayscale conversion complete\u001b[0m\n",
            "\u001b[34mGaussian blur applied\u001b[0m\n",
            "\u001b[32mGrayscale conversion complete\u001b[0m\n",
            "\u001b[34mGaussian blur applied\u001b[0m\n",
            "\u001b[32mGrayscale conversion complete\u001b[0m\n",
            "\u001b[34mGaussian blur applied\u001b[0m\n"
          ]
        },
        {
          "output_type": "stream",
          "name": "stderr",
          "text": [
            "t:  75%|███████▍  | 972/1297 [01:12<00:19, 16.95it/s, now=None]"
          ]
        },
        {
          "output_type": "stream",
          "name": "stdout",
          "text": [
            "\u001b[32mGrayscale conversion complete\u001b[0m\n",
            "\u001b[34mGaussian blur applied\u001b[0m\n",
            "\u001b[32mGrayscale conversion complete\u001b[0m\n",
            "\u001b[34mGaussian blur applied\u001b[0m\n",
            "\u001b[32mGrayscale conversion complete\u001b[0m\n",
            "\u001b[34mGaussian blur applied\u001b[0m\n",
            "\u001b[32mGrayscale conversion complete\u001b[0m\n",
            "\u001b[34mGaussian blur applied\u001b[0m\n",
            "\u001b[32mGrayscale conversion complete\u001b[0m"
          ]
        },
        {
          "output_type": "stream",
          "name": "stderr",
          "text": [
            "\rt:  75%|███████▌  | 974/1297 [01:12<00:20, 15.82it/s, now=None]"
          ]
        },
        {
          "output_type": "stream",
          "name": "stdout",
          "text": [
            "\n",
            "\u001b[34mGaussian blur applied\u001b[0m\n",
            "\u001b[32mGrayscale conversion complete\u001b[0m\n",
            "\u001b[34mGaussian blur applied\u001b[0m\n",
            "\u001b[32mGrayscale conversion complete\u001b[0m\n",
            "\u001b[34mGaussian blur applied\u001b[0m\n",
            "\u001b[32mGrayscale conversion complete\u001b[0m\n",
            "\u001b[34mGaussian blur applied\u001b[0m\n"
          ]
        },
        {
          "output_type": "stream",
          "name": "stderr",
          "text": [
            "t:  76%|███████▌  | 980/1297 [01:13<00:18, 17.03it/s, now=None]"
          ]
        },
        {
          "output_type": "stream",
          "name": "stdout",
          "text": [
            "\u001b[32mGrayscale conversion complete\u001b[0m\n",
            "\u001b[34mGaussian blur applied\u001b[0m\n",
            "\u001b[32mGrayscale conversion complete\u001b[0m\n",
            "\u001b[34mGaussian blur applied\u001b[0m\n",
            "\u001b[32mGrayscale conversion complete\u001b[0m\n",
            "\u001b[34mGaussian blur applied\u001b[0m\n",
            "\u001b[32mGrayscale conversion complete\u001b[0m\n",
            "\u001b[34mGaussian blur applied\u001b[0m\n"
          ]
        },
        {
          "output_type": "stream",
          "name": "stderr",
          "text": [
            "t:  76%|███████▌  | 984/1297 [01:13<00:19, 16.11it/s, now=None]"
          ]
        },
        {
          "output_type": "stream",
          "name": "stdout",
          "text": [
            "\u001b[32mGrayscale conversion complete\u001b[0m\n",
            "\u001b[34mGaussian blur applied\u001b[0m\n",
            "\u001b[32mGrayscale conversion complete\u001b[0m\n",
            "\u001b[34mGaussian blur applied\u001b[0m\n",
            "\u001b[32mGrayscale conversion complete\u001b[0m\n",
            "\u001b[34mGaussian blur applied\u001b[0m\n",
            "\u001b[32mGrayscale conversion complete\u001b[0m\n",
            "\u001b[34mGaussian blur applied\u001b[0m\n"
          ]
        },
        {
          "output_type": "stream",
          "name": "stderr",
          "text": [
            "t:  76%|███████▌  | 988/1297 [01:13<00:19, 15.60it/s, now=None]"
          ]
        },
        {
          "output_type": "stream",
          "name": "stdout",
          "text": [
            "\u001b[32mGrayscale conversion complete\u001b[0m\n",
            "\u001b[34mGaussian blur applied\u001b[0m\n",
            "\u001b[32mGrayscale conversion complete\u001b[0m\n",
            "\u001b[34mGaussian blur applied\u001b[0m\n",
            "\u001b[32mGrayscale conversion complete\u001b[0m\n",
            "\u001b[34mGaussian blur applied\u001b[0m\n",
            "\u001b[32mGrayscale conversion complete\u001b[0m\n",
            "\u001b[34mGaussian blur applied\u001b[0m\n"
          ]
        },
        {
          "output_type": "stream",
          "name": "stderr",
          "text": [
            "t:  76%|███████▋  | 992/1297 [01:14<00:20, 14.84it/s, now=None]"
          ]
        },
        {
          "output_type": "stream",
          "name": "stdout",
          "text": [
            "\u001b[32mGrayscale conversion complete\u001b[0m\n",
            "\u001b[34mGaussian blur applied\u001b[0m\n",
            "\u001b[32mGrayscale conversion complete\u001b[0m\n",
            "\u001b[34mGaussian blur applied\u001b[0m\n",
            "\u001b[32mGrayscale conversion complete\u001b[0m\n",
            "\u001b[34mGaussian blur applied\u001b[0m\n",
            "\u001b[32mGrayscale conversion complete\u001b[0m\n",
            "\u001b[34mGaussian blur applied\u001b[0m\n"
          ]
        },
        {
          "output_type": "stream",
          "name": "stderr",
          "text": [
            "\rt:  77%|███████▋  | 994/1297 [01:14<00:23, 13.04it/s, now=None]"
          ]
        },
        {
          "output_type": "stream",
          "name": "stdout",
          "text": [
            "\u001b[32mGrayscale conversion complete\u001b[0m\n",
            "\u001b[34mGaussian blur applied\u001b[0m\n",
            "\u001b[32mGrayscale conversion complete\u001b[0m\n",
            "\u001b[34mGaussian blur applied\u001b[0m\n",
            "\u001b[32mGrayscale conversion complete\u001b[0m\n",
            "\u001b[34mGaussian blur applied\u001b[0m\n"
          ]
        },
        {
          "output_type": "stream",
          "name": "stderr",
          "text": [
            "\rt:  77%|███████▋  | 996/1297 [01:14<00:22, 13.26it/s, now=None]"
          ]
        },
        {
          "output_type": "stream",
          "name": "stdout",
          "text": [
            "\u001b[32mGrayscale conversion complete\u001b[0m\n",
            "\u001b[34mGaussian blur applied\u001b[0m\n"
          ]
        },
        {
          "output_type": "stream",
          "name": "stderr",
          "text": [
            "\rt:  77%|███████▋  | 998/1297 [01:14<00:30,  9.89it/s, now=None]"
          ]
        },
        {
          "output_type": "stream",
          "name": "stdout",
          "text": [
            "\u001b[32mGrayscale conversion complete\u001b[0m\n",
            "\u001b[34mGaussian blur applied\u001b[0m\n",
            "\u001b[32mGrayscale conversion complete\u001b[0m\n",
            "\u001b[34mGaussian blur applied\u001b[0m\n"
          ]
        },
        {
          "output_type": "stream",
          "name": "stderr",
          "text": [
            "\rt:  77%|███████▋  | 1000/1297 [01:14<00:28, 10.28it/s, now=None]"
          ]
        },
        {
          "output_type": "stream",
          "name": "stdout",
          "text": [
            "\u001b[32mGrayscale conversion complete\u001b[0m\n",
            "\u001b[34mGaussian blur applied\u001b[0m\n",
            "\u001b[32mGrayscale conversion complete\u001b[0m\n",
            "\u001b[34mGaussian blur applied\u001b[0m\n"
          ]
        },
        {
          "output_type": "stream",
          "name": "stderr",
          "text": [
            "\rt:  77%|███████▋  | 1002/1297 [01:15<00:30,  9.61it/s, now=None]"
          ]
        },
        {
          "output_type": "stream",
          "name": "stdout",
          "text": [
            "\u001b[32mGrayscale conversion complete\u001b[0m\n",
            "\u001b[34mGaussian blur applied\u001b[0m\n",
            "\u001b[32mGrayscale conversion complete\u001b[0m\n",
            "\u001b[34mGaussian blur applied\u001b[0m\n",
            "\u001b[32mGrayscale conversion complete\u001b[0m\n",
            "\u001b[34mGaussian blur applied\u001b[0m\n"
          ]
        },
        {
          "output_type": "stream",
          "name": "stderr",
          "text": [
            "\rt:  77%|███████▋  | 1004/1297 [01:15<00:27, 10.51it/s, now=None]"
          ]
        },
        {
          "output_type": "stream",
          "name": "stdout",
          "text": [
            "\u001b[32mGrayscale conversion complete\u001b[0m\n",
            "\u001b[34mGaussian blur applied\u001b[0m\n"
          ]
        },
        {
          "output_type": "stream",
          "name": "stderr",
          "text": [
            "\rt:  78%|███████▊  | 1006/1297 [01:15<00:32,  9.00it/s, now=None]"
          ]
        },
        {
          "output_type": "stream",
          "name": "stdout",
          "text": [
            "\u001b[32mGrayscale conversion complete\u001b[0m\n",
            "\u001b[34mGaussian blur applied\u001b[0m\n",
            "\u001b[32mGrayscale conversion complete\u001b[0m\n",
            "\u001b[34mGaussian blur applied\u001b[0m\n",
            "\u001b[32mGrayscale conversion complete\u001b[0m\n",
            "\u001b[34mGaussian blur applied\u001b[0m\n"
          ]
        },
        {
          "output_type": "stream",
          "name": "stderr",
          "text": [
            "t:  78%|███████▊  | 1010/1297 [01:15<00:29,  9.82it/s, now=None]"
          ]
        },
        {
          "output_type": "stream",
          "name": "stdout",
          "text": [
            "\u001b[32mGrayscale conversion complete\u001b[0m\n",
            "\u001b[34mGaussian blur applied\u001b[0m\n",
            "\u001b[32mGrayscale conversion complete\u001b[0m\n",
            "\u001b[34mGaussian blur applied\u001b[0m\n"
          ]
        },
        {
          "output_type": "stream",
          "name": "stderr",
          "text": [
            "\rt:  78%|███████▊  | 1012/1297 [01:16<00:26, 10.77it/s, now=None]"
          ]
        },
        {
          "output_type": "stream",
          "name": "stdout",
          "text": [
            "\u001b[32mGrayscale conversion complete\u001b[0m\n",
            "\u001b[34mGaussian blur applied\u001b[0m\n",
            "\u001b[32mGrayscale conversion complete\u001b[0m\n",
            "\u001b[34mGaussian blur applied\u001b[0m\n",
            "\u001b[32mGrayscale conversion complete\u001b[0m\n",
            "\u001b[34mGaussian blur applied\u001b[0m\n"
          ]
        },
        {
          "output_type": "stream",
          "name": "stderr",
          "text": [
            "\rt:  78%|███████▊  | 1014/1297 [01:16<00:31,  8.94it/s, now=None]"
          ]
        },
        {
          "output_type": "stream",
          "name": "stdout",
          "text": [
            "\u001b[32mGrayscale conversion complete\u001b[0m\n",
            "\u001b[34mGaussian blur applied\u001b[0m\n",
            "\u001b[32mGrayscale conversion complete\u001b[0m\n",
            "\u001b[34mGaussian blur applied\u001b[0m\n",
            "\u001b[32mGrayscale conversion complete\u001b[0m\n",
            "\u001b[34mGaussian blur applied\u001b[0m\n"
          ]
        },
        {
          "output_type": "stream",
          "name": "stderr",
          "text": [
            "\rt:  78%|███████▊  | 1016/1297 [01:16<00:28,  9.76it/s, now=None]"
          ]
        },
        {
          "output_type": "stream",
          "name": "stdout",
          "text": [
            "\u001b[32mGrayscale conversion complete\u001b[0m\n",
            "\u001b[34mGaussian blur applied\u001b[0m\n"
          ]
        },
        {
          "output_type": "stream",
          "name": "stderr",
          "text": [
            "\rt:  78%|███████▊  | 1018/1297 [01:16<00:32,  8.61it/s, now=None]"
          ]
        },
        {
          "output_type": "stream",
          "name": "stdout",
          "text": [
            "\u001b[32mGrayscale conversion complete\u001b[0m\n",
            "\u001b[34mGaussian blur applied\u001b[0m\n",
            "\u001b[32mGrayscale conversion complete\u001b[0m\n",
            "\u001b[34mGaussian blur applied\u001b[0m\n",
            "\u001b[32mGrayscale conversion complete\u001b[0m\n",
            "\u001b[34mGaussian blur applied\u001b[0m\n"
          ]
        },
        {
          "output_type": "stream",
          "name": "stderr",
          "text": [
            "\rt:  79%|███████▊  | 1020/1297 [01:17<00:28,  9.80it/s, now=None]"
          ]
        },
        {
          "output_type": "stream",
          "name": "stdout",
          "text": [
            "\u001b[32mGrayscale conversion complete\u001b[0m\n",
            "\u001b[34mGaussian blur applied\u001b[0m\n"
          ]
        },
        {
          "output_type": "stream",
          "name": "stderr",
          "text": [
            "t:  79%|███████▉  | 1024/1297 [01:17<00:27,  9.96it/s, now=None]"
          ]
        },
        {
          "output_type": "stream",
          "name": "stdout",
          "text": [
            "\u001b[32mGrayscale conversion complete\u001b[0m\n",
            "\u001b[34mGaussian blur applied\u001b[0m\n",
            "\u001b[32mGrayscale conversion complete\u001b[0m\n",
            "\u001b[34mGaussian blur applied\u001b[0m\n",
            "\u001b[32mGrayscale conversion complete\u001b[0m\n",
            "\u001b[34mGaussian blur applied\u001b[0m\n",
            "\u001b[32mGrayscale conversion complete\u001b[0m\n",
            "\u001b[34mGaussian blur applied\u001b[0m\n"
          ]
        },
        {
          "output_type": "stream",
          "name": "stderr",
          "text": [
            "\rt:  79%|███████▉  | 1026/1297 [01:17<00:29,  9.09it/s, now=None]"
          ]
        },
        {
          "output_type": "stream",
          "name": "stdout",
          "text": [
            "\u001b[32mGrayscale conversion complete\u001b[0m\n",
            "\u001b[34mGaussian blur applied\u001b[0m\n",
            "\u001b[32mGrayscale conversion complete\u001b[0m\n",
            "\u001b[34mGaussian blur applied\u001b[0m\n",
            "\u001b[32mGrayscale conversion complete\u001b[0m\n",
            "\u001b[34mGaussian blur applied\u001b[0m\n"
          ]
        },
        {
          "output_type": "stream",
          "name": "stderr",
          "text": [
            "t:  79%|███████▉  | 1030/1297 [01:18<00:28,  9.36it/s, now=None]"
          ]
        },
        {
          "output_type": "stream",
          "name": "stdout",
          "text": [
            "\u001b[32mGrayscale conversion complete\u001b[0m\n",
            "\u001b[34mGaussian blur applied\u001b[0m\n",
            "\u001b[32mGrayscale conversion complete\u001b[0m\n",
            "\u001b[34mGaussian blur applied\u001b[0m\n"
          ]
        },
        {
          "output_type": "stream",
          "name": "stderr",
          "text": [
            "\rt:  80%|███████▉  | 1032/1297 [01:18<00:27,  9.73it/s, now=None]"
          ]
        },
        {
          "output_type": "stream",
          "name": "stdout",
          "text": [
            "\u001b[32mGrayscale conversion complete\u001b[0m\n",
            "\u001b[34mGaussian blur applied\u001b[0m\n",
            "\u001b[32mGrayscale conversion complete\u001b[0m\n",
            "\u001b[34mGaussian blur applied\u001b[0m\n",
            "\u001b[32mGrayscale conversion complete\u001b[0m\n",
            "\u001b[34mGaussian blur applied\u001b[0m\n"
          ]
        },
        {
          "output_type": "stream",
          "name": "stderr",
          "text": [
            "t:  80%|███████▉  | 1036/1297 [01:18<00:23, 11.28it/s, now=None]"
          ]
        },
        {
          "output_type": "stream",
          "name": "stdout",
          "text": [
            "\u001b[32mGrayscale conversion complete\u001b[0m\n",
            "\u001b[34mGaussian blur applied\u001b[0m\n",
            "\u001b[32mGrayscale conversion complete\u001b[0m\n",
            "\u001b[34mGaussian blur applied\u001b[0m\n",
            "\u001b[32mGrayscale conversion complete\u001b[0m\n",
            "\u001b[34mGaussian blur applied\u001b[0m\n",
            "\u001b[32mGrayscale conversion complete\u001b[0m\n",
            "\u001b[34mGaussian blur applied\u001b[0m\n"
          ]
        },
        {
          "output_type": "stream",
          "name": "stderr",
          "text": [
            "\rt:  80%|████████  | 1038/1297 [01:18<00:27,  9.32it/s, now=None]"
          ]
        },
        {
          "output_type": "stream",
          "name": "stdout",
          "text": [
            "\u001b[32mGrayscale conversion complete\u001b[0m\n",
            "\u001b[34mGaussian blur applied\u001b[0m\n",
            "\u001b[32mGrayscale conversion complete\u001b[0m\n",
            "\u001b[34mGaussian blur applied\u001b[0m\n",
            "\u001b[32mGrayscale conversion complete\u001b[0m\n",
            "\u001b[34mGaussian blur applied\u001b[0m\n"
          ]
        },
        {
          "output_type": "stream",
          "name": "stderr",
          "text": [
            "\rt:  80%|████████  | 1040/1297 [01:19<00:23, 11.01it/s, now=None]"
          ]
        },
        {
          "output_type": "stream",
          "name": "stdout",
          "text": [
            "\u001b[32mGrayscale conversion complete\u001b[0m\n",
            "\u001b[34mGaussian blur applied\u001b[0m\n"
          ]
        },
        {
          "output_type": "stream",
          "name": "stderr",
          "text": [
            "\rt:  80%|████████  | 1042/1297 [01:19<00:28,  8.89it/s, now=None]"
          ]
        },
        {
          "output_type": "stream",
          "name": "stdout",
          "text": [
            "\u001b[32mGrayscale conversion complete\u001b[0m\n",
            "\u001b[34mGaussian blur applied\u001b[0m\n",
            "\u001b[32mGrayscale conversion complete\u001b[0m\n",
            "\u001b[34mGaussian blur applied\u001b[0m\n",
            "\u001b[32mGrayscale conversion complete\u001b[0m\n",
            "\u001b[34mGaussian blur applied\u001b[0m\n"
          ]
        },
        {
          "output_type": "stream",
          "name": "stderr",
          "text": [
            "t:  81%|████████  | 1046/1297 [01:19<00:29,  8.48it/s, now=None]"
          ]
        },
        {
          "output_type": "stream",
          "name": "stdout",
          "text": [
            "\u001b[32mGrayscale conversion complete\u001b[0m\n",
            "\u001b[34mGaussian blur applied\u001b[0m\n",
            "\u001b[32mGrayscale conversion complete\u001b[0m\n",
            "\u001b[34mGaussian blur applied\u001b[0m\n",
            "\u001b[32mGrayscale conversion complete\u001b[0m\n",
            "\u001b[34mGaussian blur applied\u001b[0m\n"
          ]
        },
        {
          "output_type": "stream",
          "name": "stderr",
          "text": [
            "\rt:  81%|████████  | 1048/1297 [01:20<00:27,  9.03it/s, now=None]"
          ]
        },
        {
          "output_type": "stream",
          "name": "stdout",
          "text": [
            "\u001b[32mGrayscale conversion complete\u001b[0m\n",
            "\u001b[34mGaussian blur applied\u001b[0m\n",
            "\u001b[32mGrayscale conversion complete\u001b[0m\n",
            "\u001b[34mGaussian blur applied\u001b[0m\n",
            "\u001b[32mGrayscale conversion complete\u001b[0m\n"
          ]
        },
        {
          "output_type": "stream",
          "name": "stderr",
          "text": [
            "\rt:  81%|████████  | 1050/1297 [01:20<00:24, 10.28it/s, now=None]"
          ]
        },
        {
          "output_type": "stream",
          "name": "stdout",
          "text": [
            "\u001b[34mGaussian blur applied\u001b[0m\n",
            "\u001b[32mGrayscale conversion complete\u001b[0m\n",
            "\u001b[34mGaussian blur applied\u001b[0m\n",
            "\u001b[32mGrayscale conversion complete\u001b[0m\n",
            "\u001b[34mGaussian blur applied\u001b[0m\n"
          ]
        },
        {
          "output_type": "stream",
          "name": "stderr",
          "text": [
            "t:  81%|████████▏ | 1057/1297 [01:20<00:16, 14.99it/s, now=None]"
          ]
        },
        {
          "output_type": "stream",
          "name": "stdout",
          "text": [
            "\u001b[32mGrayscale conversion complete\u001b[0m\n",
            "\u001b[34mGaussian blur applied\u001b[0m\n",
            "\u001b[32mGrayscale conversion complete\u001b[0m\n",
            "\u001b[34mGaussian blur applied\u001b[0m\n",
            "\u001b[32mGrayscale conversion complete\u001b[0m\n",
            "\u001b[34mGaussian blur applied\u001b[0m\n",
            "\u001b[32mGrayscale conversion complete\u001b[0m\n",
            "\u001b[34mGaussian blur applied\u001b[0m\n",
            "\u001b[32mGrayscale conversion complete\u001b[0m\n",
            "\u001b[34mGaussian blur applied\u001b[0m\n"
          ]
        },
        {
          "output_type": "stream",
          "name": "stderr",
          "text": [
            "\rt:  82%|████████▏ | 1059/1297 [01:20<00:17, 13.86it/s, now=None]"
          ]
        },
        {
          "output_type": "stream",
          "name": "stdout",
          "text": [
            "\u001b[32mGrayscale conversion complete\u001b[0m\n",
            "\u001b[34mGaussian blur applied\u001b[0m\n",
            "\u001b[32mGrayscale conversion complete\u001b[0m\n",
            "\u001b[34mGaussian blur applied\u001b[0m\n",
            "\u001b[32mGrayscale conversion complete\u001b[0m\n",
            "\u001b[34mGaussian blur applied\u001b[0m\n"
          ]
        },
        {
          "output_type": "stream",
          "name": "stderr",
          "text": [
            "t:  82%|████████▏ | 1063/1297 [01:21<00:16, 14.36it/s, now=None]"
          ]
        },
        {
          "output_type": "stream",
          "name": "stdout",
          "text": [
            "\u001b[32mGrayscale conversion complete\u001b[0m\n",
            "\u001b[34mGaussian blur applied\u001b[0m\n",
            "\u001b[32mGrayscale conversion complete\u001b[0m\n",
            "\u001b[34mGaussian blur applied\u001b[0m\n",
            "\u001b[32mGrayscale conversion complete\u001b[0m\n",
            "\u001b[34mGaussian blur applied\u001b[0m\n",
            "\u001b[32mGrayscale conversion complete\u001b[0m\n",
            "\u001b[34mGaussian blur applied\u001b[0m\n"
          ]
        },
        {
          "output_type": "stream",
          "name": "stderr",
          "text": [
            "\rt:  82%|████████▏ | 1065/1297 [01:21<00:14, 15.53it/s, now=None]"
          ]
        },
        {
          "output_type": "stream",
          "name": "stdout",
          "text": [
            "\u001b[32mGrayscale conversion complete\u001b[0m\n",
            "\u001b[34mGaussian blur applied\u001b[0m\n",
            "\u001b[32mGrayscale conversion complete\u001b[0m\n",
            "\u001b[34mGaussian blur applied\u001b[0m\n",
            "\u001b[32mGrayscale conversion complete\u001b[0m\n",
            "\u001b[34mGaussian blur applied\u001b[0m\n"
          ]
        },
        {
          "output_type": "stream",
          "name": "stderr",
          "text": [
            "t:  82%|████████▏ | 1070/1297 [01:21<00:14, 15.75it/s, now=None]"
          ]
        },
        {
          "output_type": "stream",
          "name": "stdout",
          "text": [
            "\u001b[32mGrayscale conversion complete\u001b[0m\n",
            "\u001b[34mGaussian blur applied\u001b[0m\n",
            "\u001b[32mGrayscale conversion complete\u001b[0m\n",
            "\u001b[34mGaussian blur applied\u001b[0m\n",
            "\u001b[32mGrayscale conversion complete\u001b[0m\n",
            "\u001b[34mGaussian blur applied\u001b[0m\n",
            "\u001b[32mGrayscale conversion complete\u001b[0m\n",
            "\u001b[34mGaussian blur applied\u001b[0m\n"
          ]
        },
        {
          "output_type": "stream",
          "name": "stderr",
          "text": [
            "t:  83%|████████▎ | 1074/1297 [01:21<00:13, 16.33it/s, now=None]"
          ]
        },
        {
          "output_type": "stream",
          "name": "stdout",
          "text": [
            "\u001b[32mGrayscale conversion complete\u001b[0m\n",
            "\u001b[34mGaussian blur applied\u001b[0m\n",
            "\u001b[32mGrayscale conversion complete\u001b[0m\n",
            "\u001b[34mGaussian blur applied\u001b[0m\n",
            "\u001b[32mGrayscale conversion complete\u001b[0m\n",
            "\u001b[34mGaussian blur applied\u001b[0m\n",
            "\u001b[32mGrayscale conversion complete\u001b[0m\n",
            "\u001b[34mGaussian blur applied\u001b[0m\n",
            "\u001b[32mGrayscale conversion complete\u001b[0m\n",
            "\u001b[34mGaussian blur applied\u001b[0m\n"
          ]
        },
        {
          "output_type": "stream",
          "name": "stderr",
          "text": [
            "t:  83%|████████▎ | 1078/1297 [01:22<00:12, 17.01it/s, now=None]"
          ]
        },
        {
          "output_type": "stream",
          "name": "stdout",
          "text": [
            "\u001b[32mGrayscale conversion complete\u001b[0m\n",
            "\u001b[34mGaussian blur applied\u001b[0m\n",
            "\u001b[32mGrayscale conversion complete\u001b[0m\n",
            "\u001b[34mGaussian blur applied\u001b[0m\n",
            "\u001b[32mGrayscale conversion complete\u001b[0m\n",
            "\u001b[34mGaussian blur applied\u001b[0m\n",
            "\u001b[32mGrayscale conversion complete\u001b[0m\n",
            "\u001b[34mGaussian blur applied\u001b[0m\n",
            "\u001b[32mGrayscale conversion complete\u001b[0m\n",
            "\u001b[34mGaussian blur applied\u001b[0m\n"
          ]
        },
        {
          "output_type": "stream",
          "name": "stderr",
          "text": [
            "t:  84%|████████▎ | 1083/1297 [01:22<00:11, 19.01it/s, now=None]"
          ]
        },
        {
          "output_type": "stream",
          "name": "stdout",
          "text": [
            "\u001b[32mGrayscale conversion complete\u001b[0m\n",
            "\u001b[34mGaussian blur applied\u001b[0m\n",
            "\u001b[32mGrayscale conversion complete\u001b[0m\n",
            "\u001b[34mGaussian blur applied\u001b[0m\n",
            "\u001b[32mGrayscale conversion complete\u001b[0m\n",
            "\u001b[34mGaussian blur applied\u001b[0m\n",
            "\u001b[32mGrayscale conversion complete\u001b[0m\n",
            "\u001b[34mGaussian blur applied\u001b[0m\n",
            "\u001b[32mGrayscale conversion complete\u001b[0m\n",
            "\u001b[34mGaussian blur applied\u001b[0m\n"
          ]
        },
        {
          "output_type": "stream",
          "name": "stderr",
          "text": [
            "t:  84%|████████▍ | 1089/1297 [01:22<00:09, 21.19it/s, now=None]"
          ]
        },
        {
          "output_type": "stream",
          "name": "stdout",
          "text": [
            "\u001b[32mGrayscale conversion complete\u001b[0m\n",
            "\u001b[34mGaussian blur applied\u001b[0m\n",
            "\u001b[32mGrayscale conversion complete\u001b[0m\n",
            "\u001b[34mGaussian blur applied\u001b[0m\n",
            "\u001b[32mGrayscale conversion complete\u001b[0m\n",
            "\u001b[34mGaussian blur applied\u001b[0m\n",
            "\u001b[32mGrayscale conversion complete\u001b[0m\n",
            "\u001b[34mGaussian blur applied\u001b[0m\n",
            "\u001b[32mGrayscale conversion complete\u001b[0m\n",
            "\u001b[34mGaussian blur applied\u001b[0m\n"
          ]
        },
        {
          "output_type": "stream",
          "name": "stderr",
          "text": [
            "t:  84%|████████▍ | 1094/1297 [01:22<00:11, 17.70it/s, now=None]"
          ]
        },
        {
          "output_type": "stream",
          "name": "stdout",
          "text": [
            "\u001b[32mGrayscale conversion complete\u001b[0m\n",
            "\u001b[34mGaussian blur applied\u001b[0m\n",
            "\u001b[32mGrayscale conversion complete\u001b[0m\n",
            "\u001b[34mGaussian blur applied\u001b[0m\n",
            "\u001b[32mGrayscale conversion complete\u001b[0m\n",
            "\u001b[34mGaussian blur applied\u001b[0m\n",
            "\u001b[32mGrayscale conversion complete\u001b[0m\n",
            "\u001b[34mGaussian blur applied\u001b[0m\n"
          ]
        },
        {
          "output_type": "stream",
          "name": "stderr",
          "text": [
            "t:  85%|████████▍ | 1098/1297 [01:23<00:12, 16.07it/s, now=None]"
          ]
        },
        {
          "output_type": "stream",
          "name": "stdout",
          "text": [
            "\u001b[32mGrayscale conversion complete\u001b[0m\n",
            "\u001b[34mGaussian blur applied\u001b[0m\n",
            "\u001b[32mGrayscale conversion complete\u001b[0m\n",
            "\u001b[34mGaussian blur applied\u001b[0m\n",
            "\u001b[32mGrayscale conversion complete\u001b[0m\n",
            "\u001b[34mGaussian blur applied\u001b[0m\n",
            "\u001b[32mGrayscale conversion complete\u001b[0m\n",
            "\u001b[34mGaussian blur applied\u001b[0m\n"
          ]
        },
        {
          "output_type": "stream",
          "name": "stderr",
          "text": [
            "t:  85%|████████▍ | 1102/1297 [01:23<00:12, 15.25it/s, now=None]"
          ]
        },
        {
          "output_type": "stream",
          "name": "stdout",
          "text": [
            "\u001b[32mGrayscale conversion complete\u001b[0m\n",
            "\u001b[34mGaussian blur applied\u001b[0m\n",
            "\u001b[32mGrayscale conversion complete\u001b[0m\n",
            "\u001b[34mGaussian blur applied\u001b[0m\n",
            "\u001b[32mGrayscale conversion complete\u001b[0m\n",
            "\u001b[34mGaussian blur applied\u001b[0m\n",
            "\u001b[32mGrayscale conversion complete\u001b[0m\n",
            "\u001b[34mGaussian blur applied\u001b[0m\n"
          ]
        },
        {
          "output_type": "stream",
          "name": "stderr",
          "text": [
            "\rt:  85%|████████▌ | 1104/1297 [01:23<00:12, 15.76it/s, now=None]"
          ]
        },
        {
          "output_type": "stream",
          "name": "stdout",
          "text": [
            "\u001b[32mGrayscale conversion complete\u001b[0m\n",
            "\u001b[34mGaussian blur applied\u001b[0m\n",
            "\u001b[32mGrayscale conversion complete\u001b[0m\n",
            "\u001b[34mGaussian blur applied\u001b[0m\n",
            "\u001b[32mGrayscale conversion complete\u001b[0m\n",
            "\u001b[34mGaussian blur applied\u001b[0m\n",
            "\u001b[32mGrayscale conversion complete\u001b[0m\n",
            "\u001b[34mGaussian blur applied\u001b[0m\n"
          ]
        },
        {
          "output_type": "stream",
          "name": "stderr",
          "text": [
            "t:  86%|████████▌ | 1110/1297 [01:23<00:11, 16.24it/s, now=None]"
          ]
        },
        {
          "output_type": "stream",
          "name": "stdout",
          "text": [
            "\u001b[32mGrayscale conversion complete\u001b[0m\n",
            "\u001b[34mGaussian blur applied\u001b[0m\n",
            "\u001b[32mGrayscale conversion complete\u001b[0m\n",
            "\u001b[34mGaussian blur applied\u001b[0m\n",
            "\u001b[32mGrayscale conversion complete\u001b[0m\n",
            "\u001b[34mGaussian blur applied\u001b[0m\n",
            "\u001b[32mGrayscale conversion complete\u001b[0m\n",
            "\u001b[34mGaussian blur applied\u001b[0m\n"
          ]
        },
        {
          "output_type": "stream",
          "name": "stderr",
          "text": [
            "t:  86%|████████▌ | 1114/1297 [01:24<00:11, 15.71it/s, now=None]"
          ]
        },
        {
          "output_type": "stream",
          "name": "stdout",
          "text": [
            "\u001b[32mGrayscale conversion complete\u001b[0m\n",
            "\u001b[34mGaussian blur applied\u001b[0m\n",
            "\u001b[32mGrayscale conversion complete\u001b[0m\n",
            "\u001b[34mGaussian blur applied\u001b[0m\n",
            "\u001b[32mGrayscale conversion complete\u001b[0m\n",
            "\u001b[34mGaussian blur applied\u001b[0m\n",
            "\u001b[32mGrayscale conversion complete\u001b[0m\n",
            "\u001b[34mGaussian blur applied\u001b[0m\n"
          ]
        },
        {
          "output_type": "stream",
          "name": "stderr",
          "text": [
            "t:  86%|████████▌ | 1118/1297 [01:24<00:11, 15.71it/s, now=None]"
          ]
        },
        {
          "output_type": "stream",
          "name": "stdout",
          "text": [
            "\u001b[32mGrayscale conversion complete\u001b[0m\n",
            "\u001b[34mGaussian blur applied\u001b[0m\n",
            "\u001b[32mGrayscale conversion complete\u001b[0m\n",
            "\u001b[34mGaussian blur applied\u001b[0m\n",
            "\u001b[32mGrayscale conversion complete\u001b[0m\n",
            "\u001b[34mGaussian blur applied\u001b[0m\n",
            "\u001b[32mGrayscale conversion complete\u001b[0m\n",
            "\u001b[34mGaussian blur applied\u001b[0m\n"
          ]
        },
        {
          "output_type": "stream",
          "name": "stderr",
          "text": [
            "\rt:  86%|████████▋ | 1120/1297 [01:24<00:11, 15.59it/s, now=None]"
          ]
        },
        {
          "output_type": "stream",
          "name": "stdout",
          "text": [
            "\u001b[32mGrayscale conversion complete\u001b[0m\n",
            "\u001b[34mGaussian blur applied\u001b[0m\n",
            "\u001b[32mGrayscale conversion complete\u001b[0m\n",
            "\u001b[34mGaussian blur applied\u001b[0m\n",
            "\u001b[32mGrayscale conversion complete\u001b[0m\n",
            "\u001b[34mGaussian blur applied\u001b[0m\n",
            "\u001b[32mGrayscale conversion complete\u001b[0m\n",
            "\u001b[34mGaussian blur applied\u001b[0m\n"
          ]
        },
        {
          "output_type": "stream",
          "name": "stderr",
          "text": [
            "t:  87%|████████▋ | 1125/1297 [01:24<00:11, 15.55it/s, now=None]"
          ]
        },
        {
          "output_type": "stream",
          "name": "stdout",
          "text": [
            "\u001b[32mGrayscale conversion complete\u001b[0m\n",
            "\u001b[34mGaussian blur applied\u001b[0m\n",
            "\u001b[32mGrayscale conversion complete\u001b[0m\n",
            "\u001b[34mGaussian blur applied\u001b[0m\n",
            "\u001b[32mGrayscale conversion complete\u001b[0m\n",
            "\u001b[34mGaussian blur applied\u001b[0m\n",
            "\u001b[32mGrayscale conversion complete\u001b[0m\n",
            "\u001b[34mGaussian blur applied\u001b[0m\n"
          ]
        },
        {
          "output_type": "stream",
          "name": "stderr",
          "text": [
            "t:  87%|████████▋ | 1129/1297 [01:25<00:11, 15.13it/s, now=None]"
          ]
        },
        {
          "output_type": "stream",
          "name": "stdout",
          "text": [
            "\u001b[32mGrayscale conversion complete\u001b[0m\n",
            "\u001b[34mGaussian blur applied\u001b[0m\n",
            "\u001b[32mGrayscale conversion complete\u001b[0m\n",
            "\u001b[34mGaussian blur applied\u001b[0m\n",
            "\u001b[32mGrayscale conversion complete\u001b[0m\n",
            "\u001b[34mGaussian blur applied\u001b[0m\n",
            "\u001b[32mGrayscale conversion complete\u001b[0m\n",
            "\u001b[34mGaussian blur applied\u001b[0m\n"
          ]
        },
        {
          "output_type": "stream",
          "name": "stderr",
          "text": [
            "t:  87%|████████▋ | 1133/1297 [01:25<00:10, 15.50it/s, now=None]"
          ]
        },
        {
          "output_type": "stream",
          "name": "stdout",
          "text": [
            "\u001b[32mGrayscale conversion complete\u001b[0m\n",
            "\u001b[34mGaussian blur applied\u001b[0m\n",
            "\u001b[32mGrayscale conversion complete\u001b[0m\n",
            "\u001b[34mGaussian blur applied\u001b[0m\n",
            "\u001b[32mGrayscale conversion complete\u001b[0m\n",
            "\u001b[34mGaussian blur applied\u001b[0m\n",
            "\u001b[32mGrayscale conversion complete\u001b[0m\n",
            "\u001b[34mGaussian blur applied\u001b[0m\n"
          ]
        },
        {
          "output_type": "stream",
          "name": "stderr",
          "text": [
            "t:  88%|████████▊ | 1137/1297 [01:25<00:10, 15.88it/s, now=None]"
          ]
        },
        {
          "output_type": "stream",
          "name": "stdout",
          "text": [
            "\u001b[32mGrayscale conversion complete\u001b[0m\n",
            "\u001b[34mGaussian blur applied\u001b[0m\n",
            "\u001b[32mGrayscale conversion complete\u001b[0m\n",
            "\u001b[34mGaussian blur applied\u001b[0m\n",
            "\u001b[32mGrayscale conversion complete\u001b[0m\n",
            "\u001b[34mGaussian blur applied\u001b[0m\n",
            "\u001b[32mGrayscale conversion complete\u001b[0m\n",
            "\u001b[34mGaussian blur applied\u001b[0m\n"
          ]
        },
        {
          "output_type": "stream",
          "name": "stderr",
          "text": [
            "t:  88%|████████▊ | 1141/1297 [01:25<00:10, 15.38it/s, now=None]"
          ]
        },
        {
          "output_type": "stream",
          "name": "stdout",
          "text": [
            "\u001b[32mGrayscale conversion complete\u001b[0m\n",
            "\u001b[34mGaussian blur applied\u001b[0m\n",
            "\u001b[32mGrayscale conversion complete\u001b[0m\n",
            "\u001b[34mGaussian blur applied\u001b[0m\n",
            "\u001b[32mGrayscale conversion complete\u001b[0m\n",
            "\u001b[34mGaussian blur applied\u001b[0m\n",
            "\u001b[32mGrayscale conversion complete\u001b[0m\n",
            "\u001b[34mGaussian blur applied\u001b[0m\n"
          ]
        },
        {
          "output_type": "stream",
          "name": "stderr",
          "text": [
            "t:  88%|████████▊ | 1145/1297 [01:26<00:09, 15.30it/s, now=None]"
          ]
        },
        {
          "output_type": "stream",
          "name": "stdout",
          "text": [
            "\u001b[32mGrayscale conversion complete\u001b[0m\n",
            "\u001b[34mGaussian blur applied\u001b[0m\n",
            "\u001b[32mGrayscale conversion complete\u001b[0m\n",
            "\u001b[34mGaussian blur applied\u001b[0m\n",
            "\u001b[32mGrayscale conversion complete\u001b[0m\n",
            "\u001b[34mGaussian blur applied\u001b[0m\n",
            "\u001b[32mGrayscale conversion complete\u001b[0m\n",
            "\u001b[34mGaussian blur applied\u001b[0m\n"
          ]
        },
        {
          "output_type": "stream",
          "name": "stderr",
          "text": [
            "t:  89%|████████▊ | 1149/1297 [01:26<00:09, 15.30it/s, now=None]"
          ]
        },
        {
          "output_type": "stream",
          "name": "stdout",
          "text": [
            "\u001b[32mGrayscale conversion complete\u001b[0m\n",
            "\u001b[34mGaussian blur applied\u001b[0m\n",
            "\u001b[32mGrayscale conversion complete\u001b[0m\n",
            "\u001b[34mGaussian blur applied\u001b[0m\n",
            "\u001b[32mGrayscale conversion complete\u001b[0m\n",
            "\u001b[34mGaussian blur applied\u001b[0m\n",
            "\u001b[32mGrayscale conversion complete\u001b[0m\n",
            "\u001b[34mGaussian blur applied\u001b[0m\n"
          ]
        },
        {
          "output_type": "stream",
          "name": "stderr",
          "text": [
            "t:  89%|████████▉ | 1153/1297 [01:26<00:09, 15.49it/s, now=None]"
          ]
        },
        {
          "output_type": "stream",
          "name": "stdout",
          "text": [
            "\u001b[32mGrayscale conversion complete\u001b[0m\n",
            "\u001b[34mGaussian blur applied\u001b[0m\n",
            "\u001b[32mGrayscale conversion complete\u001b[0m\n",
            "\u001b[34mGaussian blur applied\u001b[0m\n",
            "\u001b[32mGrayscale conversion complete\u001b[0m\n",
            "\u001b[34mGaussian blur applied\u001b[0m\n",
            "\u001b[32mGrayscale conversion complete\u001b[0m\n",
            "\u001b[34mGaussian blur applied\u001b[0m\n"
          ]
        },
        {
          "output_type": "stream",
          "name": "stderr",
          "text": [
            "t:  89%|████████▉ | 1157/1297 [01:27<00:09, 15.18it/s, now=None]"
          ]
        },
        {
          "output_type": "stream",
          "name": "stdout",
          "text": [
            "\u001b[32mGrayscale conversion complete\u001b[0m\n",
            "\u001b[34mGaussian blur applied\u001b[0m\n",
            "\u001b[32mGrayscale conversion complete\u001b[0m\n",
            "\u001b[34mGaussian blur applied\u001b[0m\n",
            "\u001b[32mGrayscale conversion complete\u001b[0m\n",
            "\u001b[34mGaussian blur applied\u001b[0m\n",
            "\u001b[32mGrayscale conversion complete\u001b[0m\n",
            "\u001b[34mGaussian blur applied\u001b[0m\n"
          ]
        },
        {
          "output_type": "stream",
          "name": "stderr",
          "text": [
            "t:  90%|████████▉ | 1162/1297 [01:27<00:08, 16.26it/s, now=None]"
          ]
        },
        {
          "output_type": "stream",
          "name": "stdout",
          "text": [
            "\u001b[32mGrayscale conversion complete\u001b[0m\n",
            "\u001b[34mGaussian blur applied\u001b[0m\n",
            "\u001b[32mGrayscale conversion complete\u001b[0m\n",
            "\u001b[34mGaussian blur applied\u001b[0m\n",
            "\u001b[32mGrayscale conversion complete\u001b[0m\n",
            "\u001b[34mGaussian blur applied\u001b[0m\n",
            "\u001b[32mGrayscale conversion complete\u001b[0m\n"
          ]
        },
        {
          "output_type": "stream",
          "name": "stderr",
          "text": [
            "\rt:  90%|████████▉ | 1164/1297 [01:27<00:08, 15.96it/s, now=None]"
          ]
        },
        {
          "output_type": "stream",
          "name": "stdout",
          "text": [
            "\u001b[34mGaussian blur applied\u001b[0m\n",
            "\u001b[32mGrayscale conversion complete\u001b[0m\n",
            "\u001b[34mGaussian blur applied\u001b[0m\n",
            "\u001b[32mGrayscale conversion complete\u001b[0m\n",
            "\u001b[34mGaussian blur applied\u001b[0m\n",
            "\u001b[32mGrayscale conversion complete\u001b[0m\n",
            "\u001b[34mGaussian blur applied\u001b[0m\n",
            "\u001b[32mGrayscale conversion complete\u001b[0m\n",
            "\u001b[34mGaussian blur applied\u001b[0m"
          ]
        },
        {
          "output_type": "stream",
          "name": "stderr",
          "text": [
            "\rt:  90%|████████▉ | 1167/1297 [01:27<00:08, 14.58it/s, now=None]"
          ]
        },
        {
          "output_type": "stream",
          "name": "stdout",
          "text": [
            "\n",
            "\u001b[32mGrayscale conversion complete\u001b[0m\n",
            "\u001b[34mGaussian blur applied\u001b[0m\n"
          ]
        },
        {
          "output_type": "stream",
          "name": "stderr",
          "text": [
            "\rt:  90%|█████████ | 1170/1297 [01:27<00:08, 14.84it/s, now=None]"
          ]
        },
        {
          "output_type": "stream",
          "name": "stdout",
          "text": [
            "\u001b[32mGrayscale conversion complete\u001b[0m\n",
            "\u001b[34mGaussian blur applied\u001b[0m\n",
            "\u001b[32mGrayscale conversion complete\u001b[0m\n",
            "\u001b[34mGaussian blur applied\u001b[0m\n",
            "\u001b[32mGrayscale conversion complete\u001b[0m\n",
            "\u001b[34mGaussian blur applied\u001b[0m\n"
          ]
        },
        {
          "output_type": "stream",
          "name": "stderr",
          "text": [
            "\rt:  90%|█████████ | 1172/1297 [01:27<00:07, 15.67it/s, now=None]"
          ]
        },
        {
          "output_type": "stream",
          "name": "stdout",
          "text": [
            "\u001b[32mGrayscale conversion complete\u001b[0m\n",
            "\u001b[34mGaussian blur applied\u001b[0m\n",
            "\u001b[32mGrayscale conversion complete\u001b[0m\n",
            "\u001b[34mGaussian blur applied\u001b[0m\n",
            "\u001b[32mGrayscale conversion complete\u001b[0m\n",
            "\u001b[34mGaussian blur applied\u001b[0m\n",
            "\u001b[32mGrayscale conversion complete\u001b[0m\n",
            "\u001b[34mGaussian blur applied\u001b[0m\n"
          ]
        },
        {
          "output_type": "stream",
          "name": "stderr",
          "text": [
            "t:  91%|█████████ | 1177/1297 [01:28<00:07, 15.31it/s, now=None]"
          ]
        },
        {
          "output_type": "stream",
          "name": "stdout",
          "text": [
            "\u001b[32mGrayscale conversion complete\u001b[0m\n",
            "\u001b[34mGaussian blur applied\u001b[0m\n",
            "\u001b[32mGrayscale conversion complete\u001b[0m\n",
            "\u001b[34mGaussian blur applied\u001b[0m\n",
            "\u001b[32mGrayscale conversion complete\u001b[0m\n",
            "\u001b[34mGaussian blur applied\u001b[0m\n",
            "\u001b[32mGrayscale conversion complete\u001b[0m\n",
            "\u001b[34mGaussian blur applied\u001b[0m\n"
          ]
        },
        {
          "output_type": "stream",
          "name": "stderr",
          "text": [
            "t:  91%|█████████ | 1181/1297 [01:28<00:06, 16.64it/s, now=None]"
          ]
        },
        {
          "output_type": "stream",
          "name": "stdout",
          "text": [
            "\u001b[32mGrayscale conversion complete\u001b[0m\n",
            "\u001b[34mGaussian blur applied\u001b[0m\n",
            "\u001b[32mGrayscale conversion complete\u001b[0m\n",
            "\u001b[34mGaussian blur applied\u001b[0m\n",
            "\u001b[32mGrayscale conversion complete\u001b[0m\n",
            "\u001b[34mGaussian blur applied\u001b[0m\n",
            "\u001b[32mGrayscale conversion complete\u001b[0m\n",
            "\u001b[34mGaussian blur applied\u001b[0m\n"
          ]
        },
        {
          "output_type": "stream",
          "name": "stderr",
          "text": [
            "t:  91%|█████████▏| 1185/1297 [01:28<00:07, 15.47it/s, now=None]"
          ]
        },
        {
          "output_type": "stream",
          "name": "stdout",
          "text": [
            "\u001b[32mGrayscale conversion complete\u001b[0m\n",
            "\u001b[34mGaussian blur applied\u001b[0m\n",
            "\u001b[32mGrayscale conversion complete\u001b[0m\n",
            "\u001b[34mGaussian blur applied\u001b[0m\n",
            "\u001b[32mGrayscale conversion complete\u001b[0m\n",
            "\u001b[34mGaussian blur applied\u001b[0m\n",
            "\u001b[32mGrayscale conversion complete\u001b[0m\n",
            "\u001b[34mGaussian blur applied\u001b[0m\n"
          ]
        },
        {
          "output_type": "stream",
          "name": "stderr",
          "text": [
            "t:  92%|█████████▏| 1189/1297 [01:29<00:06, 15.70it/s, now=None]"
          ]
        },
        {
          "output_type": "stream",
          "name": "stdout",
          "text": [
            "\u001b[32mGrayscale conversion complete\u001b[0m\n",
            "\u001b[34mGaussian blur applied\u001b[0m\n",
            "\u001b[32mGrayscale conversion complete\u001b[0m\n",
            "\u001b[34mGaussian blur applied\u001b[0m\n",
            "\u001b[32mGrayscale conversion complete\u001b[0m\n",
            "\u001b[34mGaussian blur applied\u001b[0m\n",
            "\u001b[32mGrayscale conversion complete\u001b[0m\n",
            "\u001b[34mGaussian blur applied\u001b[0m\n"
          ]
        },
        {
          "output_type": "stream",
          "name": "stderr",
          "text": [
            "t:  92%|█████████▏| 1193/1297 [01:29<00:06, 15.34it/s, now=None]"
          ]
        },
        {
          "output_type": "stream",
          "name": "stdout",
          "text": [
            "\u001b[32mGrayscale conversion complete\u001b[0m\n",
            "\u001b[34mGaussian blur applied\u001b[0m\n",
            "\u001b[32mGrayscale conversion complete\u001b[0m\n",
            "\u001b[34mGaussian blur applied\u001b[0m\n",
            "\u001b[32mGrayscale conversion complete\u001b[0m\n",
            "\u001b[34mGaussian blur applied\u001b[0m\n",
            "\u001b[32mGrayscale conversion complete\u001b[0m\n",
            "\u001b[34mGaussian blur applied\u001b[0m\n"
          ]
        },
        {
          "output_type": "stream",
          "name": "stderr",
          "text": [
            "t:  92%|█████████▏| 1197/1297 [01:29<00:06, 14.88it/s, now=None]"
          ]
        },
        {
          "output_type": "stream",
          "name": "stdout",
          "text": [
            "\u001b[32mGrayscale conversion complete\u001b[0m\n",
            "\u001b[34mGaussian blur applied\u001b[0m\n",
            "\u001b[32mGrayscale conversion complete\u001b[0m\n",
            "\u001b[34mGaussian blur applied\u001b[0m\n",
            "\u001b[32mGrayscale conversion complete\u001b[0m\n",
            "\u001b[34mGaussian blur applied\u001b[0m\n",
            "\u001b[32mGrayscale conversion complete\u001b[0m\n",
            "\u001b[34mGaussian blur applied\u001b[0m\n"
          ]
        },
        {
          "output_type": "stream",
          "name": "stderr",
          "text": [
            "t:  93%|█████████▎| 1201/1297 [01:29<00:07, 13.71it/s, now=None]"
          ]
        },
        {
          "output_type": "stream",
          "name": "stdout",
          "text": [
            "\u001b[32mGrayscale conversion complete\u001b[0m\n",
            "\u001b[34mGaussian blur applied\u001b[0m\n",
            "\u001b[32mGrayscale conversion complete\u001b[0m\n",
            "\u001b[34mGaussian blur applied\u001b[0m\n",
            "\u001b[32mGrayscale conversion complete\u001b[0m\n",
            "\u001b[34mGaussian blur applied\u001b[0m\n",
            "\u001b[32mGrayscale conversion complete\u001b[0m\n",
            "\u001b[34mGaussian blur applied\u001b[0m\n"
          ]
        },
        {
          "output_type": "stream",
          "name": "stderr",
          "text": [
            "t:  93%|█████████▎| 1205/1297 [01:30<00:06, 14.65it/s, now=None]"
          ]
        },
        {
          "output_type": "stream",
          "name": "stdout",
          "text": [
            "\u001b[32mGrayscale conversion complete\u001b[0m\n",
            "\u001b[34mGaussian blur applied\u001b[0m\n",
            "\u001b[32mGrayscale conversion complete\u001b[0m\n",
            "\u001b[34mGaussian blur applied\u001b[0m\n",
            "\u001b[32mGrayscale conversion complete\u001b[0m\n",
            "\u001b[34mGaussian blur applied\u001b[0m\n",
            "\u001b[32mGrayscale conversion complete\u001b[0m\n",
            "\u001b[34mGaussian blur applied\u001b[0m\n"
          ]
        },
        {
          "output_type": "stream",
          "name": "stderr",
          "text": [
            "t:  93%|█████████▎| 1209/1297 [01:30<00:06, 13.54it/s, now=None]"
          ]
        },
        {
          "output_type": "stream",
          "name": "stdout",
          "text": [
            "\u001b[32mGrayscale conversion complete\u001b[0m\n",
            "\u001b[34mGaussian blur applied\u001b[0m\n",
            "\u001b[32mGrayscale conversion complete\u001b[0m\n",
            "\u001b[34mGaussian blur applied\u001b[0m\n",
            "\u001b[32mGrayscale conversion complete\u001b[0m\n",
            "\u001b[34mGaussian blur applied\u001b[0m\n"
          ]
        },
        {
          "output_type": "stream",
          "name": "stderr",
          "text": [
            "\rt:  93%|█████████▎| 1211/1297 [01:30<00:07, 11.95it/s, now=None]"
          ]
        },
        {
          "output_type": "stream",
          "name": "stdout",
          "text": [
            "\u001b[32mGrayscale conversion complete\u001b[0m\n",
            "\u001b[34mGaussian blur applied\u001b[0m\n",
            "\u001b[32mGrayscale conversion complete\u001b[0m\n",
            "\u001b[34mGaussian blur applied\u001b[0m\n"
          ]
        },
        {
          "output_type": "stream",
          "name": "stderr",
          "text": [
            "\rt:  94%|█████████▎| 1213/1297 [01:30<00:07, 11.75it/s, now=None]"
          ]
        },
        {
          "output_type": "stream",
          "name": "stdout",
          "text": [
            "\u001b[32mGrayscale conversion complete\u001b[0m\n",
            "\u001b[34mGaussian blur applied\u001b[0m\n",
            "\u001b[32mGrayscale conversion complete\u001b[0m\n",
            "\u001b[34mGaussian blur applied\u001b[0m\n"
          ]
        },
        {
          "output_type": "stream",
          "name": "stderr",
          "text": [
            "\rt:  94%|█████████▎| 1215/1297 [01:31<00:07, 10.55it/s, now=None]"
          ]
        },
        {
          "output_type": "stream",
          "name": "stdout",
          "text": [
            "\u001b[32mGrayscale conversion complete\u001b[0m\n",
            "\u001b[34mGaussian blur applied\u001b[0m\n",
            "\u001b[32mGrayscale conversion complete\u001b[0m\n",
            "\u001b[34mGaussian blur applied\u001b[0m\n",
            "\u001b[32mGrayscale conversion complete\u001b[0m\n",
            "\u001b[34mGaussian blur applied\u001b[0m\n"
          ]
        },
        {
          "output_type": "stream",
          "name": "stderr",
          "text": [
            "\rt:  94%|█████████▍| 1217/1297 [01:31<00:07, 10.48it/s, now=None]"
          ]
        },
        {
          "output_type": "stream",
          "name": "stdout",
          "text": [
            "\u001b[32mGrayscale conversion complete\u001b[0m\n",
            "\u001b[34mGaussian blur applied\u001b[0m\n",
            "\u001b[32mGrayscale conversion complete\u001b[0m\n",
            "\u001b[34mGaussian blur applied\u001b[0m\n"
          ]
        },
        {
          "output_type": "stream",
          "name": "stderr",
          "text": [
            "t:  94%|█████████▍| 1221/1297 [01:31<00:07, 10.59it/s, now=None]"
          ]
        },
        {
          "output_type": "stream",
          "name": "stdout",
          "text": [
            "\u001b[32mGrayscale conversion complete\u001b[0m\n",
            "\u001b[34mGaussian blur applied\u001b[0m\n",
            "\u001b[32mGrayscale conversion complete\u001b[0m\n",
            "\u001b[34mGaussian blur applied\u001b[0m\n",
            "\u001b[32mGrayscale conversion complete\u001b[0m\n",
            "\u001b[34mGaussian blur applied\u001b[0m\n"
          ]
        },
        {
          "output_type": "stream",
          "name": "stderr",
          "text": [
            "t:  94%|█████████▍| 1224/1297 [01:32<00:08,  8.99it/s, now=None]"
          ]
        },
        {
          "output_type": "stream",
          "name": "stdout",
          "text": [
            "\u001b[32mGrayscale conversion complete\u001b[0m\n",
            "\u001b[34mGaussian blur applied\u001b[0m\n",
            "\u001b[32mGrayscale conversion complete\u001b[0m\n",
            "\u001b[34mGaussian blur applied\u001b[0m\n",
            "\u001b[32mGrayscale conversion complete\u001b[0m\n"
          ]
        },
        {
          "output_type": "stream",
          "name": "stderr",
          "text": [
            "\rt:  95%|█████████▍| 1226/1297 [01:32<00:07,  9.81it/s, now=None]"
          ]
        },
        {
          "output_type": "stream",
          "name": "stdout",
          "text": [
            "\u001b[34mGaussian blur applied\u001b[0m\n",
            "\u001b[32mGrayscale conversion complete\u001b[0m\n",
            "\u001b[34mGaussian blur applied\u001b[0m\n",
            "\u001b[32mGrayscale conversion complete\u001b[0m\n",
            "\u001b[34mGaussian blur applied\u001b[0m\n"
          ]
        },
        {
          "output_type": "stream",
          "name": "stderr",
          "text": [
            "\rt:  95%|█████████▍| 1228/1297 [01:32<00:06, 10.72it/s, now=None]"
          ]
        },
        {
          "output_type": "stream",
          "name": "stdout",
          "text": [
            "\u001b[32mGrayscale conversion complete\u001b[0m\n",
            "\u001b[34mGaussian blur applied\u001b[0m\n",
            "\u001b[32mGrayscale conversion complete\u001b[0m\n",
            "\u001b[34mGaussian blur applied\u001b[0m\n",
            "\u001b[32mGrayscale conversion complete\u001b[0m\n",
            "\u001b[34mGaussian blur applied\u001b[0m\n"
          ]
        },
        {
          "output_type": "stream",
          "name": "stderr",
          "text": [
            "t:  95%|█████████▍| 1232/1297 [01:32<00:06,  9.89it/s, now=None]"
          ]
        },
        {
          "output_type": "stream",
          "name": "stdout",
          "text": [
            "\u001b[32mGrayscale conversion complete\u001b[0m\n",
            "\u001b[34mGaussian blur applied\u001b[0m\n",
            "\u001b[32mGrayscale conversion complete\u001b[0m\n",
            "\u001b[34mGaussian blur applied\u001b[0m\n",
            "\u001b[32mGrayscale conversion complete\u001b[0m\n",
            "\u001b[34mGaussian blur applied\u001b[0m\n"
          ]
        },
        {
          "output_type": "stream",
          "name": "stderr",
          "text": [
            "\rt:  95%|█████████▌| 1234/1297 [01:33<00:06,  9.04it/s, now=None]"
          ]
        },
        {
          "output_type": "stream",
          "name": "stdout",
          "text": [
            "\u001b[32mGrayscale conversion complete\u001b[0m\n",
            "\u001b[34mGaussian blur applied\u001b[0m\n",
            "\u001b[32mGrayscale conversion complete\u001b[0m\n",
            "\u001b[34mGaussian blur applied\u001b[0m\n"
          ]
        },
        {
          "output_type": "stream",
          "name": "stderr",
          "text": [
            "\rt:  95%|█████████▌| 1236/1297 [01:33<00:06,  9.77it/s, now=None]"
          ]
        },
        {
          "output_type": "stream",
          "name": "stdout",
          "text": [
            "\u001b[32mGrayscale conversion complete\u001b[0m\n",
            "\u001b[34mGaussian blur applied\u001b[0m\n",
            "\u001b[32mGrayscale conversion complete\u001b[0m\n",
            "\u001b[34mGaussian blur applied\u001b[0m\n",
            "\u001b[32mGrayscale conversion complete\u001b[0m\n",
            "\u001b[34mGaussian blur applied\u001b[0m\n"
          ]
        },
        {
          "output_type": "stream",
          "name": "stderr",
          "text": [
            "t:  96%|█████████▌| 1240/1297 [01:33<00:06,  8.69it/s, now=None]"
          ]
        },
        {
          "output_type": "stream",
          "name": "stdout",
          "text": [
            "\u001b[32mGrayscale conversion complete\u001b[0m\n",
            "\u001b[34mGaussian blur applied\u001b[0m\n",
            "\u001b[32mGrayscale conversion complete\u001b[0m\n",
            "\u001b[34mGaussian blur applied\u001b[0m\n"
          ]
        },
        {
          "output_type": "stream",
          "name": "stderr",
          "text": [
            "\rt:  96%|█████████▌| 1242/1297 [01:34<00:05,  9.83it/s, now=None]"
          ]
        },
        {
          "output_type": "stream",
          "name": "stdout",
          "text": [
            "\u001b[32mGrayscale conversion complete\u001b[0m\n",
            "\u001b[34mGaussian blur applied\u001b[0m\n",
            "\u001b[32mGrayscale conversion complete\u001b[0m\n",
            "\u001b[34mGaussian blur applied\u001b[0m\n",
            "\u001b[32mGrayscale conversion complete\u001b[0m\n",
            "\u001b[34mGaussian blur applied\u001b[0m\n"
          ]
        },
        {
          "output_type": "stream",
          "name": "stderr",
          "text": [
            "\rt:  96%|█████████▌| 1244/1297 [01:34<00:05, 10.03it/s, now=None]"
          ]
        },
        {
          "output_type": "stream",
          "name": "stdout",
          "text": [
            "\u001b[32mGrayscale conversion complete\u001b[0m\n",
            "\u001b[34mGaussian blur applied\u001b[0m\n",
            "\u001b[32mGrayscale conversion complete\u001b[0m\n",
            "\u001b[34mGaussian blur applied\u001b[0m\n",
            "\u001b[32mGrayscale conversion complete\u001b[0m\n",
            "\u001b[34mGaussian blur applied\u001b[0m\n"
          ]
        },
        {
          "output_type": "stream",
          "name": "stderr",
          "text": [
            "t:  96%|█████████▌| 1248/1297 [01:34<00:04, 10.13it/s, now=None]"
          ]
        },
        {
          "output_type": "stream",
          "name": "stdout",
          "text": [
            "\u001b[32mGrayscale conversion complete\u001b[0m\n",
            "\u001b[34mGaussian blur applied\u001b[0m\n",
            "\u001b[32mGrayscale conversion complete\u001b[0m\n",
            "\u001b[34mGaussian blur applied\u001b[0m\n",
            "\u001b[32mGrayscale conversion complete\u001b[0m\n",
            "\u001b[34mGaussian blur applied\u001b[0m\n"
          ]
        },
        {
          "output_type": "stream",
          "name": "stderr",
          "text": [
            "\rt:  96%|█████████▋| 1250/1297 [01:34<00:05,  8.60it/s, now=None]"
          ]
        },
        {
          "output_type": "stream",
          "name": "stdout",
          "text": [
            "\u001b[32mGrayscale conversion complete\u001b[0m\n",
            "\u001b[34mGaussian blur applied\u001b[0m\n",
            "\u001b[32mGrayscale conversion complete\u001b[0m\n",
            "\u001b[34mGaussian blur applied\u001b[0m\n"
          ]
        },
        {
          "output_type": "stream",
          "name": "stderr",
          "text": [
            "\rt:  97%|█████████▋| 1252/1297 [01:35<00:05,  8.99it/s, now=None]"
          ]
        },
        {
          "output_type": "stream",
          "name": "stdout",
          "text": [
            "\u001b[32mGrayscale conversion complete\u001b[0m\n",
            "\u001b[34mGaussian blur applied\u001b[0m\n",
            "\u001b[32mGrayscale conversion complete\u001b[0m\n",
            "\u001b[34mGaussian blur applied\u001b[0m\n"
          ]
        },
        {
          "output_type": "stream",
          "name": "stderr",
          "text": [
            "\rt:  97%|█████████▋| 1254/1297 [01:35<00:05,  8.15it/s, now=None]"
          ]
        },
        {
          "output_type": "stream",
          "name": "stdout",
          "text": [
            "\u001b[32mGrayscale conversion complete\u001b[0m\n",
            "\u001b[34mGaussian blur applied\u001b[0m\n"
          ]
        },
        {
          "output_type": "stream",
          "name": "stderr",
          "text": [
            "t:  97%|█████████▋| 1256/1297 [01:35<00:04,  8.51it/s, now=None]"
          ]
        },
        {
          "output_type": "stream",
          "name": "stdout",
          "text": [
            "\u001b[32mGrayscale conversion complete\u001b[0m\n",
            "\u001b[34mGaussian blur applied\u001b[0m\n",
            "\u001b[32mGrayscale conversion complete\u001b[0m\n",
            "\u001b[34mGaussian blur applied\u001b[0m\n",
            "\u001b[32mGrayscale conversion complete\u001b[0m\n",
            "\u001b[34mGaussian blur applied\u001b[0m\n",
            "\u001b[32mGrayscale conversion complete\u001b[0m\n",
            "\u001b[34mGaussian blur applied\u001b[0m\n"
          ]
        },
        {
          "output_type": "stream",
          "name": "stderr",
          "text": [
            "t:  97%|█████████▋| 1259/1297 [01:35<00:04,  8.65it/s, now=None]"
          ]
        },
        {
          "output_type": "stream",
          "name": "stdout",
          "text": [
            "\u001b[32mGrayscale conversion complete\u001b[0m\n",
            "\u001b[34mGaussian blur applied\u001b[0m\n",
            "\u001b[32mGrayscale conversion complete\u001b[0m\n",
            "\u001b[34mGaussian blur applied\u001b[0m\n",
            "\u001b[32mGrayscale conversion complete\u001b[0m\n",
            "\u001b[34mGaussian blur applied\u001b[0m\n"
          ]
        },
        {
          "output_type": "stream",
          "name": "stderr",
          "text": [
            "\rt:  97%|█████████▋| 1261/1297 [01:36<00:03, 10.31it/s, now=None]"
          ]
        },
        {
          "output_type": "stream",
          "name": "stdout",
          "text": [
            "\u001b[32mGrayscale conversion complete\u001b[0m\n",
            "\u001b[34mGaussian blur applied\u001b[0m\n",
            "\u001b[32mGrayscale conversion complete\u001b[0m\n",
            "\u001b[34mGaussian blur applied\u001b[0m\n"
          ]
        },
        {
          "output_type": "stream",
          "name": "stderr",
          "text": [
            "t:  98%|█████████▊| 1265/1297 [01:36<00:03, 10.55it/s, now=None]"
          ]
        },
        {
          "output_type": "stream",
          "name": "stdout",
          "text": [
            "\u001b[32mGrayscale conversion complete\u001b[0m\n",
            "\u001b[34mGaussian blur applied\u001b[0m\n",
            "\u001b[32mGrayscale conversion complete\u001b[0m\n",
            "\u001b[34mGaussian blur applied\u001b[0m\n",
            "\u001b[32mGrayscale conversion complete\u001b[0m\n",
            "\u001b[34mGaussian blur applied\u001b[0m\n"
          ]
        },
        {
          "output_type": "stream",
          "name": "stderr",
          "text": [
            "t:  98%|█████████▊| 1269/1297 [01:36<00:02, 12.66it/s, now=None]"
          ]
        },
        {
          "output_type": "stream",
          "name": "stdout",
          "text": [
            "\u001b[32mGrayscale conversion complete\u001b[0m\n",
            "\u001b[34mGaussian blur applied\u001b[0m\n",
            "\u001b[32mGrayscale conversion complete\u001b[0m\n",
            "\u001b[34mGaussian blur applied\u001b[0m\n",
            "\u001b[32mGrayscale conversion complete\u001b[0m\n",
            "\u001b[34mGaussian blur applied\u001b[0m\n",
            "\u001b[32mGrayscale conversion complete\u001b[0m\n",
            "\u001b[34mGaussian blur applied\u001b[0m\n"
          ]
        },
        {
          "output_type": "stream",
          "name": "stderr",
          "text": [
            "\rt:  98%|█████████▊| 1271/1297 [01:36<00:02, 11.84it/s, now=None]"
          ]
        },
        {
          "output_type": "stream",
          "name": "stdout",
          "text": [
            "\u001b[32mGrayscale conversion complete\u001b[0m\n",
            "\u001b[34mGaussian blur applied\u001b[0m\n",
            "\u001b[32mGrayscale conversion complete\u001b[0m\n",
            "\u001b[34mGaussian blur applied\u001b[0m\n",
            "\u001b[32mGrayscale conversion complete\u001b[0m\n",
            "\u001b[34mGaussian blur applied\u001b[0m\n",
            "\u001b[32mGrayscale conversion complete\u001b[0m\n",
            "\u001b[34mGaussian blur applied\u001b[0m\n"
          ]
        },
        {
          "output_type": "stream",
          "name": "stderr",
          "text": [
            "t:  98%|█████████▊| 1276/1297 [01:37<00:01, 14.24it/s, now=None]"
          ]
        },
        {
          "output_type": "stream",
          "name": "stdout",
          "text": [
            "\u001b[32mGrayscale conversion complete\u001b[0m\n",
            "\u001b[34mGaussian blur applied\u001b[0m\n",
            "\u001b[32mGrayscale conversion complete\u001b[0m\n",
            "\u001b[34mGaussian blur applied\u001b[0m\n",
            "\u001b[32mGrayscale conversion complete\u001b[0m\n",
            "\u001b[34mGaussian blur applied\u001b[0m\n",
            "\u001b[32mGrayscale conversion complete\u001b[0m\n",
            "\u001b[34mGaussian blur applied\u001b[0m\n"
          ]
        },
        {
          "output_type": "stream",
          "name": "stderr",
          "text": [
            "t:  99%|█████████▉| 1281/1297 [01:37<00:01, 14.45it/s, now=None]"
          ]
        },
        {
          "output_type": "stream",
          "name": "stdout",
          "text": [
            "\u001b[32mGrayscale conversion complete\u001b[0m\n",
            "\u001b[34mGaussian blur applied\u001b[0m\n",
            "\u001b[32mGrayscale conversion complete\u001b[0m\n",
            "\u001b[34mGaussian blur applied\u001b[0m\n",
            "\u001b[32mGrayscale conversion complete\u001b[0m\n",
            "\u001b[34mGaussian blur applied\u001b[0m\n",
            "\u001b[32mGrayscale conversion complete\u001b[0m\n"
          ]
        },
        {
          "output_type": "stream",
          "name": "stderr",
          "text": [
            "\rt:  99%|█████████▉| 1283/1297 [01:37<00:00, 14.47it/s, now=None]"
          ]
        },
        {
          "output_type": "stream",
          "name": "stdout",
          "text": [
            "\u001b[34mGaussian blur applied\u001b[0m\n",
            "\u001b[32mGrayscale conversion complete\u001b[0m\n",
            "\u001b[34mGaussian blur applied\u001b[0m\n",
            "\u001b[32mGrayscale conversion complete\u001b[0m\n",
            "\u001b[34mGaussian blur applied\u001b[0m\n",
            "\u001b[32mGrayscale conversion complete\u001b[0m\n",
            "\u001b[34mGaussian blur applied\u001b[0m\n"
          ]
        },
        {
          "output_type": "stream",
          "name": "stderr",
          "text": [
            "t:  99%|█████████▉| 1287/1297 [01:37<00:00, 15.20it/s, now=None]"
          ]
        },
        {
          "output_type": "stream",
          "name": "stdout",
          "text": [
            "\u001b[32mGrayscale conversion complete\u001b[0m\n",
            "\u001b[34mGaussian blur applied\u001b[0m\n",
            "\u001b[32mGrayscale conversion complete\u001b[0m\n",
            "\u001b[34mGaussian blur applied\u001b[0m\n",
            "\u001b[32mGrayscale conversion complete\u001b[0m\n",
            "\u001b[34mGaussian blur applied\u001b[0m\n",
            "\u001b[32mGrayscale conversion complete\u001b[0m\n",
            "\u001b[34mGaussian blur applied\u001b[0m\n"
          ]
        },
        {
          "output_type": "stream",
          "name": "stderr",
          "text": [
            "t: 100%|█████████▉| 1292/1297 [01:38<00:00, 16.37it/s, now=None]"
          ]
        },
        {
          "output_type": "stream",
          "name": "stdout",
          "text": [
            "\u001b[32mGrayscale conversion complete\u001b[0m\n",
            "\u001b[34mGaussian blur applied\u001b[0m\n",
            "\u001b[32mGrayscale conversion complete\u001b[0m\n",
            "\u001b[34mGaussian blur applied\u001b[0m\n",
            "\u001b[32mGrayscale conversion complete\u001b[0m\n",
            "\u001b[34mGaussian blur applied\u001b[0m\n",
            "\u001b[32mGrayscale conversion complete\u001b[0m\n",
            "\u001b[34mGaussian blur applied\u001b[0m\n"
          ]
        },
        {
          "output_type": "stream",
          "name": "stderr",
          "text": [
            "t: 100%|█████████▉| 1296/1297 [01:38<00:00, 14.47it/s, now=None]"
          ]
        },
        {
          "output_type": "stream",
          "name": "stdout",
          "text": [
            "\u001b[32mGrayscale conversion complete\u001b[0m\n",
            "\u001b[34mGaussian blur applied\u001b[0m\n",
            "\u001b[32mGrayscale conversion complete\u001b[0m\n",
            "\u001b[34mGaussian blur applied\u001b[0m\n",
            "\u001b[32mGrayscale conversion complete\u001b[0m\n",
            "\u001b[34mGaussian blur applied\u001b[0m\n",
            "\u001b[32mGrayscale conversion complete\u001b[0m\n",
            "\u001b[34mGaussian blur applied\u001b[0m\n"
          ]
        },
        {
          "output_type": "stream",
          "name": "stderr",
          "text": []
        },
        {
          "output_type": "stream",
          "name": "stdout",
          "text": [
            "\u001b[32mGrayscale conversion complete\u001b[0m\n",
            "\u001b[34mGaussian blur applied\u001b[0m\n",
            "Moviepy - Done !\n",
            "Moviepy - video ready output_video.mp4\n"
          ]
        }
      ]
    }
  ]
}